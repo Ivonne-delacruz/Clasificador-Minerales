{
 "cells": [
  {
   "cell_type": "code",
   "execution_count": 3,
   "metadata": {
    "id": "506Y6LzQ8z-W"
   },
   "outputs": [],
   "source": [
    "import os\n",
    "import zipfile\n",
    "import tensorflow as tf\n",
    "from tensorflow.keras.preprocessing.image import ImageDataGenerator\n",
    "from tensorflow.keras.mixed_precision import Policy, set_global_policy"
   ]
  },
  {
   "cell_type": "code",
   "execution_count": 4,
   "metadata": {
    "colab": {
     "base_uri": "https://localhost:8080/",
     "height": 214
    },
    "id": "gZ8UCo77ePuT",
    "outputId": "c54415d6-75c9-437a-eb12-4a5aa976e98e"
   },
   "outputs": [],
   "source": [
    "# Selección de clases\n",
    "num_categories = 10\n",
    "images_dir = os.path.join(os.path.dirname(os.getcwd()), \"Clasificador-Minerales\", \"images_processed\")\n",
    "all_classes = sorted(os.listdir(images_dir))\n",
    "selected_classes = all_classes[:num_categories]"
   ]
  },
  {
   "cell_type": "code",
   "execution_count": 5,
   "metadata": {
    "colab": {
     "base_uri": "https://localhost:8080/"
    },
    "id": "rZWc2lHwedZ2",
    "outputId": "c2f470f9-aa06-4049-aee2-8d3f8815241a"
   },
   "outputs": [
    {
     "name": "stdout",
     "output_type": "stream",
     "text": [
      "Found 42500 images belonging to 10 classes.\n",
      "Found 7500 images belonging to 10 classes.\n"
     ]
    }
   ],
   "source": [
    "# Generador de imágenes con aumento de datos\n",
    "img_height = 96\n",
    "img_width = 96\n",
    "val_split=0.15\n",
    "batch_size = 64\n",
    "\n",
    "train_datagen = ImageDataGenerator(\n",
    "    rescale=1.0 / 255.0,\n",
    "    validation_split=val_split,\n",
    "    rotation_range=30,\n",
    "    width_shift_range=0.3,\n",
    "    height_shift_range=0.3,\n",
    "    shear_range=0.3,\n",
    "    zoom_range=0.3,\n",
    "    horizontal_flip=True,\n",
    "    fill_mode='nearest'\n",
    ")\n",
    "\n",
    "# Generador del conjunto de entrenamiento\n",
    "train_generator = train_datagen.flow_from_directory(\n",
    "    images_dir,\n",
    "    target_size=(img_height, img_width),\n",
    "    batch_size=batch_size,\n",
    "    class_mode='categorical',\n",
    "    subset='training',\n",
    "    classes=selected_classes,\n",
    "    shuffle=True\n",
    ")\n",
    "\n",
    "# Generador del conjunto de validación\n",
    "validation_generator = train_datagen.flow_from_directory(\n",
    "    images_dir,\n",
    "    target_size=(img_height, img_width),\n",
    "    batch_size=batch_size,\n",
    "    class_mode='categorical',\n",
    "    subset='validation',\n",
    "    classes=selected_classes,\n",
    "    shuffle=False\n",
    ")"
   ]
  },
  {
   "cell_type": "code",
   "execution_count": 6,
   "metadata": {
    "id": "dERSkiUSedqN"
   },
   "outputs": [],
   "source": [
    "# Agrega repetición y precarga\n",
    "train_dataset = tf.data.Dataset.from_generator(\n",
    "    lambda: train_generator,\n",
    "    output_signature=(\n",
    "        tf.TensorSpec(shape=(None, img_height, img_width, 3), dtype=tf.float32),\n",
    "        tf.TensorSpec(shape=(None, num_categories), dtype=tf.float32)\n",
    "    )\n",
    ")\n",
    "\n",
    "validation_dataset = tf.data.Dataset.from_generator(\n",
    "    lambda: validation_generator,\n",
    "    output_signature=(\n",
    "        tf.TensorSpec(shape=(None, img_height, img_width, 3), dtype=tf.float32),\n",
    "        tf.TensorSpec(shape=(None, num_categories), dtype=tf.float32)\n",
    "    )\n",
    ")\n",
    "\n",
    "train_dataset = train_dataset.repeat()\n",
    "validation_dataset = validation_dataset.repeat()\n",
    "\n",
    "train_dataset = train_dataset.prefetch(tf.data.AUTOTUNE)\n",
    "validation_dataset = validation_dataset.prefetch(tf.data.AUTOTUNE)"
   ]
  },
  {
   "cell_type": "code",
   "execution_count": 7,
   "metadata": {
    "colab": {
     "base_uri": "https://localhost:8080/",
     "height": 391
    },
    "id": "AdHxGtLwbZxu",
    "outputId": "f613ee99-9044-4718-fa9a-20bdf1d5c1b3"
   },
   "outputs": [],
   "source": [
    "from tensorflow.keras import layers, models, regularizers\n",
    "from tensorflow.keras.callbacks import ReduceLROnPlateau"
   ]
  },
  {
   "cell_type": "code",
   "execution_count": 14,
   "metadata": {
    "id": "RI_3gwoM_OEy"
   },
   "outputs": [],
   "source": [
    "# Parámetros usados para entrenar\n",
    "\n",
    "# Tamaño del filtro\n",
    "kernel_size = (3, 3)\n",
    "\n",
    "# Funciones de activación\n",
    "layer_activation = \"relu\"\n",
    "output_activation = \"softmax\"\n",
    "\n",
    "# Tamaño después de convolución\n",
    "padding = \"same\"\n",
    "\n",
    "# Reducción\n",
    "pool_size = (2, 2)\n",
    "\n",
    "# Optimizador\n",
    "optimizer = \"adam\"\n",
    "\n",
    "# Medición del rendimiento\n",
    "loss = \"categorical_crossentropy\"\n",
    "metrics = [\"accuracy\"]\n",
    "\n",
    "# Duración del entrenamiento\n",
    "epochs = 10\n",
    "\n",
    "# Ajusta dinámicamente la tasa de entrenamiento cuando no hay mejora\n",
    "reduce_lr = ReduceLROnPlateau(\n",
    "    monitor=\"val_loss\",\n",
    "    factor=0.5,\n",
    "    patience=2,\n",
    "    min_lr=5e-6\n",
    ")\n",
    "\n",
    "callbacks = [reduce_lr]"
   ]
  },
  {
   "cell_type": "code",
   "execution_count": 16,
   "metadata": {
    "id": "_LZC7EnVBdFP"
   },
   "outputs": [],
   "source": [
    "from keras_tuner import HyperModel, RandomSearch"
   ]
  },
  {
   "cell_type": "code",
   "execution_count": 20,
   "metadata": {
    "id": "sMp23F3sedta"
   },
   "outputs": [],
   "source": [
    "# Definición del modelo con Keras Tuner para optimización de hiperparámetros\n",
    "class MyHyperModel(HyperModel):\n",
    "    def build(self, hp):\n",
    "        model = models.Sequential([\n",
    "\n",
    "        # Entrada\n",
    "        layers.Input(shape=(img_height, img_width, 3)),\n",
    "\n",
    "        # Capa 1\n",
    "        layers.Conv2D(64, (5, 5), activation=layer_activation, padding=padding),\n",
    "        layers.BatchNormalization(),\n",
    "        layers.MaxPooling2D(pool_size),\n",
    "\n",
    "        # Capa 2\n",
    "        layers.Conv2D(128, (5, 5), activation=layer_activation, padding=padding),\n",
    "        layers.BatchNormalization(),\n",
    "        layers.MaxPooling2D(pool_size),\n",
    "\n",
    "        # Capa 3\n",
    "        layers.Conv2D(256, kernel_size, activation=layer_activation, padding=padding, \n",
    "                      kernel_regularizer=regularizers.l2(\n",
    "                          hp.Float('l2_regularization_c3', min_value=0.001, max_value=0.01, sampling=\"linear\"))),\n",
    "        layers.BatchNormalization(),\n",
    "        layers.MaxPooling2D(pool_size),\n",
    "\n",
    "        # Capa 4\n",
    "        layers.Conv2D(512, kernel_size, activation=layer_activation, padding=padding, \n",
    "                      kernel_regularizer=regularizers.l2(\n",
    "                            hp.Float('l2_regularization_c4', min_value=0.001, max_value=0.01, sampling=\"linear\"))),\n",
    "        layers.BatchNormalization(),\n",
    "        layers.MaxPooling2D(pool_size),\n",
    "\n",
    "        # Aplanamiento global\n",
    "        layers.GlobalAveragePooling2D(),\n",
    "\n",
    "        # Capa densa 1\n",
    "        layers.Dense(256, activation=layer_activation),\n",
    "        layers.BatchNormalization(),\n",
    "        layers.Dropout(hp.Choice('dropout_rate', [0.3, 0.4, 0.5])),\n",
    "\n",
    "        # Capa de salida\n",
    "        layers.Dense(num_categories, activation=output_activation)\n",
    "\n",
    "        ])\n",
    "\n",
    "        model.compile(optimizer=optimizer, loss=loss, metrics=metrics)\n",
    "\n",
    "        return model"
   ]
  },
  {
   "cell_type": "code",
   "execution_count": 22,
   "metadata": {
    "id": "COdFeG9pH6zz"
   },
   "outputs": [],
   "source": [
    "# Modelo para ajustar\n",
    "hypermodel = MyHyperModel()"
   ]
  },
  {
   "cell_type": "code",
   "execution_count": 24,
   "metadata": {
    "colab": {
     "base_uri": "https://localhost:8080/"
    },
    "id": "vQf56PWaIPzL",
    "outputId": "49881497-97d6-406c-fc7c-8303b0788a0d"
   },
   "outputs": [],
   "source": [
    "# Realiza la búsqueda aleatoria de hiperparámetros\n",
    "tuner = RandomSearch(\n",
    "    hypermodel,\n",
    "    objective='val_accuracy',\n",
    "    max_trials=10,\n",
    "    executions_per_trial=1,\n",
    "    directory='keras_tuning',\n",
    "    project_name='hyperparameter_tuning'\n",
    ")"
   ]
  },
  {
   "cell_type": "code",
   "execution_count": 26,
   "metadata": {
    "colab": {
     "base_uri": "https://localhost:8080/"
    },
    "id": "XoNJKLyHQrTr",
    "outputId": "ef758b5e-aa77-4232-f042-1e981274d27c"
   },
   "outputs": [
    {
     "name": "stdout",
     "output_type": "stream",
     "text": [
      "Trial 10 Complete [02h 33m 23s]\n",
      "val_accuracy: 0.5689886808395386\n",
      "\n",
      "Best val_accuracy So Far: 0.5716783404350281\n",
      "Total elapsed time: 1d 01h 21m 56s\n"
     ]
    }
   ],
   "source": [
    "# Realiza la búsqueda de hiperparámetros\n",
    "tuner.search(\n",
    "    train_dataset,\n",
    "    epochs=epochs,\n",
    "    validation_data=validation_dataset,\n",
    "    validation_steps=validation_generator.samples // batch_size,\n",
    "    steps_per_epoch=train_generator.samples // batch_size,\n",
    ")"
   ]
  },
  {
   "cell_type": "code",
   "execution_count": 27,
   "metadata": {
    "colab": {
     "base_uri": "https://localhost:8080/"
    },
    "id": "yWbx5M3fIbbL",
    "outputId": "4162f897-26ab-42b9-8f66-023b4b0d04a7"
   },
   "outputs": [
    {
     "name": "stdout",
     "output_type": "stream",
     "text": [
      "Hiperparámetros: {'l2_regularization_c3': 0.006338744727838089, 'l2_regularization_c4': 0.0015896011045181528, 'dropout_rate': 0.5}\n",
      "Precisión en validación: 0.5716783404350281\n",
      "---------------\n",
      "Hiperparámetros: {'l2_regularization_c3': 0.004900747776173999, 'l2_regularization_c4': 0.0021407626555321685, 'dropout_rate': 0.3}\n",
      "Precisión en validación: 0.5509682893753052\n",
      "---------------\n",
      "Hiperparámetros: {'l2_regularization_c3': 0.0014721556777691986, 'l2_regularization_c4': 0.0014088164972463355, 'dropout_rate': 0.4}\n",
      "Precisión en validación: 0.5706024765968323\n",
      "---------------\n",
      "Hiperparámetros: {'l2_regularization_c3': 0.001946009494161979, 'l2_regularization_c4': 0.009040013582410376, 'dropout_rate': 0.5}\n",
      "Precisión en validación: 0.543840765953064\n",
      "---------------\n",
      "Hiperparámetros: {'l2_regularization_c3': 0.0063321741447666755, 'l2_regularization_c4': 0.009490248698671207, 'dropout_rate': 0.5}\n",
      "Precisión en validación: 0.5488165616989136\n",
      "---------------\n",
      "Hiperparámetros: {'l2_regularization_c3': 0.008309748005483366, 'l2_regularization_c4': 0.0020253798084422002, 'dropout_rate': 0.3}\n",
      "Precisión en validación: 0.5551371574401855\n",
      "---------------\n",
      "Hiperparámetros: {'l2_regularization_c3': 0.0035132859294365873, 'l2_regularization_c4': 0.006430807706619408, 'dropout_rate': 0.3}\n",
      "Precisión en validación: 0.5478752255439758\n",
      "---------------\n",
      "Hiperparámetros: {'l2_regularization_c3': 0.009707035476048669, 'l2_regularization_c4': 0.0029090277076877745, 'dropout_rate': 0.5}\n",
      "Precisión en validación: 0.545589029788971\n",
      "---------------\n",
      "Hiperparámetros: {'l2_regularization_c3': 0.006239626245298306, 'l2_regularization_c4': 0.003265767431457398, 'dropout_rate': 0.3}\n",
      "Precisión en validación: 0.5494889616966248\n",
      "---------------\n",
      "Hiperparámetros: {'l2_regularization_c3': 0.002056426345979632, 'l2_regularization_c4': 0.008390886791062726, 'dropout_rate': 0.4}\n",
      "Precisión en validación: 0.5689886808395386\n",
      "---------------\n"
     ]
    }
   ],
   "source": [
    "# Muestra los resultados de todas las combinaciones de hiperparámetros\n",
    "for trial in tuner.oracle.trials.values():\n",
    "    trial_hps = trial.hyperparameters.values\n",
    "    val_accuracy = trial.score\n",
    "    print(f\"Hiperparámetros: {trial_hps}\")\n",
    "    print(f\"Precisión en validación: {val_accuracy}\")\n",
    "    print(\"---------------\")"
   ]
  }
 ],
 "metadata": {
  "accelerator": "GPU",
  "colab": {
   "gpuType": "T4",
   "provenance": []
  },
  "kernelspec": {
   "display_name": "Python 3 (ipykernel)",
   "language": "python",
   "name": "python3"
  },
  "language_info": {
   "codemirror_mode": {
    "name": "ipython",
    "version": 3
   },
   "file_extension": ".py",
   "mimetype": "text/x-python",
   "name": "python",
   "nbconvert_exporter": "python",
   "pygments_lexer": "ipython3",
   "version": "3.12.4"
  }
 },
 "nbformat": 4,
 "nbformat_minor": 4
}
