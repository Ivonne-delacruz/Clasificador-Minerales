{
 "cells": [
  {
   "cell_type": "code",
   "execution_count": null,
   "metadata": {
    "id": "506Y6LzQ8z-W"
   },
   "outputs": [],
   "source": [
    "import os\n",
    "import zipfile\n",
    "import tensorflow as tf\n",
    "from google.colab import drive\n",
    "from tensorflow.keras.preprocessing.image import ImageDataGenerator\n",
    "from tensorflow.keras.mixed_precision import Policy, set_global_policy"
   ]
  },
  {
   "cell_type": "code",
   "execution_count": null,
   "metadata": {
    "colab": {
     "base_uri": "https://localhost:8080/"
    },
    "id": "tpTUxlQmoUzN",
    "outputId": "4ff13654-f915-4c81-9726-a722525bdb78"
   },
   "outputs": [
    {
     "name": "stdout",
     "output_type": "stream",
     "text": [
      "Configuración de crecimiento de memoria establecida para la GPU.\n"
     ]
    }
   ],
   "source": [
    "gpus = tf.config.list_physical_devices('GPU')\n",
    "if gpus:\n",
    "    try:\n",
    "        for gpu in gpus:\n",
    "            tf.config.experimental.set_memory_growth(gpu, True)\n",
    "        print(\"Configuración de crecimiento de memoria establecida para la GPU.\")\n",
    "    except RuntimeError as e:\n",
    "        print(f\"Error al configurar el crecimiento de memoria: {e}\")"
   ]
  },
  {
   "cell_type": "code",
   "execution_count": null,
   "metadata": {
    "colab": {
     "base_uri": "https://localhost:8080/"
    },
    "id": "NIPRkp-fraBJ",
    "outputId": "cf9e5cbb-4f1e-4aef-c50b-7b438c283c5f"
   },
   "outputs": [
    {
     "name": "stdout",
     "output_type": "stream",
     "text": [
      "Mounted at /drive\n"
     ]
    }
   ],
   "source": [
    "# Carga de datos\n",
    "drive.mount('/drive')"
   ]
  },
  {
   "cell_type": "code",
   "execution_count": null,
   "metadata": {
    "id": "M6iEIKitdypm"
   },
   "outputs": [],
   "source": [
    "# Se extrae el archivo zip\n",
    "zip_path = '/drive/MyDrive/images_processed.zip'\n",
    "images_dir = 'images_processed'\n",
    "\n",
    "with zipfile.ZipFile(zip_path, 'r') as zip_file:\n",
    "    zip_file.extractall(images_dir)"
   ]
  },
  {
   "cell_type": "code",
   "execution_count": 1,
   "metadata": {
    "colab": {
     "base_uri": "https://localhost:8080/",
     "height": 214
    },
    "id": "gZ8UCo77ePuT",
    "outputId": "c54415d6-75c9-437a-eb12-4a5aa976e98e"
   },
   "outputs": [
    {
     "ename": "NameError",
     "evalue": "name 'os' is not defined",
     "output_type": "error",
     "traceback": [
      "\u001b[0;31m---------------------------------------------------------------------------\u001b[0m",
      "\u001b[0;31mNameError\u001b[0m                                 Traceback (most recent call last)",
      "\u001b[0;32m<ipython-input-1-31e7f35b6e12>\u001b[0m in \u001b[0;36m<cell line: 4>\u001b[0;34m()\u001b[0m\n\u001b[1;32m      2\u001b[0m \u001b[0mextract_dir\u001b[0m \u001b[0;34m=\u001b[0m \u001b[0;34m'images_processed'\u001b[0m\u001b[0;34m\u001b[0m\u001b[0;34m\u001b[0m\u001b[0m\n\u001b[1;32m      3\u001b[0m \u001b[0;31m# Lista todas las clases disponibles\u001b[0m\u001b[0;34m\u001b[0m\u001b[0;34m\u001b[0m\u001b[0m\n\u001b[0;32m----> 4\u001b[0;31m \u001b[0mall_classes\u001b[0m \u001b[0;34m=\u001b[0m \u001b[0msorted\u001b[0m\u001b[0;34m(\u001b[0m\u001b[0mos\u001b[0m\u001b[0;34m.\u001b[0m\u001b[0mlistdir\u001b[0m\u001b[0;34m(\u001b[0m\u001b[0mextract_dir\u001b[0m\u001b[0;34m)\u001b[0m\u001b[0;34m)\u001b[0m\u001b[0;34m\u001b[0m\u001b[0;34m\u001b[0m\u001b[0m\n\u001b[0m\u001b[1;32m      5\u001b[0m \u001b[0;34m\u001b[0m\u001b[0m\n\u001b[1;32m      6\u001b[0m \u001b[0;31m# Selecciona las primeras clases\u001b[0m\u001b[0;34m\u001b[0m\u001b[0;34m\u001b[0m\u001b[0m\n",
      "\u001b[0;31mNameError\u001b[0m: name 'os' is not defined"
     ]
    }
   ],
   "source": [
    "# Selección de clases\n",
    "num_categories = 10\n",
    "all_classes = sorted(os.listdir(extract_dir))\n",
    "selected_classes = all_classes[:num_categories]"
   ]
  },
  {
   "cell_type": "code",
   "execution_count": null,
   "metadata": {
    "colab": {
     "base_uri": "https://localhost:8080/"
    },
    "id": "rZWc2lHwedZ2",
    "outputId": "c2f470f9-aa06-4049-aee2-8d3f8815241a"
   },
   "outputs": [
    {
     "name": "stdout",
     "output_type": "stream",
     "text": [
      "Found 45000 images belonging to 10 classes.\n",
      "Found 5000 images belonging to 10 classes.\n"
     ]
    }
   ],
   "source": [
    "# Generador de imágenes con aumento de datos\n",
    "img_height = 96\n",
    "img_width = 96\n",
    "val_split=0.15\n",
    "batch_size = 64\n",
    "\n",
    "train_datagen = ImageDataGenerator(\n",
    "    rescale=1.0 / 255.0,\n",
    "    validation_split=val_split,\n",
    "    rotation_range=30,\n",
    "    width_shift_range=0.3,\n",
    "    height_shift_range=0.3,\n",
    "    shear_range=0.3,\n",
    "    zoom_range=0.3,\n",
    "    horizontal_flip=True,\n",
    "    fill_mode='nearest'\n",
    ")\n",
    "\n",
    "# Generador del conjunto de entrenamiento\n",
    "train_generator = train_datagen.flow_from_directory(\n",
    "    images_dir,\n",
    "    target_size=(img_height, img_width),\n",
    "    batch_size=batch_size,\n",
    "    class_mode='categorical',\n",
    "    subset='training',\n",
    "    classes=selected_classes,\n",
    "    shuffle=True\n",
    ")\n",
    "\n",
    "# Generador del conjunto de validación\n",
    "validation_generator = train_datagen.flow_from_directory(\n",
    "    images_dir,\n",
    "    target_size=(img_height, img_width),\n",
    "    batch_size=batch_size,\n",
    "    class_mode='categorical',\n",
    "    subset='validation',\n",
    "    classes=selected_classes,\n",
    "    shuffle=False\n",
    ")"
   ]
  },
  {
   "cell_type": "code",
   "execution_count": null,
   "metadata": {
    "id": "dERSkiUSedqN"
   },
   "outputs": [],
   "source": [
    "# Agrega repetición y precarga\n",
    "train_dataset = tf.data.Dataset.from_generator(\n",
    "    lambda: train_generator,\n",
    "    output_signature=(\n",
    "        tf.TensorSpec(shape=(None, img_height, img_width, 3), dtype=tf.float32),\n",
    "        tf.TensorSpec(shape=(None, num_categories), dtype=tf.float32)\n",
    "    )\n",
    ")\n",
    "\n",
    "validation_dataset = tf.data.Dataset.from_generator(\n",
    "    lambda: validation_generator,\n",
    "    output_signature=(\n",
    "        tf.TensorSpec(shape=(None, img_height, img_width, 3), dtype=tf.float32),\n",
    "        tf.TensorSpec(shape=(None, num_categories), dtype=tf.float32)\n",
    "    )\n",
    ")\n",
    "\n",
    "train_dataset = train_dataset.repeat()\n",
    "validation_dataset = validation_dataset.repeat()\n",
    "\n",
    "train_dataset = train_dataset.prefetch(tf.data.AUTOTUNE)\n",
    "validation_dataset = validation_dataset.prefetch(tf.data.AUTOTUNE)"
   ]
  },
  {
   "cell_type": "code",
   "execution_count": null,
   "metadata": {
    "colab": {
     "base_uri": "https://localhost:8080/"
    },
    "id": "k6FedO_qoc3D",
    "outputId": "f4bf73a5-2423-4f0e-b96c-62288455765c"
   },
   "outputs": [
    {
     "name": "stdout",
     "output_type": "stream",
     "text": [
      "Política de precisión actual: <DTypePolicy \"mixed_float16\">\n"
     ]
    }
   ],
   "source": [
    "# Usa precisión mixta\n",
    "policy = Policy('mixed_float16')\n",
    "set_global_policy(policy)\n",
    "print(f\"Política de precisión actual: {tf.keras.mixed_precision.global_policy()}\")"
   ]
  },
  {
   "cell_type": "code",
   "execution_count": 1,
   "metadata": {
    "colab": {
     "base_uri": "https://localhost:8080/",
     "height": 391
    },
    "id": "AdHxGtLwbZxu",
    "outputId": "f613ee99-9044-4718-fa9a-20bdf1d5c1b3"
   },
   "outputs": [
    {
     "ename": "ModuleNotFoundError",
     "errorDetails": {
      "actions": [
       {
        "action": "open_url",
        "actionText": "Open Examples",
        "url": "/notebooks/snippets/importing_libraries.ipynb"
       }
      ]
     },
     "evalue": "No module named 'keras_tuner'",
     "output_type": "error",
     "traceback": [
      "\u001b[0;31m---------------------------------------------------------------------------\u001b[0m",
      "\u001b[0;31mModuleNotFoundError\u001b[0m                       Traceback (most recent call last)",
      "\u001b[0;32m<ipython-input-1-e3d563eb7ac1>\u001b[0m in \u001b[0;36m<cell line: 2>\u001b[0;34m()\u001b[0m\n\u001b[1;32m      1\u001b[0m \u001b[0;32mfrom\u001b[0m \u001b[0mgoogle\u001b[0m\u001b[0;34m.\u001b[0m\u001b[0mcolab\u001b[0m \u001b[0;32mimport\u001b[0m \u001b[0mdrive\u001b[0m\u001b[0;34m\u001b[0m\u001b[0;34m\u001b[0m\u001b[0m\n\u001b[0;32m----> 2\u001b[0;31m \u001b[0;32mfrom\u001b[0m \u001b[0mkeras_tuner\u001b[0m \u001b[0;32mimport\u001b[0m \u001b[0mHyperModel\u001b[0m\u001b[0;34m,\u001b[0m \u001b[0mRandomSearch\u001b[0m\u001b[0;34m\u001b[0m\u001b[0;34m\u001b[0m\u001b[0m\n\u001b[0m\u001b[1;32m      3\u001b[0m \u001b[0;34m\u001b[0m\u001b[0m\n\u001b[1;32m      4\u001b[0m \u001b[0;32mfrom\u001b[0m \u001b[0mtensorflow\u001b[0m\u001b[0;34m.\u001b[0m\u001b[0mkeras\u001b[0m \u001b[0;32mimport\u001b[0m \u001b[0mlayers\u001b[0m\u001b[0;34m,\u001b[0m \u001b[0mmodels\u001b[0m\u001b[0;34m,\u001b[0m \u001b[0mregularizers\u001b[0m\u001b[0;34m\u001b[0m\u001b[0;34m\u001b[0m\u001b[0m\n\u001b[1;32m      5\u001b[0m \u001b[0;34m\u001b[0m\u001b[0m\n",
      "\u001b[0;31mModuleNotFoundError\u001b[0m: No module named 'keras_tuner'",
      "",
      "\u001b[0;31m---------------------------------------------------------------------------\u001b[0;32m\nNOTE: If your import is failing due to a missing package, you can\nmanually install dependencies using either !pip or !apt.\n\nTo view examples of installing some common dependencies, click the\n\"Open Examples\" button below.\n\u001b[0;31m---------------------------------------------------------------------------\u001b[0m\n"
     ]
    }
   ],
   "source": [
    "from tensorflow.keras import layers, models, regularizers\n",
    "from tensorflow.keras.callbacks import ReduceLROnPlateau"
   ]
  },
  {
   "cell_type": "code",
   "execution_count": null,
   "metadata": {
    "id": "RI_3gwoM_OEy"
   },
   "outputs": [],
   "source": [
    "# Parámetros usados para entrenar\n",
    "\n",
    "# Tamaño del filtro\n",
    "kernel_size = (3, 3)\n",
    "\n",
    "# Funciones de activación\n",
    "layer_activation = \"relu\"\n",
    "output_activation = \"softmax\"\n",
    "\n",
    "# Tamaño después de convolución\n",
    "padding = \"same\"\n",
    "\n",
    "# Reducción\n",
    "pool_size = (2, 2)\n",
    "\n",
    "# Optimizador\n",
    "optimizer = \"adam\"\n",
    "\n",
    "# Medición del rendimiento\n",
    "loss = \"categorical_crossentropy\"\n",
    "metrics = [\"accuracy\"]\n",
    "\n",
    "# Duración del entrenamiento\n",
    "epochs = 15\n",
    "\n",
    "# Ajusta dinámicamente la tasa de entrenamiento cuando no hay mejora\n",
    "reduce_lr = ReduceLROnPlateau(\n",
    "    monitor=\"val_loss\",\n",
    "    factor=0.8,\n",
    "    patience=2,\n",
    "    min_lr=5e-6\n",
    ")\n",
    "\n",
    "callbacks = [reduce_lr]"
   ]
  },
  {
   "cell_type": "code",
   "execution_count": null,
   "metadata": {
    "id": "_LZC7EnVBdFP"
   },
   "outputs": [],
   "source": [
    "from keras_tuner import HyperModel, RandomSearch"
   ]
  },
  {
   "cell_type": "code",
   "execution_count": null,
   "metadata": {
    "id": "sMp23F3sedta"
   },
   "outputs": [],
   "source": [
    "# Definición del modelo con Keras Tuner para optimización de hiperparámetros\n",
    "class MyHyperModel(HyperModel):\n",
    "    def build(self, hp):\n",
    "        model = models.Sequential([\n",
    "\n",
    "        # Entrada\n",
    "        layers.Input(shape=(img_height, img_width, 3)),\n",
    "\n",
    "        # Capa 1\n",
    "        layers.Conv2D(64, (5, 5), activation=layer_activation, padding=padding),\n",
    "        layers.BatchNormalization(),\n",
    "        layers.MaxPooling2D(pool_size),\n",
    "\n",
    "        # Capa 2\n",
    "        layers.Conv2D(128, (5, 5), activation=layer_activation, padding=padding),\n",
    "        layers.BatchNormalization(),\n",
    "        layers.MaxPooling2D(pool_size),\n",
    "\n",
    "        # Capa 3\n",
    "        layers.Conv2D(256, kernel_size, activation=layer_activation, padding=padding),\n",
    "        layers.BatchNormalization(),\n",
    "        layers.MaxPooling2D(pool_size),\n",
    "\n",
    "        # Capa 4\n",
    "        layers.Conv2D(512, kernel_size, activation=layer_activation, padding=padding),\n",
    "        layers.BatchNormalization(),\n",
    "        layers.MaxPooling2D(pool_size),\n",
    "\n",
    "        # Aplanamiento global\n",
    "        layers.GlobalAveragePooling2D(),\n",
    "\n",
    "        # Capa densa 1\n",
    "        layers.Dense(256, activation=layer_activation),\n",
    "        layers.BatchNormalization(),\n",
    "\n",
    "        # Capa de salida\n",
    "        layers.Dense(num_categories, activation=output_activation)\n",
    "\n",
    "        ])\n",
    "\n",
    "        model.compile(optimizer=optimizer, loss=loss, metrics=metrics)\n",
    "\n",
    "        return model"
   ]
  },
  {
   "cell_type": "code",
   "execution_count": null,
   "metadata": {
    "id": "COdFeG9pH6zz"
   },
   "outputs": [],
   "source": [
    "# Modelo para ajustar\n",
    "hypermodel = MyHyperModel()"
   ]
  },
  {
   "cell_type": "code",
   "execution_count": null,
   "metadata": {
    "colab": {
     "base_uri": "https://localhost:8080/"
    },
    "id": "vQf56PWaIPzL",
    "outputId": "49881497-97d6-406c-fc7c-8303b0788a0d"
   },
   "outputs": [
    {
     "name": "stderr",
     "output_type": "stream",
     "text": [
      "/usr/local/lib/python3.10/dist-packages/keras/src/layers/convolutional/base_conv.py:107: UserWarning: Do not pass an `input_shape`/`input_dim` argument to a layer. When using Sequential models, prefer using an `Input(shape)` object as the first layer in the model instead.\n",
      "  super().__init__(activity_regularizer=activity_regularizer, **kwargs)\n"
     ]
    }
   ],
   "source": [
    "# Realiza la búsqueda aleatoria de hiperparámetros\n",
    "tuner = RandomSearch(\n",
    "    hypermodel,\n",
    "    objective='val_accuracy',\n",
    "    max_trials=10,\n",
    "    executions_per_trial=1,\n",
    "    directory='keras_tuning',\n",
    "    project_name='hyperparameter_tuning'\n",
    ")"
   ]
  },
  {
   "cell_type": "code",
   "execution_count": null,
   "metadata": {
    "colab": {
     "base_uri": "https://localhost:8080/"
    },
    "id": "XoNJKLyHQrTr",
    "outputId": "ef758b5e-aa77-4232-f042-1e981274d27c"
   },
   "outputs": [
    {
     "name": "stdout",
     "output_type": "stream",
     "text": [
      "Trial 8 Complete [00h 18m 09s]\n",
      "val_accuracy: 0.6134521961212158\n",
      "\n",
      "Best val_accuracy So Far: 0.6213533282279968\n",
      "Total elapsed time: 02h 25m 27s\n"
     ]
    }
   ],
   "source": [
    "# Realiza la búsqueda de hiperparámetros\n",
    "tuner.search(\n",
    "    train_dataset,\n",
    "    epochs=epochs,\n",
    "    validation_data=validation_dataset,\n",
    "    validation_steps=validation_generator.samples // batch_size,\n",
    "    steps_per_epoch=train_generator.samples // batch_size,\n",
    ")"
   ]
  },
  {
   "cell_type": "code",
   "execution_count": null,
   "metadata": {
    "colab": {
     "base_uri": "https://localhost:8080/"
    },
    "id": "yWbx5M3fIbbL",
    "outputId": "4162f897-26ab-42b9-8f66-023b4b0d04a7"
   },
   "outputs": [
    {
     "name": "stdout",
     "output_type": "stream",
     "text": [
      "Hiperparámetros: {'units': 512, 'l2': 0.03412201943829172, 'dropout': 0.5}\n",
      "Precisión en validación: 0.6112236380577087\n",
      "---------------\n",
      "Hiperparámetros: {'units': 512, 'l2': 3.173510685995567e-05, 'dropout': 0.30000000000000004}\n",
      "Precisión en validación: 0.6193273663520813\n",
      "---------------\n",
      "Hiperparámetros: {'units': 1024, 'l2': 0.02141470614184636, 'dropout': 0.1}\n",
      "Precisión en validación: 0.6191247701644897\n",
      "---------------\n",
      "Hiperparámetros: {'units': 512, 'l2': 0.0049156346408599895, 'dropout': 0.5}\n",
      "Precisión en validación: 0.6173014640808105\n",
      "---------------\n",
      "Hiperparámetros: {'units': 1024, 'l2': 0.0006477101798213585, 'dropout': 0.1}\n",
      "Precisión en validación: 0.6213533282279968\n",
      "---------------\n",
      "Hiperparámetros: {'units': 1024, 'l2': 4.7266372509037394e-05, 'dropout': 0.30000000000000004}\n",
      "Precisión en validación: 0.6154780983924866\n",
      "---------------\n",
      "Hiperparámetros: {'units': 512, 'l2': 0.020875682692884864, 'dropout': 0.30000000000000004}\n",
      "Precisión en validación: 0.6185170412063599\n",
      "---------------\n",
      "Hiperparámetros: {'units': 1024, 'l2': 0.0001012272514696805, 'dropout': 0.5}\n",
      "Precisión en validación: 0.6134521961212158\n",
      "---------------\n"
     ]
    }
   ],
   "source": [
    "# Muestra los resultados de todas las combinaciones de hiperparámetros\n",
    "for trial in tuner.oracle.trials.values():\n",
    "    trial_hps = trial.hyperparameters.values\n",
    "    val_accuracy = trial.score\n",
    "    print(f\"Hiperparámetros: {trial_hps}\")\n",
    "    print(f\"Precisión en validación: {val_accuracy}\")\n",
    "    print(\"---------------\")"
   ]
  }
 ],
 "metadata": {
  "accelerator": "GPU",
  "colab": {
   "gpuType": "T4",
   "provenance": []
  },
  "kernelspec": {
   "display_name": "Python 3 (ipykernel)",
   "language": "python",
   "name": "python3"
  },
  "language_info": {
   "codemirror_mode": {
    "name": "ipython",
    "version": 3
   },
   "file_extension": ".py",
   "mimetype": "text/x-python",
   "name": "python",
   "nbconvert_exporter": "python",
   "pygments_lexer": "ipython3",
   "version": "3.12.4"
  }
 },
 "nbformat": 4,
 "nbformat_minor": 4
}
