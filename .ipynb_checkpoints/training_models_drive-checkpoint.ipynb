{
 "cells": [
  {
   "cell_type": "markdown",
   "metadata": {},
   "source": [
    "***Lectura de Imágenes***"
   ]
  },
  {
   "cell_type": "code",
   "execution_count": 12,
   "metadata": {
    "executionInfo": {
     "elapsed": 348,
     "status": "ok",
     "timestamp": 1732161532368,
     "user": {
      "displayName": "Méndez Oliveros Dayra Celeste",
      "userId": "01489395019989799837"
     },
     "user_tz": 360
    },
    "id": "AdHxGtLwbZxu"
   },
   "outputs": [],
   "source": [
    "import os\n",
    "import zipfile\n",
    "import tensorflow as tf\n",
    "from google.colab import drive\n",
    "\n",
    "from tensorflow.keras.preprocessing.image import ImageDataGenerator\n",
    "from tensorflow.keras.mixed_precision import Policy, set_global_policy"
   ]
  },
  {
   "cell_type": "code",
   "execution_count": 14,
   "metadata": {
    "colab": {
     "base_uri": "https://localhost:8080/"
    },
    "executionInfo": {
     "elapsed": 357,
     "status": "ok",
     "timestamp": 1732161545197,
     "user": {
      "displayName": "Méndez Oliveros Dayra Celeste",
      "userId": "01489395019989799837"
     },
     "user_tz": 360
    },
    "id": "tpTUxlQmoUzN",
    "outputId": "24622634-ceac-4604-841f-e0c585a0d3f5"
   },
   "outputs": [
    {
     "name": "stdout",
     "output_type": "stream",
     "text": [
      "Configuración de crecimiento de memoria establecida para la GPU.\n"
     ]
    }
   ],
   "source": [
    "# Configuración de memoria de la GPU\n",
    "gpus = tf.config.list_physical_devices('GPU')\n",
    "if gpus:\n",
    "    try:\n",
    "        for gpu in gpus:\n",
    "            tf.config.experimental.set_memory_growth(gpu, True)\n",
    "        print(\"Configuración de crecimiento de memoria establecida para la GPU.\")\n",
    "    except RuntimeError as e:\n",
    "        print(f\"Error al configurar el crecimiento de memoria: {e}\")"
   ]
  },
  {
   "cell_type": "code",
   "execution_count": 15,
   "metadata": {
    "colab": {
     "base_uri": "https://localhost:8080/"
    },
    "executionInfo": {
     "elapsed": 28985,
     "status": "ok",
     "timestamp": 1732161584136,
     "user": {
      "displayName": "Méndez Oliveros Dayra Celeste",
      "userId": "01489395019989799837"
     },
     "user_tz": 360
    },
    "id": "NIPRkp-fraBJ",
    "outputId": "4f8a280d-a5a1-4884-8331-642baf26c204"
   },
   "outputs": [
    {
     "name": "stdout",
     "output_type": "stream",
     "text": [
      "Mounted at /drive\n"
     ]
    }
   ],
   "source": [
    "# Carga de datos\n",
    "drive.mount('/drive')"
   ]
  },
  {
   "cell_type": "code",
   "execution_count": 16,
   "metadata": {
    "executionInfo": {
     "elapsed": 20946,
     "status": "ok",
     "timestamp": 1732161609005,
     "user": {
      "displayName": "Méndez Oliveros Dayra Celeste",
      "userId": "01489395019989799837"
     },
     "user_tz": 360
    },
    "id": "M6iEIKitdypm"
   },
   "outputs": [],
   "source": [
    "# Se extrae el archivo zip\n",
    "zip_path = '/drive/MyDrive/images_processed.zip'\n",
    "extract_dir = 'images_processed'\n",
    "\n",
    "with zipfile.ZipFile(zip_path, 'r') as zip_file:\n",
    "    zip_file.extractall(extract_dir)"
   ]
  },
  {
   "cell_type": "code",
   "execution_count": 19,
   "metadata": {
    "executionInfo": {
     "elapsed": 339,
     "status": "ok",
     "timestamp": 1732161625901,
     "user": {
      "displayName": "Méndez Oliveros Dayra Celeste",
      "userId": "01489395019989799837"
     },
     "user_tz": 360
    },
    "id": "gZ8UCo77ePuT"
   },
   "outputs": [],
   "source": [
    "# Selección de clases\n",
    "num_categories = 10\n",
    "\n",
    "all_classes = sorted(os.listdir(extract_dir))\n",
    "selected_classes = all_classes[:num_categories]"
   ]
  },
  {
   "cell_type": "code",
   "execution_count": 5,
   "metadata": {
    "colab": {
     "base_uri": "https://localhost:8080/"
    },
    "executionInfo": {
     "elapsed": 337,
     "status": "ok",
     "timestamp": 1732161628516,
     "user": {
      "displayName": "Méndez Oliveros Dayra Celeste",
      "userId": "01489395019989799837"
     },
     "user_tz": 360
    },
    "id": "VZDH0JM1fUJq",
    "outputId": "bb483024-47f0-4e01-b4df-7fc7d3bc310e"
   },
   "outputs": [
    {
     "name": "stdout",
     "output_type": "stream",
     "text": [
      "Clases seleccionadas:\n"
     ]
    },
    {
     "ename": "NameError",
     "evalue": "name 'selected_classes' is not defined",
     "output_type": "error",
     "traceback": [
      "\u001b[1;31m---------------------------------------------------------------------------\u001b[0m",
      "\u001b[1;31mNameError\u001b[0m                                 Traceback (most recent call last)",
      "Cell \u001b[1;32mIn[5], line 2\u001b[0m\n\u001b[0;32m      1\u001b[0m \u001b[38;5;28mprint\u001b[39m(\u001b[38;5;124m\"\u001b[39m\u001b[38;5;124mClases seleccionadas:\u001b[39m\u001b[38;5;124m\"\u001b[39m)\n\u001b[1;32m----> 2\u001b[0m \u001b[38;5;28;01mfor\u001b[39;00m c \u001b[38;5;129;01min\u001b[39;00m selected_classes:\n\u001b[0;32m      3\u001b[0m     \u001b[38;5;28mprint\u001b[39m(c\u001b[38;5;241m.\u001b[39msplit(\u001b[38;5;124m\"\u001b[39m\u001b[38;5;124m_\u001b[39m\u001b[38;5;124m\"\u001b[39m))\n",
      "\u001b[1;31mNameError\u001b[0m: name 'selected_classes' is not defined"
     ]
    }
   ],
   "source": [
    "print(\"Clases seleccionadas:\")\n",
    "for c in selected_classes:\n",
    "    print(c.split(\"_\")[0])"
   ]
  },
  {
   "cell_type": "code",
   "execution_count": 21,
   "metadata": {
    "colab": {
     "base_uri": "https://localhost:8080/"
    },
    "executionInfo": {
     "elapsed": 1842,
     "status": "ok",
     "timestamp": 1732161645837,
     "user": {
      "displayName": "Méndez Oliveros Dayra Celeste",
      "userId": "01489395019989799837"
     },
     "user_tz": 360
    },
    "id": "rZWc2lHwedZ2",
    "outputId": "571ce827-59af-4e30-d78d-955cc7290d19"
   },
   "outputs": [
    {
     "name": "stdout",
     "output_type": "stream",
     "text": [
      "Found 42500 images belonging to 10 classes.\n",
      "Found 7500 images belonging to 10 classes.\n"
     ]
    }
   ],
   "source": [
    "# Generador de imágenes con aumento de datos\n",
    "img_height = 96\n",
    "img_width = 96\n",
    "val_split=0.15\n",
    "batch_size = 64\n",
    "\n",
    "train_datagen = ImageDataGenerator(\n",
    "    rescale=1.0 / 255.0\n",
    "    validation_split=val_split,\n",
    "    rotation_range=30,\n",
    "    width_shift_range=0.3,\n",
    "    height_shift_range=0.3,\n",
    "    shear_range=0.3,\n",
    "    zoom_range=0.3,\n",
    "    horizontal_flip=True,\n",
    "    fill_mode='nearest'\n",
    ")\n",
    "\n",
    "# Generador del conjunto de entrenamiento\n",
    "train_generator = train_datagen.flow_from_directory(\n",
    "    extract_dir,\n",
    "    target_size=(img_height, img_width),\n",
    "    batch_size=batch_size,\n",
    "    class_mode='categorical',\n",
    "    subset='training',\n",
    "    classes=selected_classes,\n",
    "    shuffle=True\n",
    ")\n",
    "\n",
    "# Generador del conjunto de validación\n",
    "validation_generator = train_datagen.flow_from_directory(\n",
    "    extract_dir,\n",
    "    target_size=(img_height, img_width),\n",
    "    batch_size=batch_size,\n",
    "    class_mode='categorical',\n",
    "    subset='validation',\n",
    "    classes=selected_classes,\n",
    "    shuffle=False\n",
    ")"
   ]
  },
  {
   "cell_type": "code",
   "execution_count": 23,
   "metadata": {
    "executionInfo": {
     "elapsed": 348,
     "status": "ok",
     "timestamp": 1732161652938,
     "user": {
      "displayName": "Méndez Oliveros Dayra Celeste",
      "userId": "01489395019989799837"
     },
     "user_tz": 360
    },
    "id": "dERSkiUSedqN"
   },
   "outputs": [],
   "source": [
    "# Agrega repetición y precarga\n",
    "train_dataset = tf.data.Dataset.from_generator(\n",
    "    lambda: train_generator,\n",
    "    output_signature=(\n",
    "        tf.TensorSpec(shape=(None, img_height, img_width, 3), dtype=tf.float32),\n",
    "        tf.TensorSpec(shape=(None, num_categories), dtype=tf.float32)\n",
    "    )\n",
    ")\n",
    "\n",
    "validation_dataset = tf.data.Dataset.from_generator(\n",
    "    lambda: validation_generator,\n",
    "    output_signature=(\n",
    "        tf.TensorSpec(shape=(None, img_height, img_width, 3), dtype=tf.float32),\n",
    "        tf.TensorSpec(shape=(None, num_categories), dtype=tf.float32)\n",
    "    )\n",
    ")\n",
    "\n",
    "train_dataset = train_dataset.repeat().prefetch(tf.data.AUTOTUNE)\n",
    "validation_dataset = validation_dataset.repeat().prefetch(tf.data.AUTOTUNE)"
   ]
  },
  {
   "cell_type": "code",
   "execution_count": 24,
   "metadata": {
    "colab": {
     "base_uri": "https://localhost:8080/"
    },
    "executionInfo": {
     "elapsed": 4,
     "status": "ok",
     "timestamp": 1732161656124,
     "user": {
      "displayName": "Méndez Oliveros Dayra Celeste",
      "userId": "01489395019989799837"
     },
     "user_tz": 360
    },
    "id": "k6FedO_qoc3D",
    "outputId": "eb8c02b0-8655-4d6c-841f-e38963ef511c"
   },
   "outputs": [
    {
     "name": "stdout",
     "output_type": "stream",
     "text": [
      "Política de precisión actual: <DTypePolicy \"mixed_float16\">\n"
     ]
    }
   ],
   "source": [
    "# Usa precisión mixta\n",
    "policy = Policy('mixed_float16')\n",
    "set_global_policy(policy)\n",
    "print(f\"Política de precisión actual: {tf.keras.mixed_precision.global_policy()}\")"
   ]
  },
  {
   "cell_type": "markdown",
   "metadata": {},
   "source": [
    "***Definición de los modelos***"
   ]
  },
  {
   "cell_type": "code",
   "execution_count": 26,
   "metadata": {},
   "outputs": [],
   "source": [
    "import visualkeras\n",
    "from tensorflow.keras.utils import plot_model\n",
    "from tensorflow.keras import layers, models\n",
    "from tensorflow.keras.callbacks import ReduceLROnPlateau"
   ]
  },
  {
   "cell_type": "code",
   "execution_count": 84,
   "metadata": {},
   "outputs": [],
   "source": [
    "# Parámetros usados para entrenar\n",
    "\n",
    "# Tamaño del filtro\n",
    "kernel_size = (3, 3)\n",
    "\n",
    "# Funciones de activación\n",
    "layer_activation = \"relu\"\n",
    "output_activation = \"softmax\"\n",
    "\n",
    "# Tamaño después de convolución\n",
    "padding = \"same\"\n",
    "\n",
    "# Reducción\n",
    "pool_size = (2, 2)\n",
    "\n",
    "# Optimizador\n",
    "optimizer = \"adam\"\n",
    "\n",
    "# Medición del rendimiento\n",
    "loss = \"categorical_crossentropy\"\n",
    "metrics = [\"accuracy\"]\n",
    "\n",
    "# Duración del entrenamiento\n",
    "epochs = 15\n",
    "\n",
    "# Ajusta dinámicamente la tasa de entrenamiento cuando no hay mejora\n",
    "reduce_lr = ReduceLROnPlateau(\n",
    "    monitor=\"val_loss\",\n",
    "    factor=0.8,\n",
    "    patience=2,\n",
    "    min_lr=5e-6\n",
    ")\n",
    "\n",
    "callbacks = [reduce_lr]"
   ]
  },
  {
   "cell_type": "markdown",
   "metadata": {
    "executionInfo": {
     "elapsed": 5,
     "status": "ok",
     "timestamp": 1732161920021,
     "user": {
      "displayName": "Méndez Oliveros Dayra Celeste",
      "userId": "01489395019989799837"
     },
     "user_tz": 360
    },
    "id": "vEfkdrn1e3Qr"
   },
   "source": [
    "***Modelo 1***"
   ]
  },
  {
   "cell_type": "code",
   "execution_count": 87,
   "metadata": {},
   "outputs": [],
   "source": [
    "img_height = 96\n",
    "img_width = 96\n",
    "val_split=0.15\n",
    "batch_size = 64\n",
    "num_categories = 10"
   ]
  },
  {
   "cell_type": "code",
   "execution_count": 89,
   "metadata": {
    "colab": {
     "base_uri": "https://localhost:8080/"
    },
    "executionInfo": {
     "elapsed": 372,
     "status": "ok",
     "timestamp": 1732161919617,
     "user": {
      "displayName": "Méndez Oliveros Dayra Celeste",
      "userId": "01489395019989799837"
     },
     "user_tz": 360
    },
    "id": "sMp23F3sedta",
    "outputId": "e35042d8-d2c8-4e22-dbf1-ac6e59c2fb49"
   },
   "outputs": [],
   "source": [
    "# Arquitectura de modelo\n",
    "model_1 = models.Sequential([\n",
    "\n",
    "    # Entrada\n",
    "    layers.Input(shape=(img_height, img_width, 3)),\n",
    "    \n",
    "    # Capa 1\n",
    "    layers.Conv2D(32, kernel_size, activation=layer_activation, padding=padding),\n",
    "    layers.BatchNormalization(),\n",
    "    layers.MaxPooling2D(pool_size),\n",
    "\n",
    "    # Capa 2\n",
    "    layers.Conv2D(64, kernel_size, activation=layer_activation, padding=padding),\n",
    "    layers.BatchNormalization(),\n",
    "    layers.MaxPooling2D(pool_size),\n",
    "\n",
    "    # Capa 3\n",
    "    layers.Conv2D(128, kernel_size, activation=layer_activation, padding=padding),\n",
    "    layers.BatchNormalization(),\n",
    "    layers.MaxPooling2D(pool_size),\n",
    "\n",
    "    # Capa 4\n",
    "    layers.Conv2D(256, kernel_size, activation=layer_activation, padding=padding),\n",
    "    layers.BatchNormalization(),\n",
    "    layers.MaxPooling2D(pool_size),\n",
    "\n",
    "    # Capa 5\n",
    "    layers.Conv2D(512, kernel_size, activation=layer_activation, padding=padding),\n",
    "    layers.BatchNormalization(),\n",
    "    layers.MaxPooling2D(pool_size),\n",
    "\n",
    "    # Aplanamiento global\n",
    "    layers.GlobalAveragePooling2D(),\n",
    "\n",
    "    # Capa densa 1\n",
    "    layers.Dense(256, activation=layer_activation),\n",
    "    layers.BatchNormalization(),\n",
    "\n",
    "    # Capa densa 2\n",
    "    layers.Dense(128, activation=layer_activation),\n",
    "    layers.BatchNormalization(),\n",
    "\n",
    "    # Capa de salida\n",
    "    layers.Dense(num_categories, activation=output_activation)\n",
    "])"
   ]
  },
  {
   "cell_type": "code",
   "execution_count": 91,
   "metadata": {
    "executionInfo": {
     "elapsed": 9,
     "status": "ok",
     "timestamp": 1732161919618,
     "user": {
      "displayName": "Méndez Oliveros Dayra Celeste",
      "userId": "01489395019989799837"
     },
     "user_tz": 360
    },
    "id": "BlRjdeJCedw4"
   },
   "outputs": [],
   "source": [
    "# Compilación del modelo\n",
    "model_1.compile(optimizer=optimizer, loss=loss, metrics=metrics)"
   ]
  },
  {
   "cell_type": "code",
   "execution_count": 93,
   "metadata": {
    "colab": {
     "base_uri": "https://localhost:8080/",
     "height": 737
    },
    "executionInfo": {
     "elapsed": 411,
     "status": "ok",
     "timestamp": 1732161920020,
     "user": {
      "displayName": "Méndez Oliveros Dayra Celeste",
      "userId": "01489395019989799837"
     },
     "user_tz": 360
    },
    "id": "eIjSlBjpfgMy",
    "outputId": "2b4b4b15-a547-43eb-eb28-bf2196ad08e8"
   },
   "outputs": [
    {
     "data": {
      "text/html": [
       "<pre style=\"white-space:pre;overflow-x:auto;line-height:normal;font-family:Menlo,'DejaVu Sans Mono',consolas,'Courier New',monospace\"><span style=\"font-weight: bold\">Model: \"sequential_4\"</span>\n",
       "</pre>\n"
      ],
      "text/plain": [
       "\u001b[1mModel: \"sequential_4\"\u001b[0m\n"
      ]
     },
     "metadata": {},
     "output_type": "display_data"
    },
    {
     "data": {
      "text/html": [
       "<pre style=\"white-space:pre;overflow-x:auto;line-height:normal;font-family:Menlo,'DejaVu Sans Mono',consolas,'Courier New',monospace\">┏━━━━━━━━━━━━━━━━━━━━━━━━━━━━━━━━━━━━━━┳━━━━━━━━━━━━━━━━━━━━━━━━━━━━━┳━━━━━━━━━━━━━━━━━┓\n",
       "┃<span style=\"font-weight: bold\"> Layer (type)                         </span>┃<span style=\"font-weight: bold\"> Output Shape                </span>┃<span style=\"font-weight: bold\">         Param # </span>┃\n",
       "┡━━━━━━━━━━━━━━━━━━━━━━━━━━━━━━━━━━━━━━╇━━━━━━━━━━━━━━━━━━━━━━━━━━━━━╇━━━━━━━━━━━━━━━━━┩\n",
       "│ conv2d_19 (<span style=\"color: #0087ff; text-decoration-color: #0087ff\">Conv2D</span>)                   │ (<span style=\"color: #00d7ff; text-decoration-color: #00d7ff\">None</span>, <span style=\"color: #00af00; text-decoration-color: #00af00\">96</span>, <span style=\"color: #00af00; text-decoration-color: #00af00\">96</span>, <span style=\"color: #00af00; text-decoration-color: #00af00\">32</span>)          │             <span style=\"color: #00af00; text-decoration-color: #00af00\">896</span> │\n",
       "├──────────────────────────────────────┼─────────────────────────────┼─────────────────┤\n",
       "│ batch_normalization_28               │ (<span style=\"color: #00d7ff; text-decoration-color: #00d7ff\">None</span>, <span style=\"color: #00af00; text-decoration-color: #00af00\">96</span>, <span style=\"color: #00af00; text-decoration-color: #00af00\">96</span>, <span style=\"color: #00af00; text-decoration-color: #00af00\">32</span>)          │             <span style=\"color: #00af00; text-decoration-color: #00af00\">128</span> │\n",
       "│ (<span style=\"color: #0087ff; text-decoration-color: #0087ff\">BatchNormalization</span>)                 │                             │                 │\n",
       "├──────────────────────────────────────┼─────────────────────────────┼─────────────────┤\n",
       "│ max_pooling2d_19 (<span style=\"color: #0087ff; text-decoration-color: #0087ff\">MaxPooling2D</span>)      │ (<span style=\"color: #00d7ff; text-decoration-color: #00d7ff\">None</span>, <span style=\"color: #00af00; text-decoration-color: #00af00\">48</span>, <span style=\"color: #00af00; text-decoration-color: #00af00\">48</span>, <span style=\"color: #00af00; text-decoration-color: #00af00\">32</span>)          │               <span style=\"color: #00af00; text-decoration-color: #00af00\">0</span> │\n",
       "├──────────────────────────────────────┼─────────────────────────────┼─────────────────┤\n",
       "│ conv2d_20 (<span style=\"color: #0087ff; text-decoration-color: #0087ff\">Conv2D</span>)                   │ (<span style=\"color: #00d7ff; text-decoration-color: #00d7ff\">None</span>, <span style=\"color: #00af00; text-decoration-color: #00af00\">48</span>, <span style=\"color: #00af00; text-decoration-color: #00af00\">48</span>, <span style=\"color: #00af00; text-decoration-color: #00af00\">64</span>)          │          <span style=\"color: #00af00; text-decoration-color: #00af00\">18,496</span> │\n",
       "├──────────────────────────────────────┼─────────────────────────────┼─────────────────┤\n",
       "│ batch_normalization_29               │ (<span style=\"color: #00d7ff; text-decoration-color: #00d7ff\">None</span>, <span style=\"color: #00af00; text-decoration-color: #00af00\">48</span>, <span style=\"color: #00af00; text-decoration-color: #00af00\">48</span>, <span style=\"color: #00af00; text-decoration-color: #00af00\">64</span>)          │             <span style=\"color: #00af00; text-decoration-color: #00af00\">256</span> │\n",
       "│ (<span style=\"color: #0087ff; text-decoration-color: #0087ff\">BatchNormalization</span>)                 │                             │                 │\n",
       "├──────────────────────────────────────┼─────────────────────────────┼─────────────────┤\n",
       "│ max_pooling2d_20 (<span style=\"color: #0087ff; text-decoration-color: #0087ff\">MaxPooling2D</span>)      │ (<span style=\"color: #00d7ff; text-decoration-color: #00d7ff\">None</span>, <span style=\"color: #00af00; text-decoration-color: #00af00\">24</span>, <span style=\"color: #00af00; text-decoration-color: #00af00\">24</span>, <span style=\"color: #00af00; text-decoration-color: #00af00\">64</span>)          │               <span style=\"color: #00af00; text-decoration-color: #00af00\">0</span> │\n",
       "├──────────────────────────────────────┼─────────────────────────────┼─────────────────┤\n",
       "│ conv2d_21 (<span style=\"color: #0087ff; text-decoration-color: #0087ff\">Conv2D</span>)                   │ (<span style=\"color: #00d7ff; text-decoration-color: #00d7ff\">None</span>, <span style=\"color: #00af00; text-decoration-color: #00af00\">24</span>, <span style=\"color: #00af00; text-decoration-color: #00af00\">24</span>, <span style=\"color: #00af00; text-decoration-color: #00af00\">128</span>)         │          <span style=\"color: #00af00; text-decoration-color: #00af00\">73,856</span> │\n",
       "├──────────────────────────────────────┼─────────────────────────────┼─────────────────┤\n",
       "│ batch_normalization_30               │ (<span style=\"color: #00d7ff; text-decoration-color: #00d7ff\">None</span>, <span style=\"color: #00af00; text-decoration-color: #00af00\">24</span>, <span style=\"color: #00af00; text-decoration-color: #00af00\">24</span>, <span style=\"color: #00af00; text-decoration-color: #00af00\">128</span>)         │             <span style=\"color: #00af00; text-decoration-color: #00af00\">512</span> │\n",
       "│ (<span style=\"color: #0087ff; text-decoration-color: #0087ff\">BatchNormalization</span>)                 │                             │                 │\n",
       "├──────────────────────────────────────┼─────────────────────────────┼─────────────────┤\n",
       "│ max_pooling2d_21 (<span style=\"color: #0087ff; text-decoration-color: #0087ff\">MaxPooling2D</span>)      │ (<span style=\"color: #00d7ff; text-decoration-color: #00d7ff\">None</span>, <span style=\"color: #00af00; text-decoration-color: #00af00\">12</span>, <span style=\"color: #00af00; text-decoration-color: #00af00\">12</span>, <span style=\"color: #00af00; text-decoration-color: #00af00\">128</span>)         │               <span style=\"color: #00af00; text-decoration-color: #00af00\">0</span> │\n",
       "├──────────────────────────────────────┼─────────────────────────────┼─────────────────┤\n",
       "│ conv2d_22 (<span style=\"color: #0087ff; text-decoration-color: #0087ff\">Conv2D</span>)                   │ (<span style=\"color: #00d7ff; text-decoration-color: #00d7ff\">None</span>, <span style=\"color: #00af00; text-decoration-color: #00af00\">12</span>, <span style=\"color: #00af00; text-decoration-color: #00af00\">12</span>, <span style=\"color: #00af00; text-decoration-color: #00af00\">256</span>)         │         <span style=\"color: #00af00; text-decoration-color: #00af00\">295,168</span> │\n",
       "├──────────────────────────────────────┼─────────────────────────────┼─────────────────┤\n",
       "│ batch_normalization_31               │ (<span style=\"color: #00d7ff; text-decoration-color: #00d7ff\">None</span>, <span style=\"color: #00af00; text-decoration-color: #00af00\">12</span>, <span style=\"color: #00af00; text-decoration-color: #00af00\">12</span>, <span style=\"color: #00af00; text-decoration-color: #00af00\">256</span>)         │           <span style=\"color: #00af00; text-decoration-color: #00af00\">1,024</span> │\n",
       "│ (<span style=\"color: #0087ff; text-decoration-color: #0087ff\">BatchNormalization</span>)                 │                             │                 │\n",
       "├──────────────────────────────────────┼─────────────────────────────┼─────────────────┤\n",
       "│ max_pooling2d_22 (<span style=\"color: #0087ff; text-decoration-color: #0087ff\">MaxPooling2D</span>)      │ (<span style=\"color: #00d7ff; text-decoration-color: #00d7ff\">None</span>, <span style=\"color: #00af00; text-decoration-color: #00af00\">6</span>, <span style=\"color: #00af00; text-decoration-color: #00af00\">6</span>, <span style=\"color: #00af00; text-decoration-color: #00af00\">256</span>)           │               <span style=\"color: #00af00; text-decoration-color: #00af00\">0</span> │\n",
       "├──────────────────────────────────────┼─────────────────────────────┼─────────────────┤\n",
       "│ conv2d_23 (<span style=\"color: #0087ff; text-decoration-color: #0087ff\">Conv2D</span>)                   │ (<span style=\"color: #00d7ff; text-decoration-color: #00d7ff\">None</span>, <span style=\"color: #00af00; text-decoration-color: #00af00\">6</span>, <span style=\"color: #00af00; text-decoration-color: #00af00\">6</span>, <span style=\"color: #00af00; text-decoration-color: #00af00\">512</span>)           │       <span style=\"color: #00af00; text-decoration-color: #00af00\">1,180,160</span> │\n",
       "├──────────────────────────────────────┼─────────────────────────────┼─────────────────┤\n",
       "│ batch_normalization_32               │ (<span style=\"color: #00d7ff; text-decoration-color: #00d7ff\">None</span>, <span style=\"color: #00af00; text-decoration-color: #00af00\">6</span>, <span style=\"color: #00af00; text-decoration-color: #00af00\">6</span>, <span style=\"color: #00af00; text-decoration-color: #00af00\">512</span>)           │           <span style=\"color: #00af00; text-decoration-color: #00af00\">2,048</span> │\n",
       "│ (<span style=\"color: #0087ff; text-decoration-color: #0087ff\">BatchNormalization</span>)                 │                             │                 │\n",
       "├──────────────────────────────────────┼─────────────────────────────┼─────────────────┤\n",
       "│ max_pooling2d_23 (<span style=\"color: #0087ff; text-decoration-color: #0087ff\">MaxPooling2D</span>)      │ (<span style=\"color: #00d7ff; text-decoration-color: #00d7ff\">None</span>, <span style=\"color: #00af00; text-decoration-color: #00af00\">3</span>, <span style=\"color: #00af00; text-decoration-color: #00af00\">3</span>, <span style=\"color: #00af00; text-decoration-color: #00af00\">512</span>)           │               <span style=\"color: #00af00; text-decoration-color: #00af00\">0</span> │\n",
       "├──────────────────────────────────────┼─────────────────────────────┼─────────────────┤\n",
       "│ global_average_pooling2d_4           │ (<span style=\"color: #00d7ff; text-decoration-color: #00d7ff\">None</span>, <span style=\"color: #00af00; text-decoration-color: #00af00\">512</span>)                 │               <span style=\"color: #00af00; text-decoration-color: #00af00\">0</span> │\n",
       "│ (<span style=\"color: #0087ff; text-decoration-color: #0087ff\">GlobalAveragePooling2D</span>)             │                             │                 │\n",
       "├──────────────────────────────────────┼─────────────────────────────┼─────────────────┤\n",
       "│ dense_12 (<span style=\"color: #0087ff; text-decoration-color: #0087ff\">Dense</span>)                     │ (<span style=\"color: #00d7ff; text-decoration-color: #00d7ff\">None</span>, <span style=\"color: #00af00; text-decoration-color: #00af00\">256</span>)                 │         <span style=\"color: #00af00; text-decoration-color: #00af00\">131,328</span> │\n",
       "├──────────────────────────────────────┼─────────────────────────────┼─────────────────┤\n",
       "│ batch_normalization_33               │ (<span style=\"color: #00d7ff; text-decoration-color: #00d7ff\">None</span>, <span style=\"color: #00af00; text-decoration-color: #00af00\">256</span>)                 │           <span style=\"color: #00af00; text-decoration-color: #00af00\">1,024</span> │\n",
       "│ (<span style=\"color: #0087ff; text-decoration-color: #0087ff\">BatchNormalization</span>)                 │                             │                 │\n",
       "├──────────────────────────────────────┼─────────────────────────────┼─────────────────┤\n",
       "│ dense_13 (<span style=\"color: #0087ff; text-decoration-color: #0087ff\">Dense</span>)                     │ (<span style=\"color: #00d7ff; text-decoration-color: #00d7ff\">None</span>, <span style=\"color: #00af00; text-decoration-color: #00af00\">128</span>)                 │          <span style=\"color: #00af00; text-decoration-color: #00af00\">32,896</span> │\n",
       "├──────────────────────────────────────┼─────────────────────────────┼─────────────────┤\n",
       "│ batch_normalization_34               │ (<span style=\"color: #00d7ff; text-decoration-color: #00d7ff\">None</span>, <span style=\"color: #00af00; text-decoration-color: #00af00\">128</span>)                 │             <span style=\"color: #00af00; text-decoration-color: #00af00\">512</span> │\n",
       "│ (<span style=\"color: #0087ff; text-decoration-color: #0087ff\">BatchNormalization</span>)                 │                             │                 │\n",
       "├──────────────────────────────────────┼─────────────────────────────┼─────────────────┤\n",
       "│ dense_14 (<span style=\"color: #0087ff; text-decoration-color: #0087ff\">Dense</span>)                     │ (<span style=\"color: #00d7ff; text-decoration-color: #00d7ff\">None</span>, <span style=\"color: #00af00; text-decoration-color: #00af00\">10</span>)                  │           <span style=\"color: #00af00; text-decoration-color: #00af00\">1,290</span> │\n",
       "└──────────────────────────────────────┴─────────────────────────────┴─────────────────┘\n",
       "</pre>\n"
      ],
      "text/plain": [
       "┏━━━━━━━━━━━━━━━━━━━━━━━━━━━━━━━━━━━━━━┳━━━━━━━━━━━━━━━━━━━━━━━━━━━━━┳━━━━━━━━━━━━━━━━━┓\n",
       "┃\u001b[1m \u001b[0m\u001b[1mLayer (type)                        \u001b[0m\u001b[1m \u001b[0m┃\u001b[1m \u001b[0m\u001b[1mOutput Shape               \u001b[0m\u001b[1m \u001b[0m┃\u001b[1m \u001b[0m\u001b[1m        Param #\u001b[0m\u001b[1m \u001b[0m┃\n",
       "┡━━━━━━━━━━━━━━━━━━━━━━━━━━━━━━━━━━━━━━╇━━━━━━━━━━━━━━━━━━━━━━━━━━━━━╇━━━━━━━━━━━━━━━━━┩\n",
       "│ conv2d_19 (\u001b[38;5;33mConv2D\u001b[0m)                   │ (\u001b[38;5;45mNone\u001b[0m, \u001b[38;5;34m96\u001b[0m, \u001b[38;5;34m96\u001b[0m, \u001b[38;5;34m32\u001b[0m)          │             \u001b[38;5;34m896\u001b[0m │\n",
       "├──────────────────────────────────────┼─────────────────────────────┼─────────────────┤\n",
       "│ batch_normalization_28               │ (\u001b[38;5;45mNone\u001b[0m, \u001b[38;5;34m96\u001b[0m, \u001b[38;5;34m96\u001b[0m, \u001b[38;5;34m32\u001b[0m)          │             \u001b[38;5;34m128\u001b[0m │\n",
       "│ (\u001b[38;5;33mBatchNormalization\u001b[0m)                 │                             │                 │\n",
       "├──────────────────────────────────────┼─────────────────────────────┼─────────────────┤\n",
       "│ max_pooling2d_19 (\u001b[38;5;33mMaxPooling2D\u001b[0m)      │ (\u001b[38;5;45mNone\u001b[0m, \u001b[38;5;34m48\u001b[0m, \u001b[38;5;34m48\u001b[0m, \u001b[38;5;34m32\u001b[0m)          │               \u001b[38;5;34m0\u001b[0m │\n",
       "├──────────────────────────────────────┼─────────────────────────────┼─────────────────┤\n",
       "│ conv2d_20 (\u001b[38;5;33mConv2D\u001b[0m)                   │ (\u001b[38;5;45mNone\u001b[0m, \u001b[38;5;34m48\u001b[0m, \u001b[38;5;34m48\u001b[0m, \u001b[38;5;34m64\u001b[0m)          │          \u001b[38;5;34m18,496\u001b[0m │\n",
       "├──────────────────────────────────────┼─────────────────────────────┼─────────────────┤\n",
       "│ batch_normalization_29               │ (\u001b[38;5;45mNone\u001b[0m, \u001b[38;5;34m48\u001b[0m, \u001b[38;5;34m48\u001b[0m, \u001b[38;5;34m64\u001b[0m)          │             \u001b[38;5;34m256\u001b[0m │\n",
       "│ (\u001b[38;5;33mBatchNormalization\u001b[0m)                 │                             │                 │\n",
       "├──────────────────────────────────────┼─────────────────────────────┼─────────────────┤\n",
       "│ max_pooling2d_20 (\u001b[38;5;33mMaxPooling2D\u001b[0m)      │ (\u001b[38;5;45mNone\u001b[0m, \u001b[38;5;34m24\u001b[0m, \u001b[38;5;34m24\u001b[0m, \u001b[38;5;34m64\u001b[0m)          │               \u001b[38;5;34m0\u001b[0m │\n",
       "├──────────────────────────────────────┼─────────────────────────────┼─────────────────┤\n",
       "│ conv2d_21 (\u001b[38;5;33mConv2D\u001b[0m)                   │ (\u001b[38;5;45mNone\u001b[0m, \u001b[38;5;34m24\u001b[0m, \u001b[38;5;34m24\u001b[0m, \u001b[38;5;34m128\u001b[0m)         │          \u001b[38;5;34m73,856\u001b[0m │\n",
       "├──────────────────────────────────────┼─────────────────────────────┼─────────────────┤\n",
       "│ batch_normalization_30               │ (\u001b[38;5;45mNone\u001b[0m, \u001b[38;5;34m24\u001b[0m, \u001b[38;5;34m24\u001b[0m, \u001b[38;5;34m128\u001b[0m)         │             \u001b[38;5;34m512\u001b[0m │\n",
       "│ (\u001b[38;5;33mBatchNormalization\u001b[0m)                 │                             │                 │\n",
       "├──────────────────────────────────────┼─────────────────────────────┼─────────────────┤\n",
       "│ max_pooling2d_21 (\u001b[38;5;33mMaxPooling2D\u001b[0m)      │ (\u001b[38;5;45mNone\u001b[0m, \u001b[38;5;34m12\u001b[0m, \u001b[38;5;34m12\u001b[0m, \u001b[38;5;34m128\u001b[0m)         │               \u001b[38;5;34m0\u001b[0m │\n",
       "├──────────────────────────────────────┼─────────────────────────────┼─────────────────┤\n",
       "│ conv2d_22 (\u001b[38;5;33mConv2D\u001b[0m)                   │ (\u001b[38;5;45mNone\u001b[0m, \u001b[38;5;34m12\u001b[0m, \u001b[38;5;34m12\u001b[0m, \u001b[38;5;34m256\u001b[0m)         │         \u001b[38;5;34m295,168\u001b[0m │\n",
       "├──────────────────────────────────────┼─────────────────────────────┼─────────────────┤\n",
       "│ batch_normalization_31               │ (\u001b[38;5;45mNone\u001b[0m, \u001b[38;5;34m12\u001b[0m, \u001b[38;5;34m12\u001b[0m, \u001b[38;5;34m256\u001b[0m)         │           \u001b[38;5;34m1,024\u001b[0m │\n",
       "│ (\u001b[38;5;33mBatchNormalization\u001b[0m)                 │                             │                 │\n",
       "├──────────────────────────────────────┼─────────────────────────────┼─────────────────┤\n",
       "│ max_pooling2d_22 (\u001b[38;5;33mMaxPooling2D\u001b[0m)      │ (\u001b[38;5;45mNone\u001b[0m, \u001b[38;5;34m6\u001b[0m, \u001b[38;5;34m6\u001b[0m, \u001b[38;5;34m256\u001b[0m)           │               \u001b[38;5;34m0\u001b[0m │\n",
       "├──────────────────────────────────────┼─────────────────────────────┼─────────────────┤\n",
       "│ conv2d_23 (\u001b[38;5;33mConv2D\u001b[0m)                   │ (\u001b[38;5;45mNone\u001b[0m, \u001b[38;5;34m6\u001b[0m, \u001b[38;5;34m6\u001b[0m, \u001b[38;5;34m512\u001b[0m)           │       \u001b[38;5;34m1,180,160\u001b[0m │\n",
       "├──────────────────────────────────────┼─────────────────────────────┼─────────────────┤\n",
       "│ batch_normalization_32               │ (\u001b[38;5;45mNone\u001b[0m, \u001b[38;5;34m6\u001b[0m, \u001b[38;5;34m6\u001b[0m, \u001b[38;5;34m512\u001b[0m)           │           \u001b[38;5;34m2,048\u001b[0m │\n",
       "│ (\u001b[38;5;33mBatchNormalization\u001b[0m)                 │                             │                 │\n",
       "├──────────────────────────────────────┼─────────────────────────────┼─────────────────┤\n",
       "│ max_pooling2d_23 (\u001b[38;5;33mMaxPooling2D\u001b[0m)      │ (\u001b[38;5;45mNone\u001b[0m, \u001b[38;5;34m3\u001b[0m, \u001b[38;5;34m3\u001b[0m, \u001b[38;5;34m512\u001b[0m)           │               \u001b[38;5;34m0\u001b[0m │\n",
       "├──────────────────────────────────────┼─────────────────────────────┼─────────────────┤\n",
       "│ global_average_pooling2d_4           │ (\u001b[38;5;45mNone\u001b[0m, \u001b[38;5;34m512\u001b[0m)                 │               \u001b[38;5;34m0\u001b[0m │\n",
       "│ (\u001b[38;5;33mGlobalAveragePooling2D\u001b[0m)             │                             │                 │\n",
       "├──────────────────────────────────────┼─────────────────────────────┼─────────────────┤\n",
       "│ dense_12 (\u001b[38;5;33mDense\u001b[0m)                     │ (\u001b[38;5;45mNone\u001b[0m, \u001b[38;5;34m256\u001b[0m)                 │         \u001b[38;5;34m131,328\u001b[0m │\n",
       "├──────────────────────────────────────┼─────────────────────────────┼─────────────────┤\n",
       "│ batch_normalization_33               │ (\u001b[38;5;45mNone\u001b[0m, \u001b[38;5;34m256\u001b[0m)                 │           \u001b[38;5;34m1,024\u001b[0m │\n",
       "│ (\u001b[38;5;33mBatchNormalization\u001b[0m)                 │                             │                 │\n",
       "├──────────────────────────────────────┼─────────────────────────────┼─────────────────┤\n",
       "│ dense_13 (\u001b[38;5;33mDense\u001b[0m)                     │ (\u001b[38;5;45mNone\u001b[0m, \u001b[38;5;34m128\u001b[0m)                 │          \u001b[38;5;34m32,896\u001b[0m │\n",
       "├──────────────────────────────────────┼─────────────────────────────┼─────────────────┤\n",
       "│ batch_normalization_34               │ (\u001b[38;5;45mNone\u001b[0m, \u001b[38;5;34m128\u001b[0m)                 │             \u001b[38;5;34m512\u001b[0m │\n",
       "│ (\u001b[38;5;33mBatchNormalization\u001b[0m)                 │                             │                 │\n",
       "├──────────────────────────────────────┼─────────────────────────────┼─────────────────┤\n",
       "│ dense_14 (\u001b[38;5;33mDense\u001b[0m)                     │ (\u001b[38;5;45mNone\u001b[0m, \u001b[38;5;34m10\u001b[0m)                  │           \u001b[38;5;34m1,290\u001b[0m │\n",
       "└──────────────────────────────────────┴─────────────────────────────┴─────────────────┘\n"
      ]
     },
     "metadata": {},
     "output_type": "display_data"
    },
    {
     "data": {
      "text/html": [
       "<pre style=\"white-space:pre;overflow-x:auto;line-height:normal;font-family:Menlo,'DejaVu Sans Mono',consolas,'Courier New',monospace\"><span style=\"font-weight: bold\"> Total params: </span><span style=\"color: #00af00; text-decoration-color: #00af00\">1,739,594</span> (6.64 MB)\n",
       "</pre>\n"
      ],
      "text/plain": [
       "\u001b[1m Total params: \u001b[0m\u001b[38;5;34m1,739,594\u001b[0m (6.64 MB)\n"
      ]
     },
     "metadata": {},
     "output_type": "display_data"
    },
    {
     "data": {
      "text/html": [
       "<pre style=\"white-space:pre;overflow-x:auto;line-height:normal;font-family:Menlo,'DejaVu Sans Mono',consolas,'Courier New',monospace\"><span style=\"font-weight: bold\"> Trainable params: </span><span style=\"color: #00af00; text-decoration-color: #00af00\">1,736,842</span> (6.63 MB)\n",
       "</pre>\n"
      ],
      "text/plain": [
       "\u001b[1m Trainable params: \u001b[0m\u001b[38;5;34m1,736,842\u001b[0m (6.63 MB)\n"
      ]
     },
     "metadata": {},
     "output_type": "display_data"
    },
    {
     "data": {
      "text/html": [
       "<pre style=\"white-space:pre;overflow-x:auto;line-height:normal;font-family:Menlo,'DejaVu Sans Mono',consolas,'Courier New',monospace\"><span style=\"font-weight: bold\"> Non-trainable params: </span><span style=\"color: #00af00; text-decoration-color: #00af00\">2,752</span> (10.75 KB)\n",
       "</pre>\n"
      ],
      "text/plain": [
       "\u001b[1m Non-trainable params: \u001b[0m\u001b[38;5;34m2,752\u001b[0m (10.75 KB)\n"
      ]
     },
     "metadata": {},
     "output_type": "display_data"
    }
   ],
   "source": [
    "# Resumen del modelo\n",
    "model_1.summary()"
   ]
  },
  {
   "cell_type": "code",
   "execution_count": 99,
   "metadata": {},
   "outputs": [
    {
     "data": {
      "image/png": "[encoded data removed]",
      "text/plain": [
       "<PIL.Image.Image image mode=RGBA size=861x512>"
      ]
     },
     "execution_count": 99,
     "metadata": {},
     "output_type": "execute_result"
    }
   ],
   "source": [
    "# Visualización del modelo\n",
    "visualkeras.layered_view(model_1)"
   ]
  },
  {
   "cell_type": "code",
   "execution_count": 36,
   "metadata": {
    "colab": {
     "base_uri": "https://localhost:8080/"
    },
    "executionInfo": {
     "elapsed": 8222523,
     "status": "ok",
     "timestamp": 1732170142539,
     "user": {
      "displayName": "Méndez Oliveros Dayra Celeste",
      "userId": "01489395019989799837"
     },
     "user_tz": 360
    },
    "id": "qPRJxnOqe3f_",
    "outputId": "44033b61-c47e-41a3-b764-172ed2b64016"
   },
   "outputs": [
    {
     "name": "stdout",
     "output_type": "stream",
     "text": [
      "Epoch 1/50\n",
      "\u001b[1m664/664\u001b[0m \u001b[32m━━━━━━━━━━━━━━━━━━━━\u001b[0m\u001b[37m\u001b[0m \u001b[1m189s\u001b[0m 272ms/step - accuracy: 0.4315 - loss: 1.7459 - val_accuracy: 0.3881 - val_loss: 2.0298 - learning_rate: 0.0010\n",
      "Epoch 2/50\n",
      "\u001b[1m664/664\u001b[0m \u001b[32m━━━━━━━━━━━━━━━━━━━━\u001b[0m\u001b[37m\u001b[0m \u001b[1m170s\u001b[0m 257ms/step - accuracy: 0.5237 - loss: 1.3917 - val_accuracy: 0.3544 - val_loss: 2.2254 - learning_rate: 0.0010\n",
      "Epoch 3/50\n",
      "\u001b[1m664/664\u001b[0m \u001b[32m━━━━━━━━━━━━━━━━━━━━\u001b[0m\u001b[37m\u001b[0m \u001b[1m171s\u001b[0m 257ms/step - accuracy: 0.5452 - loss: 1.3285 - val_accuracy: 0.4899 - val_loss: 1.5091 - learning_rate: 0.0010\n",
      "Epoch 4/50\n",
      "\u001b[1m664/664\u001b[0m \u001b[32m━━━━━━━━━━━━━━━━━━━━\u001b[0m\u001b[37m\u001b[0m \u001b[1m169s\u001b[0m 255ms/step - accuracy: 0.5835 - loss: 1.2121 - val_accuracy: 0.4146 - val_loss: 1.9040 - learning_rate: 0.0010\n",
      "Epoch 5/50\n",
      "\u001b[1m664/664\u001b[0m \u001b[32m━━━━━━━━━━━━━━━━━━━━\u001b[0m\u001b[37m\u001b[0m \u001b[1m172s\u001b[0m 259ms/step - accuracy: 0.5952 - loss: 1.1625 - val_accuracy: 0.5527 - val_loss: 1.3329 - learning_rate: 0.0010\n",
      "Epoch 6/50\n",
      "\u001b[1m664/664\u001b[0m \u001b[32m━━━━━━━━━━━━━━━━━━━━\u001b[0m\u001b[37m\u001b[0m \u001b[1m167s\u001b[0m 252ms/step - accuracy: 0.6105 - loss: 1.1177 - val_accuracy: 0.5737 - val_loss: 1.2300 - learning_rate: 0.0010\n",
      "Epoch 7/50\n",
      "\u001b[1m664/664\u001b[0m \u001b[32m━━━━━━━━━━━━━━━━━━━━\u001b[0m\u001b[37m\u001b[0m \u001b[1m156s\u001b[0m 235ms/step - accuracy: 0.6139 - loss: 1.1136 - val_accuracy: 0.5836 - val_loss: 1.1986 - learning_rate: 0.0010\n",
      "Epoch 8/50\n",
      "\u001b[1m664/664\u001b[0m \u001b[32m━━━━━━━━━━━━━━━━━━━━\u001b[0m\u001b[37m\u001b[0m \u001b[1m166s\u001b[0m 250ms/step - accuracy: 0.6349 - loss: 1.0466 - val_accuracy: 0.5043 - val_loss: 1.5489 - learning_rate: 0.0010\n",
      "Epoch 9/50\n",
      "\u001b[1m664/664\u001b[0m \u001b[32m━━━━━━━━━━━━━━━━━━━━\u001b[0m\u001b[37m\u001b[0m \u001b[1m166s\u001b[0m 250ms/step - accuracy: 0.6521 - loss: 1.0055 - val_accuracy: 0.5186 - val_loss: 1.3764 - learning_rate: 0.0010\n",
      "Epoch 10/50\n",
      "\u001b[1m664/664\u001b[0m \u001b[32m━━━━━━━━━━━━━━━━━━━━\u001b[0m\u001b[37m\u001b[0m \u001b[1m165s\u001b[0m 249ms/step - accuracy: 0.6534 - loss: 0.9886 - val_accuracy: 0.5902 - val_loss: 1.2030 - learning_rate: 8.0000e-04\n",
      "Epoch 11/50\n",
      "\u001b[1m664/664\u001b[0m \u001b[32m━━━━━━━━━━━━━━━━━━━━\u001b[0m\u001b[37m\u001b[0m \u001b[1m163s\u001b[0m 246ms/step - accuracy: 0.6646 - loss: 0.9566 - val_accuracy: 0.5874 - val_loss: 1.1817 - learning_rate: 8.0000e-04\n",
      "Epoch 12/50\n",
      "\u001b[1m664/664\u001b[0m \u001b[32m━━━━━━━━━━━━━━━━━━━━\u001b[0m\u001b[37m\u001b[0m \u001b[1m160s\u001b[0m 242ms/step - accuracy: 0.6671 - loss: 0.9406 - val_accuracy: 0.6139 - val_loss: 1.1022 - learning_rate: 8.0000e-04\n",
      "Epoch 13/50\n",
      "\u001b[1m664/664\u001b[0m \u001b[32m━━━━━━━━━━━━━━━━━━━━\u001b[0m\u001b[37m\u001b[0m \u001b[1m164s\u001b[0m 247ms/step - accuracy: 0.6737 - loss: 0.9319 - val_accuracy: 0.6021 - val_loss: 1.1466 - learning_rate: 8.0000e-04\n",
      "Epoch 14/50\n",
      "\u001b[1m664/664\u001b[0m \u001b[32m━━━━━━━━━━━━━━━━━━━━\u001b[0m\u001b[37m\u001b[0m \u001b[1m163s\u001b[0m 246ms/step - accuracy: 0.6865 - loss: 0.8912 - val_accuracy: 0.6050 - val_loss: 1.1329 - learning_rate: 8.0000e-04\n",
      "Epoch 15/50\n",
      "\u001b[1m664/664\u001b[0m \u001b[32m━━━━━━━━━━━━━━━━━━━━\u001b[0m\u001b[37m\u001b[0m \u001b[1m162s\u001b[0m 244ms/step - accuracy: 0.6954 - loss: 0.8681 - val_accuracy: 0.6124 - val_loss: 1.1484 - learning_rate: 6.4000e-04\n",
      "Epoch 16/50\n",
      "\u001b[1m664/664\u001b[0m \u001b[32m━━━━━━━━━━━━━━━━━━━━\u001b[0m\u001b[37m\u001b[0m \u001b[1m161s\u001b[0m 243ms/step - accuracy: 0.7103 - loss: 0.8281 - val_accuracy: 0.6399 - val_loss: 1.0613 - learning_rate: 6.4000e-04\n",
      "Epoch 17/50\n",
      "\u001b[1m664/664\u001b[0m \u001b[32m━━━━━━━━━━━━━━━━━━━━\u001b[0m\u001b[37m\u001b[0m \u001b[1m158s\u001b[0m 238ms/step - accuracy: 0.7126 - loss: 0.8047 - val_accuracy: 0.6146 - val_loss: 1.1206 - learning_rate: 6.4000e-04\n",
      "Epoch 18/50\n",
      "\u001b[1m664/664\u001b[0m \u001b[32m━━━━━━━━━━━━━━━━━━━━\u001b[0m\u001b[37m\u001b[0m \u001b[1m160s\u001b[0m 242ms/step - accuracy: 0.7153 - loss: 0.8051 - val_accuracy: 0.6252 - val_loss: 1.0849 - learning_rate: 6.4000e-04\n",
      "Epoch 19/50\n",
      "\u001b[1m664/664\u001b[0m \u001b[32m━━━━━━━━━━━━━━━━━━━━\u001b[0m\u001b[37m\u001b[0m \u001b[1m160s\u001b[0m 242ms/step - accuracy: 0.7260 - loss: 0.7759 - val_accuracy: 0.5686 - val_loss: 1.3280 - learning_rate: 5.1200e-04\n",
      "Epoch 20/50\n",
      "\u001b[1m664/664\u001b[0m \u001b[32m━━━━━━━━━━━━━━━━━━━━\u001b[0m\u001b[37m\u001b[0m \u001b[1m159s\u001b[0m 240ms/step - accuracy: 0.7271 - loss: 0.7662 - val_accuracy: 0.6470 - val_loss: 1.0565 - learning_rate: 5.1200e-04\n",
      "Epoch 21/50\n",
      "\u001b[1m664/664\u001b[0m \u001b[32m━━━━━━━━━━━━━━━━━━━━\u001b[0m\u001b[37m\u001b[0m \u001b[1m163s\u001b[0m 245ms/step - accuracy: 0.7405 - loss: 0.7387 - val_accuracy: 0.6009 - val_loss: 1.2190 - learning_rate: 5.1200e-04\n",
      "Epoch 22/50\n",
      "\u001b[1m664/664\u001b[0m \u001b[32m━━━━━━━━━━━━━━━━━━━━\u001b[0m\u001b[37m\u001b[0m \u001b[1m160s\u001b[0m 241ms/step - accuracy: 0.7409 - loss: 0.7274 - val_accuracy: 0.6459 - val_loss: 1.0479 - learning_rate: 5.1200e-04\n",
      "Epoch 23/50\n",
      "\u001b[1m664/664\u001b[0m \u001b[32m━━━━━━━━━━━━━━━━━━━━\u001b[0m\u001b[37m\u001b[0m \u001b[1m162s\u001b[0m 244ms/step - accuracy: 0.7496 - loss: 0.7123 - val_accuracy: 0.6201 - val_loss: 1.1095 - learning_rate: 5.1200e-04\n",
      "Epoch 24/50\n",
      "\u001b[1m664/664\u001b[0m \u001b[32m━━━━━━━━━━━━━━━━━━━━\u001b[0m\u001b[37m\u001b[0m \u001b[1m159s\u001b[0m 240ms/step - accuracy: 0.7523 - loss: 0.6973 - val_accuracy: 0.6399 - val_loss: 1.0900 - learning_rate: 5.1200e-04\n",
      "Epoch 25/50\n",
      "\u001b[1m664/664\u001b[0m \u001b[32m━━━━━━━━━━━━━━━━━━━━\u001b[0m\u001b[37m\u001b[0m \u001b[1m163s\u001b[0m 245ms/step - accuracy: 0.7517 - loss: 0.6920 - val_accuracy: 0.6395 - val_loss: 1.1044 - learning_rate: 4.0960e-04\n",
      "Epoch 26/50\n",
      "\u001b[1m664/664\u001b[0m \u001b[32m━━━━━━━━━━━━━━━━━━━━\u001b[0m\u001b[37m\u001b[0m \u001b[1m159s\u001b[0m 240ms/step - accuracy: 0.7648 - loss: 0.6616 - val_accuracy: 0.5875 - val_loss: 1.2123 - learning_rate: 4.0960e-04\n",
      "Epoch 27/50\n",
      "\u001b[1m664/664\u001b[0m \u001b[32m━━━━━━━━━━━━━━━━━━━━\u001b[0m\u001b[37m\u001b[0m \u001b[1m161s\u001b[0m 243ms/step - accuracy: 0.7655 - loss: 0.6630 - val_accuracy: 0.6194 - val_loss: 1.1286 - learning_rate: 3.2768e-04\n",
      "Epoch 28/50\n",
      "\u001b[1m664/664\u001b[0m \u001b[32m━━━━━━━━━━━━━━━━━━━━\u001b[0m\u001b[37m\u001b[0m \u001b[1m161s\u001b[0m 242ms/step - accuracy: 0.7710 - loss: 0.6366 - val_accuracy: 0.6393 - val_loss: 1.1170 - learning_rate: 3.2768e-04\n",
      "Epoch 29/50\n",
      "\u001b[1m664/664\u001b[0m \u001b[32m━━━━━━━━━━━━━━━━━━━━\u001b[0m\u001b[37m\u001b[0m \u001b[1m159s\u001b[0m 239ms/step - accuracy: 0.7865 - loss: 0.5998 - val_accuracy: 0.6425 - val_loss: 1.0863 - learning_rate: 2.6214e-04\n",
      "Epoch 30/50\n",
      "\u001b[1m664/664\u001b[0m \u001b[32m━━━━━━━━━━━━━━━━━━━━\u001b[0m\u001b[37m\u001b[0m \u001b[1m161s\u001b[0m 242ms/step - accuracy: 0.7828 - loss: 0.6023 - val_accuracy: 0.6198 - val_loss: 1.2411 - learning_rate: 2.6214e-04\n",
      "Epoch 31/50\n",
      "\u001b[1m664/664\u001b[0m \u001b[32m━━━━━━━━━━━━━━━━━━━━\u001b[0m\u001b[37m\u001b[0m \u001b[1m160s\u001b[0m 241ms/step - accuracy: 0.7852 - loss: 0.5894 - val_accuracy: 0.6474 - val_loss: 1.0747 - learning_rate: 2.0972e-04\n",
      "Epoch 32/50\n",
      "\u001b[1m664/664\u001b[0m \u001b[32m━━━━━━━━━━━━━━━━━━━━\u001b[0m\u001b[37m\u001b[0m \u001b[1m162s\u001b[0m 244ms/step - accuracy: 0.7941 - loss: 0.5700 - val_accuracy: 0.6493 - val_loss: 1.0936 - learning_rate: 2.0972e-04\n",
      "Epoch 33/50\n",
      "\u001b[1m664/664\u001b[0m \u001b[32m━━━━━━━━━━━━━━━━━━━━\u001b[0m\u001b[37m\u001b[0m \u001b[1m158s\u001b[0m 238ms/step - accuracy: 0.7950 - loss: 0.5750 - val_accuracy: 0.6486 - val_loss: 1.0980 - learning_rate: 1.6777e-04\n",
      "Epoch 34/50\n",
      "\u001b[1m664/664\u001b[0m \u001b[32m━━━━━━━━━━━━━━━━━━━━\u001b[0m\u001b[37m\u001b[0m \u001b[1m160s\u001b[0m 242ms/step - accuracy: 0.8025 - loss: 0.5509 - val_accuracy: 0.6467 - val_loss: 1.0849 - learning_rate: 1.6777e-04\n",
      "Epoch 35/50\n",
      "\u001b[1m664/664\u001b[0m \u001b[32m━━━━━━━━━━━━━━━━━━━━\u001b[0m\u001b[37m\u001b[0m \u001b[1m160s\u001b[0m 241ms/step - accuracy: 0.8073 - loss: 0.5367 - val_accuracy: 0.6477 - val_loss: 1.0874 - learning_rate: 1.3422e-04\n",
      "Epoch 36/50\n",
      "\u001b[1m664/664\u001b[0m \u001b[32m━━━━━━━━━━━━━━━━━━━━\u001b[0m\u001b[37m\u001b[0m \u001b[1m159s\u001b[0m 240ms/step - accuracy: 0.8089 - loss: 0.5378 - val_accuracy: 0.6512 - val_loss: 1.0900 - learning_rate: 1.3422e-04\n",
      "Epoch 37/50\n",
      "\u001b[1m664/664\u001b[0m \u001b[32m━━━━━━━━━━━━━━━━━━━━\u001b[0m\u001b[37m\u001b[0m \u001b[1m162s\u001b[0m 245ms/step - accuracy: 0.8086 - loss: 0.5246 - val_accuracy: 0.6491 - val_loss: 1.0892 - learning_rate: 1.0737e-04\n",
      "Epoch 38/50\n",
      "\u001b[1m664/664\u001b[0m \u001b[32m━━━━━━━━━━━━━━━━━━━━\u001b[0m\u001b[37m\u001b[0m \u001b[1m167s\u001b[0m 252ms/step - accuracy: 0.8142 - loss: 0.5210 - val_accuracy: 0.6486 - val_loss: 1.0949 - learning_rate: 1.0737e-04\n",
      "Epoch 39/50\n",
      "\u001b[1m664/664\u001b[0m \u001b[32m━━━━━━━━━━━━━━━━━━━━\u001b[0m\u001b[37m\u001b[0m \u001b[1m171s\u001b[0m 257ms/step - accuracy: 0.8141 - loss: 0.5208 - val_accuracy: 0.6520 - val_loss: 1.0697 - learning_rate: 8.5899e-05\n",
      "Epoch 40/50\n",
      "\u001b[1m664/664\u001b[0m \u001b[32m━━━━━━━━━━━━━━━━━━━━\u001b[0m\u001b[37m\u001b[0m \u001b[1m168s\u001b[0m 253ms/step - accuracy: 0.8188 - loss: 0.5048 - val_accuracy: 0.6584 - val_loss: 1.1002 - learning_rate: 8.5899e-05\n",
      "Epoch 41/50\n",
      "\u001b[1m664/664\u001b[0m \u001b[32m━━━━━━━━━━━━━━━━━━━━\u001b[0m\u001b[37m\u001b[0m \u001b[1m170s\u001b[0m 256ms/step - accuracy: 0.8214 - loss: 0.5029 - val_accuracy: 0.6522 - val_loss: 1.0836 - learning_rate: 6.8719e-05\n",
      "Epoch 42/50\n",
      "\u001b[1m664/664\u001b[0m \u001b[32m━━━━━━━━━━━━━━━━━━━━\u001b[0m\u001b[37m\u001b[0m \u001b[1m165s\u001b[0m 248ms/step - accuracy: 0.8223 - loss: 0.4913 - val_accuracy: 0.6556 - val_loss: 1.0851 - learning_rate: 6.8719e-05\n",
      "Epoch 43/50\n",
      "\u001b[1m664/664\u001b[0m \u001b[32m━━━━━━━━━━━━━━━━━━━━\u001b[0m\u001b[37m\u001b[0m \u001b[1m168s\u001b[0m 253ms/step - accuracy: 0.8208 - loss: 0.4971 - val_accuracy: 0.6501 - val_loss: 1.1186 - learning_rate: 5.4976e-05\n",
      "Epoch 44/50\n",
      "\u001b[1m664/664\u001b[0m \u001b[32m━━━━━━━━━━━━━━━━━━━━\u001b[0m\u001b[37m\u001b[0m \u001b[1m165s\u001b[0m 248ms/step - accuracy: 0.8253 - loss: 0.4916 - val_accuracy: 0.6599 - val_loss: 1.0984 - learning_rate: 5.4976e-05\n",
      "Epoch 45/50\n",
      "\u001b[1m664/664\u001b[0m \u001b[32m━━━━━━━━━━━━━━━━━━━━\u001b[0m\u001b[37m\u001b[0m \u001b[1m166s\u001b[0m 251ms/step - accuracy: 0.8238 - loss: 0.4882 - val_accuracy: 0.6563 - val_loss: 1.0860 - learning_rate: 4.3980e-05\n",
      "Epoch 46/50\n",
      "\u001b[1m664/664\u001b[0m \u001b[32m━━━━━━━━━━━━━━━━━━━━\u001b[0m\u001b[37m\u001b[0m \u001b[1m163s\u001b[0m 246ms/step - accuracy: 0.8302 - loss: 0.4727 - val_accuracy: 0.6537 - val_loss: 1.1167 - learning_rate: 4.3980e-05\n",
      "Epoch 47/50\n",
      "\u001b[1m664/664\u001b[0m \u001b[32m━━━━━━━━━━━━━━━━━━━━\u001b[0m\u001b[37m\u001b[0m \u001b[1m163s\u001b[0m 246ms/step - accuracy: 0.8287 - loss: 0.4795 - val_accuracy: 0.6606 - val_loss: 1.1029 - learning_rate: 3.5184e-05\n",
      "Epoch 48/50\n",
      "\u001b[1m664/664\u001b[0m \u001b[32m━━━━━━━━━━━━━━━━━━━━\u001b[0m\u001b[37m\u001b[0m \u001b[1m163s\u001b[0m 246ms/step - accuracy: 0.8260 - loss: 0.4846 - val_accuracy: 0.6463 - val_loss: 1.1385 - learning_rate: 3.5184e-05\n",
      "Epoch 49/50\n",
      "\u001b[1m664/664\u001b[0m \u001b[32m━━━━━━━━━━━━━━━━━━━━\u001b[0m\u001b[37m\u001b[0m \u001b[1m163s\u001b[0m 245ms/step - accuracy: 0.8318 - loss: 0.4730 - val_accuracy: 0.6529 - val_loss: 1.1170 - learning_rate: 2.8147e-05\n",
      "Epoch 50/50\n",
      "\u001b[1m664/664\u001b[0m \u001b[32m━━━━━━━━━━━━━━━━━━━━\u001b[0m\u001b[37m\u001b[0m \u001b[1m165s\u001b[0m 249ms/step - accuracy: 0.8309 - loss: 0.4677 - val_accuracy: 0.6509 - val_loss: 1.1080 - learning_rate: 2.8147e-05\n"
     ]
    }
   ],
   "source": [
    "# Entrenamiento\n",
    "history_1 = model_1.fit(\n",
    "    train_dataset,\n",
    "    epochs=epochs,\n",
    "    callbacks=callbacks,\n",
    "    validation_data=validation_dataset,\n",
    "    validation_steps=validation_generator.samples // batch_size,\n",
    "    steps_per_epoch=train_generator.samples // batch_size,\n",
    ")"
   ]
  },
  {
   "cell_type": "markdown",
   "metadata": {
    "executionInfo": {
     "elapsed": 5,
     "status": "ok",
     "timestamp": 1732161920021,
     "user": {
      "displayName": "Méndez Oliveros Dayra Celeste",
      "userId": "01489395019989799837"
     },
     "user_tz": 360
    },
    "id": "vEfkdrn1e3Qr"
   },
   "source": [
    "***Modelo 2***"
   ]
  },
  {
   "cell_type": "code",
   "execution_count": 101,
   "metadata": {
    "colab": {
     "base_uri": "https://localhost:8080/"
    },
    "executionInfo": {
     "elapsed": 372,
     "status": "ok",
     "timestamp": 1732161919617,
     "user": {
      "displayName": "Méndez Oliveros Dayra Celeste",
      "userId": "01489395019989799837"
     },
     "user_tz": 360
    },
    "id": "sMp23F3sedta",
    "outputId": "e35042d8-d2c8-4e22-dbf1-ac6e59c2fb49"
   },
   "outputs": [],
   "source": [
    "# Arquitectura de modelo\n",
    "model_2 = models.Sequential([\n",
    "\n",
    "    # Entrada\n",
    "    layers.Input(shape=(img_height, img_width, 3)),\n",
    "    \n",
    "    # Capa 1\n",
    "    layers.Conv2D(32, kernel_size, activation=layer_activation, padding=padding),\n",
    "    layers.BatchNormalization(),\n",
    "    layers.MaxPooling2D(pool_size),\n",
    "\n",
    "    # Capa 2\n",
    "    layers.Conv2D(64, kernel_size, activation=layer_activation, padding=padding),\n",
    "    layers.BatchNormalization(),\n",
    "    layers.MaxPooling2D(pool_size),\n",
    "\n",
    "    # Capa 3\n",
    "    layers.Conv2D(128, kernel_size, activation=layer_activation, padding=padding),\n",
    "    layers.BatchNormalization(),\n",
    "    layers.MaxPooling2D(pool_size),\n",
    "\n",
    "    # Capa 4\n",
    "    layers.Conv2D(256, kernel_size, activation=layer_activation, padding=padding),\n",
    "    layers.BatchNormalization(),\n",
    "    layers.MaxPooling2D(pool_size),\n",
    "\n",
    "    # Aplanamiento global\n",
    "    layers.GlobalAveragePooling2D(),\n",
    "\n",
    "    # Capa densa\n",
    "    layers.Dense(512, activation=layer_activation),\n",
    "    layers.BatchNormalization(),\n",
    "\n",
    "    # Capa de salida\n",
    "    layers.Dense(num_categories, activation=output_activation)\n",
    "])"
   ]
  },
  {
   "cell_type": "code",
   "execution_count": 103,
   "metadata": {
    "executionInfo": {
     "elapsed": 9,
     "status": "ok",
     "timestamp": 1732161919618,
     "user": {
      "displayName": "Méndez Oliveros Dayra Celeste",
      "userId": "01489395019989799837"
     },
     "user_tz": 360
    },
    "id": "BlRjdeJCedw4"
   },
   "outputs": [],
   "source": [
    "# Compilación del modelo\n",
    "model_2.compile(optimizer=optimizer, loss=loss, metrics=metrics)"
   ]
  },
  {
   "cell_type": "code",
   "execution_count": 105,
   "metadata": {
    "colab": {
     "base_uri": "https://localhost:8080/",
     "height": 737
    },
    "executionInfo": {
     "elapsed": 411,
     "status": "ok",
     "timestamp": 1732161920020,
     "user": {
      "displayName": "Méndez Oliveros Dayra Celeste",
      "userId": "01489395019989799837"
     },
     "user_tz": 360
    },
    "id": "eIjSlBjpfgMy",
    "outputId": "2b4b4b15-a547-43eb-eb28-bf2196ad08e8"
   },
   "outputs": [
    {
     "data": {
      "text/html": [
       "<pre style=\"white-space:pre;overflow-x:auto;line-height:normal;font-family:Menlo,'DejaVu Sans Mono',consolas,'Courier New',monospace\"><span style=\"font-weight: bold\">Model: \"sequential_5\"</span>\n",
       "</pre>\n"
      ],
      "text/plain": [
       "\u001b[1mModel: \"sequential_5\"\u001b[0m\n"
      ]
     },
     "metadata": {},
     "output_type": "display_data"
    },
    {
     "data": {
      "text/html": [
       "<pre style=\"white-space:pre;overflow-x:auto;line-height:normal;font-family:Menlo,'DejaVu Sans Mono',consolas,'Courier New',monospace\">┏━━━━━━━━━━━━━━━━━━━━━━━━━━━━━━━━━━━━━━┳━━━━━━━━━━━━━━━━━━━━━━━━━━━━━┳━━━━━━━━━━━━━━━━━┓\n",
       "┃<span style=\"font-weight: bold\"> Layer (type)                         </span>┃<span style=\"font-weight: bold\"> Output Shape                </span>┃<span style=\"font-weight: bold\">         Param # </span>┃\n",
       "┡━━━━━━━━━━━━━━━━━━━━━━━━━━━━━━━━━━━━━━╇━━━━━━━━━━━━━━━━━━━━━━━━━━━━━╇━━━━━━━━━━━━━━━━━┩\n",
       "│ conv2d_24 (<span style=\"color: #0087ff; text-decoration-color: #0087ff\">Conv2D</span>)                   │ (<span style=\"color: #00d7ff; text-decoration-color: #00d7ff\">None</span>, <span style=\"color: #00af00; text-decoration-color: #00af00\">96</span>, <span style=\"color: #00af00; text-decoration-color: #00af00\">96</span>, <span style=\"color: #00af00; text-decoration-color: #00af00\">32</span>)          │             <span style=\"color: #00af00; text-decoration-color: #00af00\">896</span> │\n",
       "├──────────────────────────────────────┼─────────────────────────────┼─────────────────┤\n",
       "│ batch_normalization_35               │ (<span style=\"color: #00d7ff; text-decoration-color: #00d7ff\">None</span>, <span style=\"color: #00af00; text-decoration-color: #00af00\">96</span>, <span style=\"color: #00af00; text-decoration-color: #00af00\">96</span>, <span style=\"color: #00af00; text-decoration-color: #00af00\">32</span>)          │             <span style=\"color: #00af00; text-decoration-color: #00af00\">128</span> │\n",
       "│ (<span style=\"color: #0087ff; text-decoration-color: #0087ff\">BatchNormalization</span>)                 │                             │                 │\n",
       "├──────────────────────────────────────┼─────────────────────────────┼─────────────────┤\n",
       "│ max_pooling2d_24 (<span style=\"color: #0087ff; text-decoration-color: #0087ff\">MaxPooling2D</span>)      │ (<span style=\"color: #00d7ff; text-decoration-color: #00d7ff\">None</span>, <span style=\"color: #00af00; text-decoration-color: #00af00\">48</span>, <span style=\"color: #00af00; text-decoration-color: #00af00\">48</span>, <span style=\"color: #00af00; text-decoration-color: #00af00\">32</span>)          │               <span style=\"color: #00af00; text-decoration-color: #00af00\">0</span> │\n",
       "├──────────────────────────────────────┼─────────────────────────────┼─────────────────┤\n",
       "│ conv2d_25 (<span style=\"color: #0087ff; text-decoration-color: #0087ff\">Conv2D</span>)                   │ (<span style=\"color: #00d7ff; text-decoration-color: #00d7ff\">None</span>, <span style=\"color: #00af00; text-decoration-color: #00af00\">48</span>, <span style=\"color: #00af00; text-decoration-color: #00af00\">48</span>, <span style=\"color: #00af00; text-decoration-color: #00af00\">64</span>)          │          <span style=\"color: #00af00; text-decoration-color: #00af00\">18,496</span> │\n",
       "├──────────────────────────────────────┼─────────────────────────────┼─────────────────┤\n",
       "│ batch_normalization_36               │ (<span style=\"color: #00d7ff; text-decoration-color: #00d7ff\">None</span>, <span style=\"color: #00af00; text-decoration-color: #00af00\">48</span>, <span style=\"color: #00af00; text-decoration-color: #00af00\">48</span>, <span style=\"color: #00af00; text-decoration-color: #00af00\">64</span>)          │             <span style=\"color: #00af00; text-decoration-color: #00af00\">256</span> │\n",
       "│ (<span style=\"color: #0087ff; text-decoration-color: #0087ff\">BatchNormalization</span>)                 │                             │                 │\n",
       "├──────────────────────────────────────┼─────────────────────────────┼─────────────────┤\n",
       "│ max_pooling2d_25 (<span style=\"color: #0087ff; text-decoration-color: #0087ff\">MaxPooling2D</span>)      │ (<span style=\"color: #00d7ff; text-decoration-color: #00d7ff\">None</span>, <span style=\"color: #00af00; text-decoration-color: #00af00\">24</span>, <span style=\"color: #00af00; text-decoration-color: #00af00\">24</span>, <span style=\"color: #00af00; text-decoration-color: #00af00\">64</span>)          │               <span style=\"color: #00af00; text-decoration-color: #00af00\">0</span> │\n",
       "├──────────────────────────────────────┼─────────────────────────────┼─────────────────┤\n",
       "│ conv2d_26 (<span style=\"color: #0087ff; text-decoration-color: #0087ff\">Conv2D</span>)                   │ (<span style=\"color: #00d7ff; text-decoration-color: #00d7ff\">None</span>, <span style=\"color: #00af00; text-decoration-color: #00af00\">24</span>, <span style=\"color: #00af00; text-decoration-color: #00af00\">24</span>, <span style=\"color: #00af00; text-decoration-color: #00af00\">128</span>)         │          <span style=\"color: #00af00; text-decoration-color: #00af00\">73,856</span> │\n",
       "├──────────────────────────────────────┼─────────────────────────────┼─────────────────┤\n",
       "│ batch_normalization_37               │ (<span style=\"color: #00d7ff; text-decoration-color: #00d7ff\">None</span>, <span style=\"color: #00af00; text-decoration-color: #00af00\">24</span>, <span style=\"color: #00af00; text-decoration-color: #00af00\">24</span>, <span style=\"color: #00af00; text-decoration-color: #00af00\">128</span>)         │             <span style=\"color: #00af00; text-decoration-color: #00af00\">512</span> │\n",
       "│ (<span style=\"color: #0087ff; text-decoration-color: #0087ff\">BatchNormalization</span>)                 │                             │                 │\n",
       "├──────────────────────────────────────┼─────────────────────────────┼─────────────────┤\n",
       "│ max_pooling2d_26 (<span style=\"color: #0087ff; text-decoration-color: #0087ff\">MaxPooling2D</span>)      │ (<span style=\"color: #00d7ff; text-decoration-color: #00d7ff\">None</span>, <span style=\"color: #00af00; text-decoration-color: #00af00\">12</span>, <span style=\"color: #00af00; text-decoration-color: #00af00\">12</span>, <span style=\"color: #00af00; text-decoration-color: #00af00\">128</span>)         │               <span style=\"color: #00af00; text-decoration-color: #00af00\">0</span> │\n",
       "├──────────────────────────────────────┼─────────────────────────────┼─────────────────┤\n",
       "│ conv2d_27 (<span style=\"color: #0087ff; text-decoration-color: #0087ff\">Conv2D</span>)                   │ (<span style=\"color: #00d7ff; text-decoration-color: #00d7ff\">None</span>, <span style=\"color: #00af00; text-decoration-color: #00af00\">12</span>, <span style=\"color: #00af00; text-decoration-color: #00af00\">12</span>, <span style=\"color: #00af00; text-decoration-color: #00af00\">256</span>)         │         <span style=\"color: #00af00; text-decoration-color: #00af00\">295,168</span> │\n",
       "├──────────────────────────────────────┼─────────────────────────────┼─────────────────┤\n",
       "│ batch_normalization_38               │ (<span style=\"color: #00d7ff; text-decoration-color: #00d7ff\">None</span>, <span style=\"color: #00af00; text-decoration-color: #00af00\">12</span>, <span style=\"color: #00af00; text-decoration-color: #00af00\">12</span>, <span style=\"color: #00af00; text-decoration-color: #00af00\">256</span>)         │           <span style=\"color: #00af00; text-decoration-color: #00af00\">1,024</span> │\n",
       "│ (<span style=\"color: #0087ff; text-decoration-color: #0087ff\">BatchNormalization</span>)                 │                             │                 │\n",
       "├──────────────────────────────────────┼─────────────────────────────┼─────────────────┤\n",
       "│ max_pooling2d_27 (<span style=\"color: #0087ff; text-decoration-color: #0087ff\">MaxPooling2D</span>)      │ (<span style=\"color: #00d7ff; text-decoration-color: #00d7ff\">None</span>, <span style=\"color: #00af00; text-decoration-color: #00af00\">6</span>, <span style=\"color: #00af00; text-decoration-color: #00af00\">6</span>, <span style=\"color: #00af00; text-decoration-color: #00af00\">256</span>)           │               <span style=\"color: #00af00; text-decoration-color: #00af00\">0</span> │\n",
       "├──────────────────────────────────────┼─────────────────────────────┼─────────────────┤\n",
       "│ global_average_pooling2d_5           │ (<span style=\"color: #00d7ff; text-decoration-color: #00d7ff\">None</span>, <span style=\"color: #00af00; text-decoration-color: #00af00\">256</span>)                 │               <span style=\"color: #00af00; text-decoration-color: #00af00\">0</span> │\n",
       "│ (<span style=\"color: #0087ff; text-decoration-color: #0087ff\">GlobalAveragePooling2D</span>)             │                             │                 │\n",
       "├──────────────────────────────────────┼─────────────────────────────┼─────────────────┤\n",
       "│ dense_15 (<span style=\"color: #0087ff; text-decoration-color: #0087ff\">Dense</span>)                     │ (<span style=\"color: #00d7ff; text-decoration-color: #00d7ff\">None</span>, <span style=\"color: #00af00; text-decoration-color: #00af00\">512</span>)                 │         <span style=\"color: #00af00; text-decoration-color: #00af00\">131,584</span> │\n",
       "├──────────────────────────────────────┼─────────────────────────────┼─────────────────┤\n",
       "│ batch_normalization_39               │ (<span style=\"color: #00d7ff; text-decoration-color: #00d7ff\">None</span>, <span style=\"color: #00af00; text-decoration-color: #00af00\">512</span>)                 │           <span style=\"color: #00af00; text-decoration-color: #00af00\">2,048</span> │\n",
       "│ (<span style=\"color: #0087ff; text-decoration-color: #0087ff\">BatchNormalization</span>)                 │                             │                 │\n",
       "├──────────────────────────────────────┼─────────────────────────────┼─────────────────┤\n",
       "│ dense_16 (<span style=\"color: #0087ff; text-decoration-color: #0087ff\">Dense</span>)                     │ (<span style=\"color: #00d7ff; text-decoration-color: #00d7ff\">None</span>, <span style=\"color: #00af00; text-decoration-color: #00af00\">10</span>)                  │           <span style=\"color: #00af00; text-decoration-color: #00af00\">5,130</span> │\n",
       "└──────────────────────────────────────┴─────────────────────────────┴─────────────────┘\n",
       "</pre>\n"
      ],
      "text/plain": [
       "┏━━━━━━━━━━━━━━━━━━━━━━━━━━━━━━━━━━━━━━┳━━━━━━━━━━━━━━━━━━━━━━━━━━━━━┳━━━━━━━━━━━━━━━━━┓\n",
       "┃\u001b[1m \u001b[0m\u001b[1mLayer (type)                        \u001b[0m\u001b[1m \u001b[0m┃\u001b[1m \u001b[0m\u001b[1mOutput Shape               \u001b[0m\u001b[1m \u001b[0m┃\u001b[1m \u001b[0m\u001b[1m        Param #\u001b[0m\u001b[1m \u001b[0m┃\n",
       "┡━━━━━━━━━━━━━━━━━━━━━━━━━━━━━━━━━━━━━━╇━━━━━━━━━━━━━━━━━━━━━━━━━━━━━╇━━━━━━━━━━━━━━━━━┩\n",
       "│ conv2d_24 (\u001b[38;5;33mConv2D\u001b[0m)                   │ (\u001b[38;5;45mNone\u001b[0m, \u001b[38;5;34m96\u001b[0m, \u001b[38;5;34m96\u001b[0m, \u001b[38;5;34m32\u001b[0m)          │             \u001b[38;5;34m896\u001b[0m │\n",
       "├──────────────────────────────────────┼─────────────────────────────┼─────────────────┤\n",
       "│ batch_normalization_35               │ (\u001b[38;5;45mNone\u001b[0m, \u001b[38;5;34m96\u001b[0m, \u001b[38;5;34m96\u001b[0m, \u001b[38;5;34m32\u001b[0m)          │             \u001b[38;5;34m128\u001b[0m │\n",
       "│ (\u001b[38;5;33mBatchNormalization\u001b[0m)                 │                             │                 │\n",
       "├──────────────────────────────────────┼─────────────────────────────┼─────────────────┤\n",
       "│ max_pooling2d_24 (\u001b[38;5;33mMaxPooling2D\u001b[0m)      │ (\u001b[38;5;45mNone\u001b[0m, \u001b[38;5;34m48\u001b[0m, \u001b[38;5;34m48\u001b[0m, \u001b[38;5;34m32\u001b[0m)          │               \u001b[38;5;34m0\u001b[0m │\n",
       "├──────────────────────────────────────┼─────────────────────────────┼─────────────────┤\n",
       "│ conv2d_25 (\u001b[38;5;33mConv2D\u001b[0m)                   │ (\u001b[38;5;45mNone\u001b[0m, \u001b[38;5;34m48\u001b[0m, \u001b[38;5;34m48\u001b[0m, \u001b[38;5;34m64\u001b[0m)          │          \u001b[38;5;34m18,496\u001b[0m │\n",
       "├──────────────────────────────────────┼─────────────────────────────┼─────────────────┤\n",
       "│ batch_normalization_36               │ (\u001b[38;5;45mNone\u001b[0m, \u001b[38;5;34m48\u001b[0m, \u001b[38;5;34m48\u001b[0m, \u001b[38;5;34m64\u001b[0m)          │             \u001b[38;5;34m256\u001b[0m │\n",
       "│ (\u001b[38;5;33mBatchNormalization\u001b[0m)                 │                             │                 │\n",
       "├──────────────────────────────────────┼─────────────────────────────┼─────────────────┤\n",
       "│ max_pooling2d_25 (\u001b[38;5;33mMaxPooling2D\u001b[0m)      │ (\u001b[38;5;45mNone\u001b[0m, \u001b[38;5;34m24\u001b[0m, \u001b[38;5;34m24\u001b[0m, \u001b[38;5;34m64\u001b[0m)          │               \u001b[38;5;34m0\u001b[0m │\n",
       "├──────────────────────────────────────┼─────────────────────────────┼─────────────────┤\n",
       "│ conv2d_26 (\u001b[38;5;33mConv2D\u001b[0m)                   │ (\u001b[38;5;45mNone\u001b[0m, \u001b[38;5;34m24\u001b[0m, \u001b[38;5;34m24\u001b[0m, \u001b[38;5;34m128\u001b[0m)         │          \u001b[38;5;34m73,856\u001b[0m │\n",
       "├──────────────────────────────────────┼─────────────────────────────┼─────────────────┤\n",
       "│ batch_normalization_37               │ (\u001b[38;5;45mNone\u001b[0m, \u001b[38;5;34m24\u001b[0m, \u001b[38;5;34m24\u001b[0m, \u001b[38;5;34m128\u001b[0m)         │             \u001b[38;5;34m512\u001b[0m │\n",
       "│ (\u001b[38;5;33mBatchNormalization\u001b[0m)                 │                             │                 │\n",
       "├──────────────────────────────────────┼─────────────────────────────┼─────────────────┤\n",
       "│ max_pooling2d_26 (\u001b[38;5;33mMaxPooling2D\u001b[0m)      │ (\u001b[38;5;45mNone\u001b[0m, \u001b[38;5;34m12\u001b[0m, \u001b[38;5;34m12\u001b[0m, \u001b[38;5;34m128\u001b[0m)         │               \u001b[38;5;34m0\u001b[0m │\n",
       "├──────────────────────────────────────┼─────────────────────────────┼─────────────────┤\n",
       "│ conv2d_27 (\u001b[38;5;33mConv2D\u001b[0m)                   │ (\u001b[38;5;45mNone\u001b[0m, \u001b[38;5;34m12\u001b[0m, \u001b[38;5;34m12\u001b[0m, \u001b[38;5;34m256\u001b[0m)         │         \u001b[38;5;34m295,168\u001b[0m │\n",
       "├──────────────────────────────────────┼─────────────────────────────┼─────────────────┤\n",
       "│ batch_normalization_38               │ (\u001b[38;5;45mNone\u001b[0m, \u001b[38;5;34m12\u001b[0m, \u001b[38;5;34m12\u001b[0m, \u001b[38;5;34m256\u001b[0m)         │           \u001b[38;5;34m1,024\u001b[0m │\n",
       "│ (\u001b[38;5;33mBatchNormalization\u001b[0m)                 │                             │                 │\n",
       "├──────────────────────────────────────┼─────────────────────────────┼─────────────────┤\n",
       "│ max_pooling2d_27 (\u001b[38;5;33mMaxPooling2D\u001b[0m)      │ (\u001b[38;5;45mNone\u001b[0m, \u001b[38;5;34m6\u001b[0m, \u001b[38;5;34m6\u001b[0m, \u001b[38;5;34m256\u001b[0m)           │               \u001b[38;5;34m0\u001b[0m │\n",
       "├──────────────────────────────────────┼─────────────────────────────┼─────────────────┤\n",
       "│ global_average_pooling2d_5           │ (\u001b[38;5;45mNone\u001b[0m, \u001b[38;5;34m256\u001b[0m)                 │               \u001b[38;5;34m0\u001b[0m │\n",
       "│ (\u001b[38;5;33mGlobalAveragePooling2D\u001b[0m)             │                             │                 │\n",
       "├──────────────────────────────────────┼─────────────────────────────┼─────────────────┤\n",
       "│ dense_15 (\u001b[38;5;33mDense\u001b[0m)                     │ (\u001b[38;5;45mNone\u001b[0m, \u001b[38;5;34m512\u001b[0m)                 │         \u001b[38;5;34m131,584\u001b[0m │\n",
       "├──────────────────────────────────────┼─────────────────────────────┼─────────────────┤\n",
       "│ batch_normalization_39               │ (\u001b[38;5;45mNone\u001b[0m, \u001b[38;5;34m512\u001b[0m)                 │           \u001b[38;5;34m2,048\u001b[0m │\n",
       "│ (\u001b[38;5;33mBatchNormalization\u001b[0m)                 │                             │                 │\n",
       "├──────────────────────────────────────┼─────────────────────────────┼─────────────────┤\n",
       "│ dense_16 (\u001b[38;5;33mDense\u001b[0m)                     │ (\u001b[38;5;45mNone\u001b[0m, \u001b[38;5;34m10\u001b[0m)                  │           \u001b[38;5;34m5,130\u001b[0m │\n",
       "└──────────────────────────────────────┴─────────────────────────────┴─────────────────┘\n"
      ]
     },
     "metadata": {},
     "output_type": "display_data"
    },
    {
     "data": {
      "text/html": [
       "<pre style=\"white-space:pre;overflow-x:auto;line-height:normal;font-family:Menlo,'DejaVu Sans Mono',consolas,'Courier New',monospace\"><span style=\"font-weight: bold\"> Total params: </span><span style=\"color: #00af00; text-decoration-color: #00af00\">529,098</span> (2.02 MB)\n",
       "</pre>\n"
      ],
      "text/plain": [
       "\u001b[1m Total params: \u001b[0m\u001b[38;5;34m529,098\u001b[0m (2.02 MB)\n"
      ]
     },
     "metadata": {},
     "output_type": "display_data"
    },
    {
     "data": {
      "text/html": [
       "<pre style=\"white-space:pre;overflow-x:auto;line-height:normal;font-family:Menlo,'DejaVu Sans Mono',consolas,'Courier New',monospace\"><span style=\"font-weight: bold\"> Trainable params: </span><span style=\"color: #00af00; text-decoration-color: #00af00\">527,114</span> (2.01 MB)\n",
       "</pre>\n"
      ],
      "text/plain": [
       "\u001b[1m Trainable params: \u001b[0m\u001b[38;5;34m527,114\u001b[0m (2.01 MB)\n"
      ]
     },
     "metadata": {},
     "output_type": "display_data"
    },
    {
     "data": {
      "text/html": [
       "<pre style=\"white-space:pre;overflow-x:auto;line-height:normal;font-family:Menlo,'DejaVu Sans Mono',consolas,'Courier New',monospace\"><span style=\"font-weight: bold\"> Non-trainable params: </span><span style=\"color: #00af00; text-decoration-color: #00af00\">1,984</span> (7.75 KB)\n",
       "</pre>\n"
      ],
      "text/plain": [
       "\u001b[1m Non-trainable params: \u001b[0m\u001b[38;5;34m1,984\u001b[0m (7.75 KB)\n"
      ]
     },
     "metadata": {},
     "output_type": "display_data"
    }
   ],
   "source": [
    "# Resumen del modelo\n",
    "model_2.summary()"
   ]
  },
  {
   "cell_type": "code",
   "execution_count": 107,
   "metadata": {},
   "outputs": [
    {
     "data": {
      "image/png": "[encoded data removed]",
      "text/plain": [
       "<PIL.Image.Image image mode=RGBA size=643x512>"
      ]
     },
     "execution_count": 107,
     "metadata": {},
     "output_type": "execute_result"
    }
   ],
   "source": [
    "# Visualización del modelo\n",
    "visualkeras.layered_view(model_2)"
   ]
  },
  {
   "cell_type": "code",
   "execution_count": 36,
   "metadata": {
    "colab": {
     "base_uri": "https://localhost:8080/"
    },
    "executionInfo": {
     "elapsed": 8222523,
     "status": "ok",
     "timestamp": 1732170142539,
     "user": {
      "displayName": "Méndez Oliveros Dayra Celeste",
      "userId": "01489395019989799837"
     },
     "user_tz": 360
    },
    "id": "qPRJxnOqe3f_",
    "outputId": "44033b61-c47e-41a3-b764-172ed2b64016"
   },
   "outputs": [
    {
     "name": "stdout",
     "output_type": "stream",
     "text": [
      "Epoch 1/50\n",
      "\u001b[1m664/664\u001b[0m \u001b[32m━━━━━━━━━━━━━━━━━━━━\u001b[0m\u001b[37m\u001b[0m \u001b[1m189s\u001b[0m 272ms/step - accuracy: 0.4315 - loss: 1.7459 - val_accuracy: 0.3881 - val_loss: 2.0298 - learning_rate: 0.0010\n",
      "Epoch 2/50\n",
      "\u001b[1m664/664\u001b[0m \u001b[32m━━━━━━━━━━━━━━━━━━━━\u001b[0m\u001b[37m\u001b[0m \u001b[1m170s\u001b[0m 257ms/step - accuracy: 0.5237 - loss: 1.3917 - val_accuracy: 0.3544 - val_loss: 2.2254 - learning_rate: 0.0010\n",
      "Epoch 3/50\n",
      "\u001b[1m664/664\u001b[0m \u001b[32m━━━━━━━━━━━━━━━━━━━━\u001b[0m\u001b[37m\u001b[0m \u001b[1m171s\u001b[0m 257ms/step - accuracy: 0.5452 - loss: 1.3285 - val_accuracy: 0.4899 - val_loss: 1.5091 - learning_rate: 0.0010\n",
      "Epoch 4/50\n",
      "\u001b[1m664/664\u001b[0m \u001b[32m━━━━━━━━━━━━━━━━━━━━\u001b[0m\u001b[37m\u001b[0m \u001b[1m169s\u001b[0m 255ms/step - accuracy: 0.5835 - loss: 1.2121 - val_accuracy: 0.4146 - val_loss: 1.9040 - learning_rate: 0.0010\n",
      "Epoch 5/50\n",
      "\u001b[1m664/664\u001b[0m \u001b[32m━━━━━━━━━━━━━━━━━━━━\u001b[0m\u001b[37m\u001b[0m \u001b[1m172s\u001b[0m 259ms/step - accuracy: 0.5952 - loss: 1.1625 - val_accuracy: 0.5527 - val_loss: 1.3329 - learning_rate: 0.0010\n",
      "Epoch 6/50\n",
      "\u001b[1m664/664\u001b[0m \u001b[32m━━━━━━━━━━━━━━━━━━━━\u001b[0m\u001b[37m\u001b[0m \u001b[1m167s\u001b[0m 252ms/step - accuracy: 0.6105 - loss: 1.1177 - val_accuracy: 0.5737 - val_loss: 1.2300 - learning_rate: 0.0010\n",
      "Epoch 7/50\n",
      "\u001b[1m664/664\u001b[0m \u001b[32m━━━━━━━━━━━━━━━━━━━━\u001b[0m\u001b[37m\u001b[0m \u001b[1m156s\u001b[0m 235ms/step - accuracy: 0.6139 - loss: 1.1136 - val_accuracy: 0.5836 - val_loss: 1.1986 - learning_rate: 0.0010\n",
      "Epoch 8/50\n",
      "\u001b[1m664/664\u001b[0m \u001b[32m━━━━━━━━━━━━━━━━━━━━\u001b[0m\u001b[37m\u001b[0m \u001b[1m166s\u001b[0m 250ms/step - accuracy: 0.6349 - loss: 1.0466 - val_accuracy: 0.5043 - val_loss: 1.5489 - learning_rate: 0.0010\n",
      "Epoch 9/50\n",
      "\u001b[1m664/664\u001b[0m \u001b[32m━━━━━━━━━━━━━━━━━━━━\u001b[0m\u001b[37m\u001b[0m \u001b[1m166s\u001b[0m 250ms/step - accuracy: 0.6521 - loss: 1.0055 - val_accuracy: 0.5186 - val_loss: 1.3764 - learning_rate: 0.0010\n",
      "Epoch 10/50\n",
      "\u001b[1m664/664\u001b[0m \u001b[32m━━━━━━━━━━━━━━━━━━━━\u001b[0m\u001b[37m\u001b[0m \u001b[1m165s\u001b[0m 249ms/step - accuracy: 0.6534 - loss: 0.9886 - val_accuracy: 0.5902 - val_loss: 1.2030 - learning_rate: 8.0000e-04\n",
      "Epoch 11/50\n",
      "\u001b[1m664/664\u001b[0m \u001b[32m━━━━━━━━━━━━━━━━━━━━\u001b[0m\u001b[37m\u001b[0m \u001b[1m163s\u001b[0m 246ms/step - accuracy: 0.6646 - loss: 0.9566 - val_accuracy: 0.5874 - val_loss: 1.1817 - learning_rate: 8.0000e-04\n",
      "Epoch 12/50\n",
      "\u001b[1m664/664\u001b[0m \u001b[32m━━━━━━━━━━━━━━━━━━━━\u001b[0m\u001b[37m\u001b[0m \u001b[1m160s\u001b[0m 242ms/step - accuracy: 0.6671 - loss: 0.9406 - val_accuracy: 0.6139 - val_loss: 1.1022 - learning_rate: 8.0000e-04\n",
      "Epoch 13/50\n",
      "\u001b[1m664/664\u001b[0m \u001b[32m━━━━━━━━━━━━━━━━━━━━\u001b[0m\u001b[37m\u001b[0m \u001b[1m164s\u001b[0m 247ms/step - accuracy: 0.6737 - loss: 0.9319 - val_accuracy: 0.6021 - val_loss: 1.1466 - learning_rate: 8.0000e-04\n",
      "Epoch 14/50\n",
      "\u001b[1m664/664\u001b[0m \u001b[32m━━━━━━━━━━━━━━━━━━━━\u001b[0m\u001b[37m\u001b[0m \u001b[1m163s\u001b[0m 246ms/step - accuracy: 0.6865 - loss: 0.8912 - val_accuracy: 0.6050 - val_loss: 1.1329 - learning_rate: 8.0000e-04\n",
      "Epoch 15/50\n",
      "\u001b[1m664/664\u001b[0m \u001b[32m━━━━━━━━━━━━━━━━━━━━\u001b[0m\u001b[37m\u001b[0m \u001b[1m162s\u001b[0m 244ms/step - accuracy: 0.6954 - loss: 0.8681 - val_accuracy: 0.6124 - val_loss: 1.1484 - learning_rate: 6.4000e-04\n",
      "Epoch 16/50\n",
      "\u001b[1m664/664\u001b[0m \u001b[32m━━━━━━━━━━━━━━━━━━━━\u001b[0m\u001b[37m\u001b[0m \u001b[1m161s\u001b[0m 243ms/step - accuracy: 0.7103 - loss: 0.8281 - val_accuracy: 0.6399 - val_loss: 1.0613 - learning_rate: 6.4000e-04\n",
      "Epoch 17/50\n",
      "\u001b[1m664/664\u001b[0m \u001b[32m━━━━━━━━━━━━━━━━━━━━\u001b[0m\u001b[37m\u001b[0m \u001b[1m158s\u001b[0m 238ms/step - accuracy: 0.7126 - loss: 0.8047 - val_accuracy: 0.6146 - val_loss: 1.1206 - learning_rate: 6.4000e-04\n",
      "Epoch 18/50\n",
      "\u001b[1m664/664\u001b[0m \u001b[32m━━━━━━━━━━━━━━━━━━━━\u001b[0m\u001b[37m\u001b[0m \u001b[1m160s\u001b[0m 242ms/step - accuracy: 0.7153 - loss: 0.8051 - val_accuracy: 0.6252 - val_loss: 1.0849 - learning_rate: 6.4000e-04\n",
      "Epoch 19/50\n",
      "\u001b[1m664/664\u001b[0m \u001b[32m━━━━━━━━━━━━━━━━━━━━\u001b[0m\u001b[37m\u001b[0m \u001b[1m160s\u001b[0m 242ms/step - accuracy: 0.7260 - loss: 0.7759 - val_accuracy: 0.5686 - val_loss: 1.3280 - learning_rate: 5.1200e-04\n",
      "Epoch 20/50\n",
      "\u001b[1m664/664\u001b[0m \u001b[32m━━━━━━━━━━━━━━━━━━━━\u001b[0m\u001b[37m\u001b[0m \u001b[1m159s\u001b[0m 240ms/step - accuracy: 0.7271 - loss: 0.7662 - val_accuracy: 0.6470 - val_loss: 1.0565 - learning_rate: 5.1200e-04\n",
      "Epoch 21/50\n",
      "\u001b[1m664/664\u001b[0m \u001b[32m━━━━━━━━━━━━━━━━━━━━\u001b[0m\u001b[37m\u001b[0m \u001b[1m163s\u001b[0m 245ms/step - accuracy: 0.7405 - loss: 0.7387 - val_accuracy: 0.6009 - val_loss: 1.2190 - learning_rate: 5.1200e-04\n",
      "Epoch 22/50\n",
      "\u001b[1m664/664\u001b[0m \u001b[32m━━━━━━━━━━━━━━━━━━━━\u001b[0m\u001b[37m\u001b[0m \u001b[1m160s\u001b[0m 241ms/step - accuracy: 0.7409 - loss: 0.7274 - val_accuracy: 0.6459 - val_loss: 1.0479 - learning_rate: 5.1200e-04\n",
      "Epoch 23/50\n",
      "\u001b[1m664/664\u001b[0m \u001b[32m━━━━━━━━━━━━━━━━━━━━\u001b[0m\u001b[37m\u001b[0m \u001b[1m162s\u001b[0m 244ms/step - accuracy: 0.7496 - loss: 0.7123 - val_accuracy: 0.6201 - val_loss: 1.1095 - learning_rate: 5.1200e-04\n",
      "Epoch 24/50\n",
      "\u001b[1m664/664\u001b[0m \u001b[32m━━━━━━━━━━━━━━━━━━━━\u001b[0m\u001b[37m\u001b[0m \u001b[1m159s\u001b[0m 240ms/step - accuracy: 0.7523 - loss: 0.6973 - val_accuracy: 0.6399 - val_loss: 1.0900 - learning_rate: 5.1200e-04\n",
      "Epoch 25/50\n",
      "\u001b[1m664/664\u001b[0m \u001b[32m━━━━━━━━━━━━━━━━━━━━\u001b[0m\u001b[37m\u001b[0m \u001b[1m163s\u001b[0m 245ms/step - accuracy: 0.7517 - loss: 0.6920 - val_accuracy: 0.6395 - val_loss: 1.1044 - learning_rate: 4.0960e-04\n",
      "Epoch 26/50\n",
      "\u001b[1m664/664\u001b[0m \u001b[32m━━━━━━━━━━━━━━━━━━━━\u001b[0m\u001b[37m\u001b[0m \u001b[1m159s\u001b[0m 240ms/step - accuracy: 0.7648 - loss: 0.6616 - val_accuracy: 0.5875 - val_loss: 1.2123 - learning_rate: 4.0960e-04\n",
      "Epoch 27/50\n",
      "\u001b[1m664/664\u001b[0m \u001b[32m━━━━━━━━━━━━━━━━━━━━\u001b[0m\u001b[37m\u001b[0m \u001b[1m161s\u001b[0m 243ms/step - accuracy: 0.7655 - loss: 0.6630 - val_accuracy: 0.6194 - val_loss: 1.1286 - learning_rate: 3.2768e-04\n",
      "Epoch 28/50\n",
      "\u001b[1m664/664\u001b[0m \u001b[32m━━━━━━━━━━━━━━━━━━━━\u001b[0m\u001b[37m\u001b[0m \u001b[1m161s\u001b[0m 242ms/step - accuracy: 0.7710 - loss: 0.6366 - val_accuracy: 0.6393 - val_loss: 1.1170 - learning_rate: 3.2768e-04\n",
      "Epoch 29/50\n",
      "\u001b[1m664/664\u001b[0m \u001b[32m━━━━━━━━━━━━━━━━━━━━\u001b[0m\u001b[37m\u001b[0m \u001b[1m159s\u001b[0m 239ms/step - accuracy: 0.7865 - loss: 0.5998 - val_accuracy: 0.6425 - val_loss: 1.0863 - learning_rate: 2.6214e-04\n",
      "Epoch 30/50\n",
      "\u001b[1m664/664\u001b[0m \u001b[32m━━━━━━━━━━━━━━━━━━━━\u001b[0m\u001b[37m\u001b[0m \u001b[1m161s\u001b[0m 242ms/step - accuracy: 0.7828 - loss: 0.6023 - val_accuracy: 0.6198 - val_loss: 1.2411 - learning_rate: 2.6214e-04\n",
      "Epoch 31/50\n",
      "\u001b[1m664/664\u001b[0m \u001b[32m━━━━━━━━━━━━━━━━━━━━\u001b[0m\u001b[37m\u001b[0m \u001b[1m160s\u001b[0m 241ms/step - accuracy: 0.7852 - loss: 0.5894 - val_accuracy: 0.6474 - val_loss: 1.0747 - learning_rate: 2.0972e-04\n",
      "Epoch 32/50\n",
      "\u001b[1m664/664\u001b[0m \u001b[32m━━━━━━━━━━━━━━━━━━━━\u001b[0m\u001b[37m\u001b[0m \u001b[1m162s\u001b[0m 244ms/step - accuracy: 0.7941 - loss: 0.5700 - val_accuracy: 0.6493 - val_loss: 1.0936 - learning_rate: 2.0972e-04\n",
      "Epoch 33/50\n",
      "\u001b[1m664/664\u001b[0m \u001b[32m━━━━━━━━━━━━━━━━━━━━\u001b[0m\u001b[37m\u001b[0m \u001b[1m158s\u001b[0m 238ms/step - accuracy: 0.7950 - loss: 0.5750 - val_accuracy: 0.6486 - val_loss: 1.0980 - learning_rate: 1.6777e-04\n",
      "Epoch 34/50\n",
      "\u001b[1m664/664\u001b[0m \u001b[32m━━━━━━━━━━━━━━━━━━━━\u001b[0m\u001b[37m\u001b[0m \u001b[1m160s\u001b[0m 242ms/step - accuracy: 0.8025 - loss: 0.5509 - val_accuracy: 0.6467 - val_loss: 1.0849 - learning_rate: 1.6777e-04\n",
      "Epoch 35/50\n",
      "\u001b[1m664/664\u001b[0m \u001b[32m━━━━━━━━━━━━━━━━━━━━\u001b[0m\u001b[37m\u001b[0m \u001b[1m160s\u001b[0m 241ms/step - accuracy: 0.8073 - loss: 0.5367 - val_accuracy: 0.6477 - val_loss: 1.0874 - learning_rate: 1.3422e-04\n",
      "Epoch 36/50\n",
      "\u001b[1m664/664\u001b[0m \u001b[32m━━━━━━━━━━━━━━━━━━━━\u001b[0m\u001b[37m\u001b[0m \u001b[1m159s\u001b[0m 240ms/step - accuracy: 0.8089 - loss: 0.5378 - val_accuracy: 0.6512 - val_loss: 1.0900 - learning_rate: 1.3422e-04\n",
      "Epoch 37/50\n",
      "\u001b[1m664/664\u001b[0m \u001b[32m━━━━━━━━━━━━━━━━━━━━\u001b[0m\u001b[37m\u001b[0m \u001b[1m162s\u001b[0m 245ms/step - accuracy: 0.8086 - loss: 0.5246 - val_accuracy: 0.6491 - val_loss: 1.0892 - learning_rate: 1.0737e-04\n",
      "Epoch 38/50\n",
      "\u001b[1m664/664\u001b[0m \u001b[32m━━━━━━━━━━━━━━━━━━━━\u001b[0m\u001b[37m\u001b[0m \u001b[1m167s\u001b[0m 252ms/step - accuracy: 0.8142 - loss: 0.5210 - val_accuracy: 0.6486 - val_loss: 1.0949 - learning_rate: 1.0737e-04\n",
      "Epoch 39/50\n",
      "\u001b[1m664/664\u001b[0m \u001b[32m━━━━━━━━━━━━━━━━━━━━\u001b[0m\u001b[37m\u001b[0m \u001b[1m171s\u001b[0m 257ms/step - accuracy: 0.8141 - loss: 0.5208 - val_accuracy: 0.6520 - val_loss: 1.0697 - learning_rate: 8.5899e-05\n",
      "Epoch 40/50\n",
      "\u001b[1m664/664\u001b[0m \u001b[32m━━━━━━━━━━━━━━━━━━━━\u001b[0m\u001b[37m\u001b[0m \u001b[1m168s\u001b[0m 253ms/step - accuracy: 0.8188 - loss: 0.5048 - val_accuracy: 0.6584 - val_loss: 1.1002 - learning_rate: 8.5899e-05\n",
      "Epoch 41/50\n",
      "\u001b[1m664/664\u001b[0m \u001b[32m━━━━━━━━━━━━━━━━━━━━\u001b[0m\u001b[37m\u001b[0m \u001b[1m170s\u001b[0m 256ms/step - accuracy: 0.8214 - loss: 0.5029 - val_accuracy: 0.6522 - val_loss: 1.0836 - learning_rate: 6.8719e-05\n",
      "Epoch 42/50\n",
      "\u001b[1m664/664\u001b[0m \u001b[32m━━━━━━━━━━━━━━━━━━━━\u001b[0m\u001b[37m\u001b[0m \u001b[1m165s\u001b[0m 248ms/step - accuracy: 0.8223 - loss: 0.4913 - val_accuracy: 0.6556 - val_loss: 1.0851 - learning_rate: 6.8719e-05\n",
      "Epoch 43/50\n",
      "\u001b[1m664/664\u001b[0m \u001b[32m━━━━━━━━━━━━━━━━━━━━\u001b[0m\u001b[37m\u001b[0m \u001b[1m168s\u001b[0m 253ms/step - accuracy: 0.8208 - loss: 0.4971 - val_accuracy: 0.6501 - val_loss: 1.1186 - learning_rate: 5.4976e-05\n",
      "Epoch 44/50\n",
      "\u001b[1m664/664\u001b[0m \u001b[32m━━━━━━━━━━━━━━━━━━━━\u001b[0m\u001b[37m\u001b[0m \u001b[1m165s\u001b[0m 248ms/step - accuracy: 0.8253 - loss: 0.4916 - val_accuracy: 0.6599 - val_loss: 1.0984 - learning_rate: 5.4976e-05\n",
      "Epoch 45/50\n",
      "\u001b[1m664/664\u001b[0m \u001b[32m━━━━━━━━━━━━━━━━━━━━\u001b[0m\u001b[37m\u001b[0m \u001b[1m166s\u001b[0m 251ms/step - accuracy: 0.8238 - loss: 0.4882 - val_accuracy: 0.6563 - val_loss: 1.0860 - learning_rate: 4.3980e-05\n",
      "Epoch 46/50\n",
      "\u001b[1m664/664\u001b[0m \u001b[32m━━━━━━━━━━━━━━━━━━━━\u001b[0m\u001b[37m\u001b[0m \u001b[1m163s\u001b[0m 246ms/step - accuracy: 0.8302 - loss: 0.4727 - val_accuracy: 0.6537 - val_loss: 1.1167 - learning_rate: 4.3980e-05\n",
      "Epoch 47/50\n",
      "\u001b[1m664/664\u001b[0m \u001b[32m━━━━━━━━━━━━━━━━━━━━\u001b[0m\u001b[37m\u001b[0m \u001b[1m163s\u001b[0m 246ms/step - accuracy: 0.8287 - loss: 0.4795 - val_accuracy: 0.6606 - val_loss: 1.1029 - learning_rate: 3.5184e-05\n",
      "Epoch 48/50\n",
      "\u001b[1m664/664\u001b[0m \u001b[32m━━━━━━━━━━━━━━━━━━━━\u001b[0m\u001b[37m\u001b[0m \u001b[1m163s\u001b[0m 246ms/step - accuracy: 0.8260 - loss: 0.4846 - val_accuracy: 0.6463 - val_loss: 1.1385 - learning_rate: 3.5184e-05\n",
      "Epoch 49/50\n",
      "\u001b[1m664/664\u001b[0m \u001b[32m━━━━━━━━━━━━━━━━━━━━\u001b[0m\u001b[37m\u001b[0m \u001b[1m163s\u001b[0m 245ms/step - accuracy: 0.8318 - loss: 0.4730 - val_accuracy: 0.6529 - val_loss: 1.1170 - learning_rate: 2.8147e-05\n",
      "Epoch 50/50\n",
      "\u001b[1m664/664\u001b[0m \u001b[32m━━━━━━━━━━━━━━━━━━━━\u001b[0m\u001b[37m\u001b[0m \u001b[1m165s\u001b[0m 249ms/step - accuracy: 0.8309 - loss: 0.4677 - val_accuracy: 0.6509 - val_loss: 1.1080 - learning_rate: 2.8147e-05\n"
     ]
    }
   ],
   "source": [
    "# Entrenamiento\n",
    "history_2 = model_2.fit(\n",
    "    train_dataset,\n",
    "    epochs=epochs,\n",
    "    callbacks=callbacks,\n",
    "    validation_data=validation_dataset,\n",
    "    validation_steps=validation_generator.samples // batch_size,\n",
    "    steps_per_epoch=train_generator.samples // batch_size,\n",
    ")"
   ]
  },
  {
   "cell_type": "markdown",
   "metadata": {
    "executionInfo": {
     "elapsed": 5,
     "status": "ok",
     "timestamp": 1732161920021,
     "user": {
      "displayName": "Méndez Oliveros Dayra Celeste",
      "userId": "01489395019989799837"
     },
     "user_tz": 360
    },
    "id": "vEfkdrn1e3Qr"
   },
   "source": [
    "***Modelo 3***"
   ]
  },
  {
   "cell_type": "code",
   "execution_count": 109,
   "metadata": {
    "colab": {
     "base_uri": "https://localhost:8080/"
    },
    "executionInfo": {
     "elapsed": 372,
     "status": "ok",
     "timestamp": 1732161919617,
     "user": {
      "displayName": "Méndez Oliveros Dayra Celeste",
      "userId": "01489395019989799837"
     },
     "user_tz": 360
    },
    "id": "sMp23F3sedta",
    "outputId": "e35042d8-d2c8-4e22-dbf1-ac6e59c2fb49"
   },
   "outputs": [],
   "source": [
    "# Arquitectura de modelo\n",
    "model_3 = models.Sequential([\n",
    "\n",
    "    # Entrada\n",
    "    layers.Input(shape=(img_height, img_width, 3)),\n",
    "    \n",
    "    # Capa 1\n",
    "    layers.Conv2D(64, (5, 5), activation=layer_activation, padding=padding),\n",
    "    layers.BatchNormalization(),\n",
    "    layers.MaxPooling2D(pool_size),\n",
    "\n",
    "    # Capa 2\n",
    "    layers.Conv2D(128, (5, 5), activation=layer_activation, padding=padding),\n",
    "    layers.BatchNormalization(),\n",
    "    layers.MaxPooling2D(pool_size),\n",
    "\n",
    "    # Capa 3\n",
    "    layers.Conv2D(256, kernel_size, activation=layer_activation, padding=padding),\n",
    "    layers.BatchNormalization(),\n",
    "    layers.MaxPooling2D(pool_size),\n",
    "\n",
    "    # Capa 4\n",
    "    layers.Conv2D(512, kernel_size, activation=layer_activation, padding=padding),\n",
    "    layers.BatchNormalization(),\n",
    "    layers.MaxPooling2D(pool_size),\n",
    "\n",
    "    # Aplanamiento global\n",
    "    layers.GlobalAveragePooling2D(),\n",
    "\n",
    "    # Capa densa\n",
    "    layers.Dense(256, activation=layer_activation),\n",
    "    layers.BatchNormalization(),\n",
    "\n",
    "    # Capa de salida\n",
    "    layers.Dense(num_categories, activation=output_activation)\n",
    "])"
   ]
  },
  {
   "cell_type": "code",
   "execution_count": 111,
   "metadata": {},
   "outputs": [],
   "source": [
    "# Compilación del modelo\n",
    "model_3.compile(optimizer=optimizer, loss=loss, metrics=metrics)"
   ]
  },
  {
   "cell_type": "code",
   "execution_count": 113,
   "metadata": {
    "colab": {
     "base_uri": "https://localhost:8080/",
     "height": 737
    },
    "executionInfo": {
     "elapsed": 411,
     "status": "ok",
     "timestamp": 1732161920020,
     "user": {
      "displayName": "Méndez Oliveros Dayra Celeste",
      "userId": "01489395019989799837"
     },
     "user_tz": 360
    },
    "id": "eIjSlBjpfgMy",
    "outputId": "2b4b4b15-a547-43eb-eb28-bf2196ad08e8"
   },
   "outputs": [
    {
     "data": {
      "text/html": [
       "<pre style=\"white-space:pre;overflow-x:auto;line-height:normal;font-family:Menlo,'DejaVu Sans Mono',consolas,'Courier New',monospace\"><span style=\"font-weight: bold\">Model: \"sequential_6\"</span>\n",
       "</pre>\n"
      ],
      "text/plain": [
       "\u001b[1mModel: \"sequential_6\"\u001b[0m\n"
      ]
     },
     "metadata": {},
     "output_type": "display_data"
    },
    {
     "data": {
      "text/html": [
       "<pre style=\"white-space:pre;overflow-x:auto;line-height:normal;font-family:Menlo,'DejaVu Sans Mono',consolas,'Courier New',monospace\">┏━━━━━━━━━━━━━━━━━━━━━━━━━━━━━━━━━━━━━━┳━━━━━━━━━━━━━━━━━━━━━━━━━━━━━┳━━━━━━━━━━━━━━━━━┓\n",
       "┃<span style=\"font-weight: bold\"> Layer (type)                         </span>┃<span style=\"font-weight: bold\"> Output Shape                </span>┃<span style=\"font-weight: bold\">         Param # </span>┃\n",
       "┡━━━━━━━━━━━━━━━━━━━━━━━━━━━━━━━━━━━━━━╇━━━━━━━━━━━━━━━━━━━━━━━━━━━━━╇━━━━━━━━━━━━━━━━━┩\n",
       "│ conv2d_28 (<span style=\"color: #0087ff; text-decoration-color: #0087ff\">Conv2D</span>)                   │ (<span style=\"color: #00d7ff; text-decoration-color: #00d7ff\">None</span>, <span style=\"color: #00af00; text-decoration-color: #00af00\">96</span>, <span style=\"color: #00af00; text-decoration-color: #00af00\">96</span>, <span style=\"color: #00af00; text-decoration-color: #00af00\">64</span>)          │           <span style=\"color: #00af00; text-decoration-color: #00af00\">4,864</span> │\n",
       "├──────────────────────────────────────┼─────────────────────────────┼─────────────────┤\n",
       "│ batch_normalization_40               │ (<span style=\"color: #00d7ff; text-decoration-color: #00d7ff\">None</span>, <span style=\"color: #00af00; text-decoration-color: #00af00\">96</span>, <span style=\"color: #00af00; text-decoration-color: #00af00\">96</span>, <span style=\"color: #00af00; text-decoration-color: #00af00\">64</span>)          │             <span style=\"color: #00af00; text-decoration-color: #00af00\">256</span> │\n",
       "│ (<span style=\"color: #0087ff; text-decoration-color: #0087ff\">BatchNormalization</span>)                 │                             │                 │\n",
       "├──────────────────────────────────────┼─────────────────────────────┼─────────────────┤\n",
       "│ max_pooling2d_28 (<span style=\"color: #0087ff; text-decoration-color: #0087ff\">MaxPooling2D</span>)      │ (<span style=\"color: #00d7ff; text-decoration-color: #00d7ff\">None</span>, <span style=\"color: #00af00; text-decoration-color: #00af00\">48</span>, <span style=\"color: #00af00; text-decoration-color: #00af00\">48</span>, <span style=\"color: #00af00; text-decoration-color: #00af00\">64</span>)          │               <span style=\"color: #00af00; text-decoration-color: #00af00\">0</span> │\n",
       "├──────────────────────────────────────┼─────────────────────────────┼─────────────────┤\n",
       "│ conv2d_29 (<span style=\"color: #0087ff; text-decoration-color: #0087ff\">Conv2D</span>)                   │ (<span style=\"color: #00d7ff; text-decoration-color: #00d7ff\">None</span>, <span style=\"color: #00af00; text-decoration-color: #00af00\">48</span>, <span style=\"color: #00af00; text-decoration-color: #00af00\">48</span>, <span style=\"color: #00af00; text-decoration-color: #00af00\">128</span>)         │         <span style=\"color: #00af00; text-decoration-color: #00af00\">204,928</span> │\n",
       "├──────────────────────────────────────┼─────────────────────────────┼─────────────────┤\n",
       "│ batch_normalization_41               │ (<span style=\"color: #00d7ff; text-decoration-color: #00d7ff\">None</span>, <span style=\"color: #00af00; text-decoration-color: #00af00\">48</span>, <span style=\"color: #00af00; text-decoration-color: #00af00\">48</span>, <span style=\"color: #00af00; text-decoration-color: #00af00\">128</span>)         │             <span style=\"color: #00af00; text-decoration-color: #00af00\">512</span> │\n",
       "│ (<span style=\"color: #0087ff; text-decoration-color: #0087ff\">BatchNormalization</span>)                 │                             │                 │\n",
       "├──────────────────────────────────────┼─────────────────────────────┼─────────────────┤\n",
       "│ max_pooling2d_29 (<span style=\"color: #0087ff; text-decoration-color: #0087ff\">MaxPooling2D</span>)      │ (<span style=\"color: #00d7ff; text-decoration-color: #00d7ff\">None</span>, <span style=\"color: #00af00; text-decoration-color: #00af00\">24</span>, <span style=\"color: #00af00; text-decoration-color: #00af00\">24</span>, <span style=\"color: #00af00; text-decoration-color: #00af00\">128</span>)         │               <span style=\"color: #00af00; text-decoration-color: #00af00\">0</span> │\n",
       "├──────────────────────────────────────┼─────────────────────────────┼─────────────────┤\n",
       "│ conv2d_30 (<span style=\"color: #0087ff; text-decoration-color: #0087ff\">Conv2D</span>)                   │ (<span style=\"color: #00d7ff; text-decoration-color: #00d7ff\">None</span>, <span style=\"color: #00af00; text-decoration-color: #00af00\">24</span>, <span style=\"color: #00af00; text-decoration-color: #00af00\">24</span>, <span style=\"color: #00af00; text-decoration-color: #00af00\">256</span>)         │         <span style=\"color: #00af00; text-decoration-color: #00af00\">295,168</span> │\n",
       "├──────────────────────────────────────┼─────────────────────────────┼─────────────────┤\n",
       "│ batch_normalization_42               │ (<span style=\"color: #00d7ff; text-decoration-color: #00d7ff\">None</span>, <span style=\"color: #00af00; text-decoration-color: #00af00\">24</span>, <span style=\"color: #00af00; text-decoration-color: #00af00\">24</span>, <span style=\"color: #00af00; text-decoration-color: #00af00\">256</span>)         │           <span style=\"color: #00af00; text-decoration-color: #00af00\">1,024</span> │\n",
       "│ (<span style=\"color: #0087ff; text-decoration-color: #0087ff\">BatchNormalization</span>)                 │                             │                 │\n",
       "├──────────────────────────────────────┼─────────────────────────────┼─────────────────┤\n",
       "│ max_pooling2d_30 (<span style=\"color: #0087ff; text-decoration-color: #0087ff\">MaxPooling2D</span>)      │ (<span style=\"color: #00d7ff; text-decoration-color: #00d7ff\">None</span>, <span style=\"color: #00af00; text-decoration-color: #00af00\">12</span>, <span style=\"color: #00af00; text-decoration-color: #00af00\">12</span>, <span style=\"color: #00af00; text-decoration-color: #00af00\">256</span>)         │               <span style=\"color: #00af00; text-decoration-color: #00af00\">0</span> │\n",
       "├──────────────────────────────────────┼─────────────────────────────┼─────────────────┤\n",
       "│ conv2d_31 (<span style=\"color: #0087ff; text-decoration-color: #0087ff\">Conv2D</span>)                   │ (<span style=\"color: #00d7ff; text-decoration-color: #00d7ff\">None</span>, <span style=\"color: #00af00; text-decoration-color: #00af00\">12</span>, <span style=\"color: #00af00; text-decoration-color: #00af00\">12</span>, <span style=\"color: #00af00; text-decoration-color: #00af00\">512</span>)         │       <span style=\"color: #00af00; text-decoration-color: #00af00\">1,180,160</span> │\n",
       "├──────────────────────────────────────┼─────────────────────────────┼─────────────────┤\n",
       "│ batch_normalization_43               │ (<span style=\"color: #00d7ff; text-decoration-color: #00d7ff\">None</span>, <span style=\"color: #00af00; text-decoration-color: #00af00\">12</span>, <span style=\"color: #00af00; text-decoration-color: #00af00\">12</span>, <span style=\"color: #00af00; text-decoration-color: #00af00\">512</span>)         │           <span style=\"color: #00af00; text-decoration-color: #00af00\">2,048</span> │\n",
       "│ (<span style=\"color: #0087ff; text-decoration-color: #0087ff\">BatchNormalization</span>)                 │                             │                 │\n",
       "├──────────────────────────────────────┼─────────────────────────────┼─────────────────┤\n",
       "│ max_pooling2d_31 (<span style=\"color: #0087ff; text-decoration-color: #0087ff\">MaxPooling2D</span>)      │ (<span style=\"color: #00d7ff; text-decoration-color: #00d7ff\">None</span>, <span style=\"color: #00af00; text-decoration-color: #00af00\">6</span>, <span style=\"color: #00af00; text-decoration-color: #00af00\">6</span>, <span style=\"color: #00af00; text-decoration-color: #00af00\">512</span>)           │               <span style=\"color: #00af00; text-decoration-color: #00af00\">0</span> │\n",
       "├──────────────────────────────────────┼─────────────────────────────┼─────────────────┤\n",
       "│ global_average_pooling2d_6           │ (<span style=\"color: #00d7ff; text-decoration-color: #00d7ff\">None</span>, <span style=\"color: #00af00; text-decoration-color: #00af00\">512</span>)                 │               <span style=\"color: #00af00; text-decoration-color: #00af00\">0</span> │\n",
       "│ (<span style=\"color: #0087ff; text-decoration-color: #0087ff\">GlobalAveragePooling2D</span>)             │                             │                 │\n",
       "├──────────────────────────────────────┼─────────────────────────────┼─────────────────┤\n",
       "│ dense_17 (<span style=\"color: #0087ff; text-decoration-color: #0087ff\">Dense</span>)                     │ (<span style=\"color: #00d7ff; text-decoration-color: #00d7ff\">None</span>, <span style=\"color: #00af00; text-decoration-color: #00af00\">256</span>)                 │         <span style=\"color: #00af00; text-decoration-color: #00af00\">131,328</span> │\n",
       "├──────────────────────────────────────┼─────────────────────────────┼─────────────────┤\n",
       "│ batch_normalization_44               │ (<span style=\"color: #00d7ff; text-decoration-color: #00d7ff\">None</span>, <span style=\"color: #00af00; text-decoration-color: #00af00\">256</span>)                 │           <span style=\"color: #00af00; text-decoration-color: #00af00\">1,024</span> │\n",
       "│ (<span style=\"color: #0087ff; text-decoration-color: #0087ff\">BatchNormalization</span>)                 │                             │                 │\n",
       "├──────────────────────────────────────┼─────────────────────────────┼─────────────────┤\n",
       "│ dense_18 (<span style=\"color: #0087ff; text-decoration-color: #0087ff\">Dense</span>)                     │ (<span style=\"color: #00d7ff; text-decoration-color: #00d7ff\">None</span>, <span style=\"color: #00af00; text-decoration-color: #00af00\">10</span>)                  │           <span style=\"color: #00af00; text-decoration-color: #00af00\">2,570</span> │\n",
       "└──────────────────────────────────────┴─────────────────────────────┴─────────────────┘\n",
       "</pre>\n"
      ],
      "text/plain": [
       "┏━━━━━━━━━━━━━━━━━━━━━━━━━━━━━━━━━━━━━━┳━━━━━━━━━━━━━━━━━━━━━━━━━━━━━┳━━━━━━━━━━━━━━━━━┓\n",
       "┃\u001b[1m \u001b[0m\u001b[1mLayer (type)                        \u001b[0m\u001b[1m \u001b[0m┃\u001b[1m \u001b[0m\u001b[1mOutput Shape               \u001b[0m\u001b[1m \u001b[0m┃\u001b[1m \u001b[0m\u001b[1m        Param #\u001b[0m\u001b[1m \u001b[0m┃\n",
       "┡━━━━━━━━━━━━━━━━━━━━━━━━━━━━━━━━━━━━━━╇━━━━━━━━━━━━━━━━━━━━━━━━━━━━━╇━━━━━━━━━━━━━━━━━┩\n",
       "│ conv2d_28 (\u001b[38;5;33mConv2D\u001b[0m)                   │ (\u001b[38;5;45mNone\u001b[0m, \u001b[38;5;34m96\u001b[0m, \u001b[38;5;34m96\u001b[0m, \u001b[38;5;34m64\u001b[0m)          │           \u001b[38;5;34m4,864\u001b[0m │\n",
       "├──────────────────────────────────────┼─────────────────────────────┼─────────────────┤\n",
       "│ batch_normalization_40               │ (\u001b[38;5;45mNone\u001b[0m, \u001b[38;5;34m96\u001b[0m, \u001b[38;5;34m96\u001b[0m, \u001b[38;5;34m64\u001b[0m)          │             \u001b[38;5;34m256\u001b[0m │\n",
       "│ (\u001b[38;5;33mBatchNormalization\u001b[0m)                 │                             │                 │\n",
       "├──────────────────────────────────────┼─────────────────────────────┼─────────────────┤\n",
       "│ max_pooling2d_28 (\u001b[38;5;33mMaxPooling2D\u001b[0m)      │ (\u001b[38;5;45mNone\u001b[0m, \u001b[38;5;34m48\u001b[0m, \u001b[38;5;34m48\u001b[0m, \u001b[38;5;34m64\u001b[0m)          │               \u001b[38;5;34m0\u001b[0m │\n",
       "├──────────────────────────────────────┼─────────────────────────────┼─────────────────┤\n",
       "│ conv2d_29 (\u001b[38;5;33mConv2D\u001b[0m)                   │ (\u001b[38;5;45mNone\u001b[0m, \u001b[38;5;34m48\u001b[0m, \u001b[38;5;34m48\u001b[0m, \u001b[38;5;34m128\u001b[0m)         │         \u001b[38;5;34m204,928\u001b[0m │\n",
       "├──────────────────────────────────────┼─────────────────────────────┼─────────────────┤\n",
       "│ batch_normalization_41               │ (\u001b[38;5;45mNone\u001b[0m, \u001b[38;5;34m48\u001b[0m, \u001b[38;5;34m48\u001b[0m, \u001b[38;5;34m128\u001b[0m)         │             \u001b[38;5;34m512\u001b[0m │\n",
       "│ (\u001b[38;5;33mBatchNormalization\u001b[0m)                 │                             │                 │\n",
       "├──────────────────────────────────────┼─────────────────────────────┼─────────────────┤\n",
       "│ max_pooling2d_29 (\u001b[38;5;33mMaxPooling2D\u001b[0m)      │ (\u001b[38;5;45mNone\u001b[0m, \u001b[38;5;34m24\u001b[0m, \u001b[38;5;34m24\u001b[0m, \u001b[38;5;34m128\u001b[0m)         │               \u001b[38;5;34m0\u001b[0m │\n",
       "├──────────────────────────────────────┼─────────────────────────────┼─────────────────┤\n",
       "│ conv2d_30 (\u001b[38;5;33mConv2D\u001b[0m)                   │ (\u001b[38;5;45mNone\u001b[0m, \u001b[38;5;34m24\u001b[0m, \u001b[38;5;34m24\u001b[0m, \u001b[38;5;34m256\u001b[0m)         │         \u001b[38;5;34m295,168\u001b[0m │\n",
       "├──────────────────────────────────────┼─────────────────────────────┼─────────────────┤\n",
       "│ batch_normalization_42               │ (\u001b[38;5;45mNone\u001b[0m, \u001b[38;5;34m24\u001b[0m, \u001b[38;5;34m24\u001b[0m, \u001b[38;5;34m256\u001b[0m)         │           \u001b[38;5;34m1,024\u001b[0m │\n",
       "│ (\u001b[38;5;33mBatchNormalization\u001b[0m)                 │                             │                 │\n",
       "├──────────────────────────────────────┼─────────────────────────────┼─────────────────┤\n",
       "│ max_pooling2d_30 (\u001b[38;5;33mMaxPooling2D\u001b[0m)      │ (\u001b[38;5;45mNone\u001b[0m, \u001b[38;5;34m12\u001b[0m, \u001b[38;5;34m12\u001b[0m, \u001b[38;5;34m256\u001b[0m)         │               \u001b[38;5;34m0\u001b[0m │\n",
       "├──────────────────────────────────────┼─────────────────────────────┼─────────────────┤\n",
       "│ conv2d_31 (\u001b[38;5;33mConv2D\u001b[0m)                   │ (\u001b[38;5;45mNone\u001b[0m, \u001b[38;5;34m12\u001b[0m, \u001b[38;5;34m12\u001b[0m, \u001b[38;5;34m512\u001b[0m)         │       \u001b[38;5;34m1,180,160\u001b[0m │\n",
       "├──────────────────────────────────────┼─────────────────────────────┼─────────────────┤\n",
       "│ batch_normalization_43               │ (\u001b[38;5;45mNone\u001b[0m, \u001b[38;5;34m12\u001b[0m, \u001b[38;5;34m12\u001b[0m, \u001b[38;5;34m512\u001b[0m)         │           \u001b[38;5;34m2,048\u001b[0m │\n",
       "│ (\u001b[38;5;33mBatchNormalization\u001b[0m)                 │                             │                 │\n",
       "├──────────────────────────────────────┼─────────────────────────────┼─────────────────┤\n",
       "│ max_pooling2d_31 (\u001b[38;5;33mMaxPooling2D\u001b[0m)      │ (\u001b[38;5;45mNone\u001b[0m, \u001b[38;5;34m6\u001b[0m, \u001b[38;5;34m6\u001b[0m, \u001b[38;5;34m512\u001b[0m)           │               \u001b[38;5;34m0\u001b[0m │\n",
       "├──────────────────────────────────────┼─────────────────────────────┼─────────────────┤\n",
       "│ global_average_pooling2d_6           │ (\u001b[38;5;45mNone\u001b[0m, \u001b[38;5;34m512\u001b[0m)                 │               \u001b[38;5;34m0\u001b[0m │\n",
       "│ (\u001b[38;5;33mGlobalAveragePooling2D\u001b[0m)             │                             │                 │\n",
       "├──────────────────────────────────────┼─────────────────────────────┼─────────────────┤\n",
       "│ dense_17 (\u001b[38;5;33mDense\u001b[0m)                     │ (\u001b[38;5;45mNone\u001b[0m, \u001b[38;5;34m256\u001b[0m)                 │         \u001b[38;5;34m131,328\u001b[0m │\n",
       "├──────────────────────────────────────┼─────────────────────────────┼─────────────────┤\n",
       "│ batch_normalization_44               │ (\u001b[38;5;45mNone\u001b[0m, \u001b[38;5;34m256\u001b[0m)                 │           \u001b[38;5;34m1,024\u001b[0m │\n",
       "│ (\u001b[38;5;33mBatchNormalization\u001b[0m)                 │                             │                 │\n",
       "├──────────────────────────────────────┼─────────────────────────────┼─────────────────┤\n",
       "│ dense_18 (\u001b[38;5;33mDense\u001b[0m)                     │ (\u001b[38;5;45mNone\u001b[0m, \u001b[38;5;34m10\u001b[0m)                  │           \u001b[38;5;34m2,570\u001b[0m │\n",
       "└──────────────────────────────────────┴─────────────────────────────┴─────────────────┘\n"
      ]
     },
     "metadata": {},
     "output_type": "display_data"
    },
    {
     "data": {
      "text/html": [
       "<pre style=\"white-space:pre;overflow-x:auto;line-height:normal;font-family:Menlo,'DejaVu Sans Mono',consolas,'Courier New',monospace\"><span style=\"font-weight: bold\"> Total params: </span><span style=\"color: #00af00; text-decoration-color: #00af00\">1,823,882</span> (6.96 MB)\n",
       "</pre>\n"
      ],
      "text/plain": [
       "\u001b[1m Total params: \u001b[0m\u001b[38;5;34m1,823,882\u001b[0m (6.96 MB)\n"
      ]
     },
     "metadata": {},
     "output_type": "display_data"
    },
    {
     "data": {
      "text/html": [
       "<pre style=\"white-space:pre;overflow-x:auto;line-height:normal;font-family:Menlo,'DejaVu Sans Mono',consolas,'Courier New',monospace\"><span style=\"font-weight: bold\"> Trainable params: </span><span style=\"color: #00af00; text-decoration-color: #00af00\">1,821,450</span> (6.95 MB)\n",
       "</pre>\n"
      ],
      "text/plain": [
       "\u001b[1m Trainable params: \u001b[0m\u001b[38;5;34m1,821,450\u001b[0m (6.95 MB)\n"
      ]
     },
     "metadata": {},
     "output_type": "display_data"
    },
    {
     "data": {
      "text/html": [
       "<pre style=\"white-space:pre;overflow-x:auto;line-height:normal;font-family:Menlo,'DejaVu Sans Mono',consolas,'Courier New',monospace\"><span style=\"font-weight: bold\"> Non-trainable params: </span><span style=\"color: #00af00; text-decoration-color: #00af00\">2,432</span> (9.50 KB)\n",
       "</pre>\n"
      ],
      "text/plain": [
       "\u001b[1m Non-trainable params: \u001b[0m\u001b[38;5;34m2,432\u001b[0m (9.50 KB)\n"
      ]
     },
     "metadata": {},
     "output_type": "display_data"
    }
   ],
   "source": [
    "# Resumen del modelo\n",
    "model_3.summary()"
   ]
  },
  {
   "cell_type": "code",
   "execution_count": 115,
   "metadata": {},
   "outputs": [
    {
     "data": {
      "image/png": "[encoded data removed]",
      "text/plain": [
       "<PIL.Image.Image image mode=RGBA size=711x512>"
      ]
     },
     "execution_count": 115,
     "metadata": {},
     "output_type": "execute_result"
    }
   ],
   "source": [
    "# Visualización del modelo\n",
    "visualkeras.layered_view(model_3)"
   ]
  },
  {
   "cell_type": "code",
   "execution_count": 36,
   "metadata": {
    "colab": {
     "base_uri": "https://localhost:8080/"
    },
    "executionInfo": {
     "elapsed": 8222523,
     "status": "ok",
     "timestamp": 1732170142539,
     "user": {
      "displayName": "Méndez Oliveros Dayra Celeste",
      "userId": "01489395019989799837"
     },
     "user_tz": 360
    },
    "id": "qPRJxnOqe3f_",
    "outputId": "44033b61-c47e-41a3-b764-172ed2b64016"
   },
   "outputs": [
    {
     "name": "stdout",
     "output_type": "stream",
     "text": [
      "Epoch 1/50\n",
      "\u001b[1m664/664\u001b[0m \u001b[32m━━━━━━━━━━━━━━━━━━━━\u001b[0m\u001b[37m\u001b[0m \u001b[1m189s\u001b[0m 272ms/step - accuracy: 0.4315 - loss: 1.7459 - val_accuracy: 0.3881 - val_loss: 2.0298 - learning_rate: 0.0010\n",
      "Epoch 2/50\n",
      "\u001b[1m664/664\u001b[0m \u001b[32m━━━━━━━━━━━━━━━━━━━━\u001b[0m\u001b[37m\u001b[0m \u001b[1m170s\u001b[0m 257ms/step - accuracy: 0.5237 - loss: 1.3917 - val_accuracy: 0.3544 - val_loss: 2.2254 - learning_rate: 0.0010\n",
      "Epoch 3/50\n",
      "\u001b[1m664/664\u001b[0m \u001b[32m━━━━━━━━━━━━━━━━━━━━\u001b[0m\u001b[37m\u001b[0m \u001b[1m171s\u001b[0m 257ms/step - accuracy: 0.5452 - loss: 1.3285 - val_accuracy: 0.4899 - val_loss: 1.5091 - learning_rate: 0.0010\n",
      "Epoch 4/50\n",
      "\u001b[1m664/664\u001b[0m \u001b[32m━━━━━━━━━━━━━━━━━━━━\u001b[0m\u001b[37m\u001b[0m \u001b[1m169s\u001b[0m 255ms/step - accuracy: 0.5835 - loss: 1.2121 - val_accuracy: 0.4146 - val_loss: 1.9040 - learning_rate: 0.0010\n",
      "Epoch 5/50\n",
      "\u001b[1m664/664\u001b[0m \u001b[32m━━━━━━━━━━━━━━━━━━━━\u001b[0m\u001b[37m\u001b[0m \u001b[1m172s\u001b[0m 259ms/step - accuracy: 0.5952 - loss: 1.1625 - val_accuracy: 0.5527 - val_loss: 1.3329 - learning_rate: 0.0010\n",
      "Epoch 6/50\n",
      "\u001b[1m664/664\u001b[0m \u001b[32m━━━━━━━━━━━━━━━━━━━━\u001b[0m\u001b[37m\u001b[0m \u001b[1m167s\u001b[0m 252ms/step - accuracy: 0.6105 - loss: 1.1177 - val_accuracy: 0.5737 - val_loss: 1.2300 - learning_rate: 0.0010\n",
      "Epoch 7/50\n",
      "\u001b[1m664/664\u001b[0m \u001b[32m━━━━━━━━━━━━━━━━━━━━\u001b[0m\u001b[37m\u001b[0m \u001b[1m156s\u001b[0m 235ms/step - accuracy: 0.6139 - loss: 1.1136 - val_accuracy: 0.5836 - val_loss: 1.1986 - learning_rate: 0.0010\n",
      "Epoch 8/50\n",
      "\u001b[1m664/664\u001b[0m \u001b[32m━━━━━━━━━━━━━━━━━━━━\u001b[0m\u001b[37m\u001b[0m \u001b[1m166s\u001b[0m 250ms/step - accuracy: 0.6349 - loss: 1.0466 - val_accuracy: 0.5043 - val_loss: 1.5489 - learning_rate: 0.0010\n",
      "Epoch 9/50\n",
      "\u001b[1m664/664\u001b[0m \u001b[32m━━━━━━━━━━━━━━━━━━━━\u001b[0m\u001b[37m\u001b[0m \u001b[1m166s\u001b[0m 250ms/step - accuracy: 0.6521 - loss: 1.0055 - val_accuracy: 0.5186 - val_loss: 1.3764 - learning_rate: 0.0010\n",
      "Epoch 10/50\n",
      "\u001b[1m664/664\u001b[0m \u001b[32m━━━━━━━━━━━━━━━━━━━━\u001b[0m\u001b[37m\u001b[0m \u001b[1m165s\u001b[0m 249ms/step - accuracy: 0.6534 - loss: 0.9886 - val_accuracy: 0.5902 - val_loss: 1.2030 - learning_rate: 8.0000e-04\n",
      "Epoch 11/50\n",
      "\u001b[1m664/664\u001b[0m \u001b[32m━━━━━━━━━━━━━━━━━━━━\u001b[0m\u001b[37m\u001b[0m \u001b[1m163s\u001b[0m 246ms/step - accuracy: 0.6646 - loss: 0.9566 - val_accuracy: 0.5874 - val_loss: 1.1817 - learning_rate: 8.0000e-04\n",
      "Epoch 12/50\n",
      "\u001b[1m664/664\u001b[0m \u001b[32m━━━━━━━━━━━━━━━━━━━━\u001b[0m\u001b[37m\u001b[0m \u001b[1m160s\u001b[0m 242ms/step - accuracy: 0.6671 - loss: 0.9406 - val_accuracy: 0.6139 - val_loss: 1.1022 - learning_rate: 8.0000e-04\n",
      "Epoch 13/50\n",
      "\u001b[1m664/664\u001b[0m \u001b[32m━━━━━━━━━━━━━━━━━━━━\u001b[0m\u001b[37m\u001b[0m \u001b[1m164s\u001b[0m 247ms/step - accuracy: 0.6737 - loss: 0.9319 - val_accuracy: 0.6021 - val_loss: 1.1466 - learning_rate: 8.0000e-04\n",
      "Epoch 14/50\n",
      "\u001b[1m664/664\u001b[0m \u001b[32m━━━━━━━━━━━━━━━━━━━━\u001b[0m\u001b[37m\u001b[0m \u001b[1m163s\u001b[0m 246ms/step - accuracy: 0.6865 - loss: 0.8912 - val_accuracy: 0.6050 - val_loss: 1.1329 - learning_rate: 8.0000e-04\n",
      "Epoch 15/50\n",
      "\u001b[1m664/664\u001b[0m \u001b[32m━━━━━━━━━━━━━━━━━━━━\u001b[0m\u001b[37m\u001b[0m \u001b[1m162s\u001b[0m 244ms/step - accuracy: 0.6954 - loss: 0.8681 - val_accuracy: 0.6124 - val_loss: 1.1484 - learning_rate: 6.4000e-04\n",
      "Epoch 16/50\n",
      "\u001b[1m664/664\u001b[0m \u001b[32m━━━━━━━━━━━━━━━━━━━━\u001b[0m\u001b[37m\u001b[0m \u001b[1m161s\u001b[0m 243ms/step - accuracy: 0.7103 - loss: 0.8281 - val_accuracy: 0.6399 - val_loss: 1.0613 - learning_rate: 6.4000e-04\n",
      "Epoch 17/50\n",
      "\u001b[1m664/664\u001b[0m \u001b[32m━━━━━━━━━━━━━━━━━━━━\u001b[0m\u001b[37m\u001b[0m \u001b[1m158s\u001b[0m 238ms/step - accuracy: 0.7126 - loss: 0.8047 - val_accuracy: 0.6146 - val_loss: 1.1206 - learning_rate: 6.4000e-04\n",
      "Epoch 18/50\n",
      "\u001b[1m664/664\u001b[0m \u001b[32m━━━━━━━━━━━━━━━━━━━━\u001b[0m\u001b[37m\u001b[0m \u001b[1m160s\u001b[0m 242ms/step - accuracy: 0.7153 - loss: 0.8051 - val_accuracy: 0.6252 - val_loss: 1.0849 - learning_rate: 6.4000e-04\n",
      "Epoch 19/50\n",
      "\u001b[1m664/664\u001b[0m \u001b[32m━━━━━━━━━━━━━━━━━━━━\u001b[0m\u001b[37m\u001b[0m \u001b[1m160s\u001b[0m 242ms/step - accuracy: 0.7260 - loss: 0.7759 - val_accuracy: 0.5686 - val_loss: 1.3280 - learning_rate: 5.1200e-04\n",
      "Epoch 20/50\n",
      "\u001b[1m664/664\u001b[0m \u001b[32m━━━━━━━━━━━━━━━━━━━━\u001b[0m\u001b[37m\u001b[0m \u001b[1m159s\u001b[0m 240ms/step - accuracy: 0.7271 - loss: 0.7662 - val_accuracy: 0.6470 - val_loss: 1.0565 - learning_rate: 5.1200e-04\n",
      "Epoch 21/50\n",
      "\u001b[1m664/664\u001b[0m \u001b[32m━━━━━━━━━━━━━━━━━━━━\u001b[0m\u001b[37m\u001b[0m \u001b[1m163s\u001b[0m 245ms/step - accuracy: 0.7405 - loss: 0.7387 - val_accuracy: 0.6009 - val_loss: 1.2190 - learning_rate: 5.1200e-04\n",
      "Epoch 22/50\n",
      "\u001b[1m664/664\u001b[0m \u001b[32m━━━━━━━━━━━━━━━━━━━━\u001b[0m\u001b[37m\u001b[0m \u001b[1m160s\u001b[0m 241ms/step - accuracy: 0.7409 - loss: 0.7274 - val_accuracy: 0.6459 - val_loss: 1.0479 - learning_rate: 5.1200e-04\n",
      "Epoch 23/50\n",
      "\u001b[1m664/664\u001b[0m \u001b[32m━━━━━━━━━━━━━━━━━━━━\u001b[0m\u001b[37m\u001b[0m \u001b[1m162s\u001b[0m 244ms/step - accuracy: 0.7496 - loss: 0.7123 - val_accuracy: 0.6201 - val_loss: 1.1095 - learning_rate: 5.1200e-04\n",
      "Epoch 24/50\n",
      "\u001b[1m664/664\u001b[0m \u001b[32m━━━━━━━━━━━━━━━━━━━━\u001b[0m\u001b[37m\u001b[0m \u001b[1m159s\u001b[0m 240ms/step - accuracy: 0.7523 - loss: 0.6973 - val_accuracy: 0.6399 - val_loss: 1.0900 - learning_rate: 5.1200e-04\n",
      "Epoch 25/50\n",
      "\u001b[1m664/664\u001b[0m \u001b[32m━━━━━━━━━━━━━━━━━━━━\u001b[0m\u001b[37m\u001b[0m \u001b[1m163s\u001b[0m 245ms/step - accuracy: 0.7517 - loss: 0.6920 - val_accuracy: 0.6395 - val_loss: 1.1044 - learning_rate: 4.0960e-04\n",
      "Epoch 26/50\n",
      "\u001b[1m664/664\u001b[0m \u001b[32m━━━━━━━━━━━━━━━━━━━━\u001b[0m\u001b[37m\u001b[0m \u001b[1m159s\u001b[0m 240ms/step - accuracy: 0.7648 - loss: 0.6616 - val_accuracy: 0.5875 - val_loss: 1.2123 - learning_rate: 4.0960e-04\n",
      "Epoch 27/50\n",
      "\u001b[1m664/664\u001b[0m \u001b[32m━━━━━━━━━━━━━━━━━━━━\u001b[0m\u001b[37m\u001b[0m \u001b[1m161s\u001b[0m 243ms/step - accuracy: 0.7655 - loss: 0.6630 - val_accuracy: 0.6194 - val_loss: 1.1286 - learning_rate: 3.2768e-04\n",
      "Epoch 28/50\n",
      "\u001b[1m664/664\u001b[0m \u001b[32m━━━━━━━━━━━━━━━━━━━━\u001b[0m\u001b[37m\u001b[0m \u001b[1m161s\u001b[0m 242ms/step - accuracy: 0.7710 - loss: 0.6366 - val_accuracy: 0.6393 - val_loss: 1.1170 - learning_rate: 3.2768e-04\n",
      "Epoch 29/50\n",
      "\u001b[1m664/664\u001b[0m \u001b[32m━━━━━━━━━━━━━━━━━━━━\u001b[0m\u001b[37m\u001b[0m \u001b[1m159s\u001b[0m 239ms/step - accuracy: 0.7865 - loss: 0.5998 - val_accuracy: 0.6425 - val_loss: 1.0863 - learning_rate: 2.6214e-04\n",
      "Epoch 30/50\n",
      "\u001b[1m664/664\u001b[0m \u001b[32m━━━━━━━━━━━━━━━━━━━━\u001b[0m\u001b[37m\u001b[0m \u001b[1m161s\u001b[0m 242ms/step - accuracy: 0.7828 - loss: 0.6023 - val_accuracy: 0.6198 - val_loss: 1.2411 - learning_rate: 2.6214e-04\n",
      "Epoch 31/50\n",
      "\u001b[1m664/664\u001b[0m \u001b[32m━━━━━━━━━━━━━━━━━━━━\u001b[0m\u001b[37m\u001b[0m \u001b[1m160s\u001b[0m 241ms/step - accuracy: 0.7852 - loss: 0.5894 - val_accuracy: 0.6474 - val_loss: 1.0747 - learning_rate: 2.0972e-04\n",
      "Epoch 32/50\n",
      "\u001b[1m664/664\u001b[0m \u001b[32m━━━━━━━━━━━━━━━━━━━━\u001b[0m\u001b[37m\u001b[0m \u001b[1m162s\u001b[0m 244ms/step - accuracy: 0.7941 - loss: 0.5700 - val_accuracy: 0.6493 - val_loss: 1.0936 - learning_rate: 2.0972e-04\n",
      "Epoch 33/50\n",
      "\u001b[1m664/664\u001b[0m \u001b[32m━━━━━━━━━━━━━━━━━━━━\u001b[0m\u001b[37m\u001b[0m \u001b[1m158s\u001b[0m 238ms/step - accuracy: 0.7950 - loss: 0.5750 - val_accuracy: 0.6486 - val_loss: 1.0980 - learning_rate: 1.6777e-04\n",
      "Epoch 34/50\n",
      "\u001b[1m664/664\u001b[0m \u001b[32m━━━━━━━━━━━━━━━━━━━━\u001b[0m\u001b[37m\u001b[0m \u001b[1m160s\u001b[0m 242ms/step - accuracy: 0.8025 - loss: 0.5509 - val_accuracy: 0.6467 - val_loss: 1.0849 - learning_rate: 1.6777e-04\n",
      "Epoch 35/50\n",
      "\u001b[1m664/664\u001b[0m \u001b[32m━━━━━━━━━━━━━━━━━━━━\u001b[0m\u001b[37m\u001b[0m \u001b[1m160s\u001b[0m 241ms/step - accuracy: 0.8073 - loss: 0.5367 - val_accuracy: 0.6477 - val_loss: 1.0874 - learning_rate: 1.3422e-04\n",
      "Epoch 36/50\n",
      "\u001b[1m664/664\u001b[0m \u001b[32m━━━━━━━━━━━━━━━━━━━━\u001b[0m\u001b[37m\u001b[0m \u001b[1m159s\u001b[0m 240ms/step - accuracy: 0.8089 - loss: 0.5378 - val_accuracy: 0.6512 - val_loss: 1.0900 - learning_rate: 1.3422e-04\n",
      "Epoch 37/50\n",
      "\u001b[1m664/664\u001b[0m \u001b[32m━━━━━━━━━━━━━━━━━━━━\u001b[0m\u001b[37m\u001b[0m \u001b[1m162s\u001b[0m 245ms/step - accuracy: 0.8086 - loss: 0.5246 - val_accuracy: 0.6491 - val_loss: 1.0892 - learning_rate: 1.0737e-04\n",
      "Epoch 38/50\n",
      "\u001b[1m664/664\u001b[0m \u001b[32m━━━━━━━━━━━━━━━━━━━━\u001b[0m\u001b[37m\u001b[0m \u001b[1m167s\u001b[0m 252ms/step - accuracy: 0.8142 - loss: 0.5210 - val_accuracy: 0.6486 - val_loss: 1.0949 - learning_rate: 1.0737e-04\n",
      "Epoch 39/50\n",
      "\u001b[1m664/664\u001b[0m \u001b[32m━━━━━━━━━━━━━━━━━━━━\u001b[0m\u001b[37m\u001b[0m \u001b[1m171s\u001b[0m 257ms/step - accuracy: 0.8141 - loss: 0.5208 - val_accuracy: 0.6520 - val_loss: 1.0697 - learning_rate: 8.5899e-05\n",
      "Epoch 40/50\n",
      "\u001b[1m664/664\u001b[0m \u001b[32m━━━━━━━━━━━━━━━━━━━━\u001b[0m\u001b[37m\u001b[0m \u001b[1m168s\u001b[0m 253ms/step - accuracy: 0.8188 - loss: 0.5048 - val_accuracy: 0.6584 - val_loss: 1.1002 - learning_rate: 8.5899e-05\n",
      "Epoch 41/50\n",
      "\u001b[1m664/664\u001b[0m \u001b[32m━━━━━━━━━━━━━━━━━━━━\u001b[0m\u001b[37m\u001b[0m \u001b[1m170s\u001b[0m 256ms/step - accuracy: 0.8214 - loss: 0.5029 - val_accuracy: 0.6522 - val_loss: 1.0836 - learning_rate: 6.8719e-05\n",
      "Epoch 42/50\n",
      "\u001b[1m664/664\u001b[0m \u001b[32m━━━━━━━━━━━━━━━━━━━━\u001b[0m\u001b[37m\u001b[0m \u001b[1m165s\u001b[0m 248ms/step - accuracy: 0.8223 - loss: 0.4913 - val_accuracy: 0.6556 - val_loss: 1.0851 - learning_rate: 6.8719e-05\n",
      "Epoch 43/50\n",
      "\u001b[1m664/664\u001b[0m \u001b[32m━━━━━━━━━━━━━━━━━━━━\u001b[0m\u001b[37m\u001b[0m \u001b[1m168s\u001b[0m 253ms/step - accuracy: 0.8208 - loss: 0.4971 - val_accuracy: 0.6501 - val_loss: 1.1186 - learning_rate: 5.4976e-05\n",
      "Epoch 44/50\n",
      "\u001b[1m664/664\u001b[0m \u001b[32m━━━━━━━━━━━━━━━━━━━━\u001b[0m\u001b[37m\u001b[0m \u001b[1m165s\u001b[0m 248ms/step - accuracy: 0.8253 - loss: 0.4916 - val_accuracy: 0.6599 - val_loss: 1.0984 - learning_rate: 5.4976e-05\n",
      "Epoch 45/50\n",
      "\u001b[1m664/664\u001b[0m \u001b[32m━━━━━━━━━━━━━━━━━━━━\u001b[0m\u001b[37m\u001b[0m \u001b[1m166s\u001b[0m 251ms/step - accuracy: 0.8238 - loss: 0.4882 - val_accuracy: 0.6563 - val_loss: 1.0860 - learning_rate: 4.3980e-05\n",
      "Epoch 46/50\n",
      "\u001b[1m664/664\u001b[0m \u001b[32m━━━━━━━━━━━━━━━━━━━━\u001b[0m\u001b[37m\u001b[0m \u001b[1m163s\u001b[0m 246ms/step - accuracy: 0.8302 - loss: 0.4727 - val_accuracy: 0.6537 - val_loss: 1.1167 - learning_rate: 4.3980e-05\n",
      "Epoch 47/50\n",
      "\u001b[1m664/664\u001b[0m \u001b[32m━━━━━━━━━━━━━━━━━━━━\u001b[0m\u001b[37m\u001b[0m \u001b[1m163s\u001b[0m 246ms/step - accuracy: 0.8287 - loss: 0.4795 - val_accuracy: 0.6606 - val_loss: 1.1029 - learning_rate: 3.5184e-05\n",
      "Epoch 48/50\n",
      "\u001b[1m664/664\u001b[0m \u001b[32m━━━━━━━━━━━━━━━━━━━━\u001b[0m\u001b[37m\u001b[0m \u001b[1m163s\u001b[0m 246ms/step - accuracy: 0.8260 - loss: 0.4846 - val_accuracy: 0.6463 - val_loss: 1.1385 - learning_rate: 3.5184e-05\n",
      "Epoch 49/50\n",
      "\u001b[1m664/664\u001b[0m \u001b[32m━━━━━━━━━━━━━━━━━━━━\u001b[0m\u001b[37m\u001b[0m \u001b[1m163s\u001b[0m 245ms/step - accuracy: 0.8318 - loss: 0.4730 - val_accuracy: 0.6529 - val_loss: 1.1170 - learning_rate: 2.8147e-05\n",
      "Epoch 50/50\n",
      "\u001b[1m664/664\u001b[0m \u001b[32m━━━━━━━━━━━━━━━━━━━━\u001b[0m\u001b[37m\u001b[0m \u001b[1m165s\u001b[0m 249ms/step - accuracy: 0.8309 - loss: 0.4677 - val_accuracy: 0.6509 - val_loss: 1.1080 - learning_rate: 2.8147e-05\n"
     ]
    }
   ],
   "source": [
    "# Entrenamiento\n",
    "history_3 = model_3.fit(\n",
    "    train_dataset,\n",
    "    epochs=epochs,\n",
    "    callbacks=callbacks,\n",
    "    validation_data=validation_dataset,\n",
    "    validation_steps=validation_generator.samples // batch_size,\n",
    "    steps_per_epoch=train_generator.samples // batch_size,\n",
    ")"
   ]
  },
  {
   "cell_type": "code",
   "execution_count": 117,
   "metadata": {},
   "outputs": [],
   "source": [
    "import matplotlib.pyplot as plt"
   ]
  },
  {
   "cell_type": "code",
   "execution_count": 121,
   "metadata": {
    "colab": {
     "base_uri": "https://localhost:8080/"
    },
    "executionInfo": {
     "elapsed": 41185,
     "status": "ok",
     "timestamp": 1732170183721,
     "user": {
      "displayName": "Méndez Oliveros Dayra Celeste",
      "userId": "01489395019989799837"
     },
     "user_tz": 360
    },
    "id": "Q346iBX6fD6O",
    "outputId": "637edaf9-3e0b-4334-b209-56bdd1643a02"
   },
   "outputs": [
    {
     "ename": "NameError",
     "evalue": "name 'history' is not defined",
     "output_type": "error",
     "traceback": [
      "\u001b[1;31m---------------------------------------------------------------------------\u001b[0m",
      "\u001b[1;31mNameError\u001b[0m                                 Traceback (most recent call last)",
      "Cell \u001b[1;32mIn[121], line 2\u001b[0m\n\u001b[0;32m      1\u001b[0m \u001b[38;5;66;03m# Extraer métricas del historial\u001b[39;00m\n\u001b[1;32m----> 2\u001b[0m train_loss \u001b[38;5;241m=\u001b[39m history\u001b[38;5;241m.\u001b[39mhistory[\u001b[38;5;124m'\u001b[39m\u001b[38;5;124mloss\u001b[39m\u001b[38;5;124m'\u001b[39m]\n\u001b[0;32m      3\u001b[0m val_loss \u001b[38;5;241m=\u001b[39m history\u001b[38;5;241m.\u001b[39mhistory[\u001b[38;5;124m'\u001b[39m\u001b[38;5;124mval_loss\u001b[39m\u001b[38;5;124m'\u001b[39m]\n\u001b[0;32m      4\u001b[0m train_acc \u001b[38;5;241m=\u001b[39m history\u001b[38;5;241m.\u001b[39mhistory[\u001b[38;5;124m'\u001b[39m\u001b[38;5;124maccuracy\u001b[39m\u001b[38;5;124m'\u001b[39m]\n",
      "\u001b[1;31mNameError\u001b[0m: name 'history' is not defined"
     ]
    }
   ],
   "source": [
    "# Extraer métricas de los tres modelos\n",
    "train_loss_1 = history_1.history['loss']\n",
    "val_loss_1 = history_1.history['val_loss']\n",
    "train_acc_1 = history_1.history['accuracy']\n",
    "val_acc_1 = history_1.history['val_accuracy']\n",
    "\n",
    "train_loss_2 = history_2.history['loss']\n",
    "val_loss_2 = history_2.history['val_loss']\n",
    "train_acc_2 = history_2.history['accuracy']\n",
    "val_acc_2 = history_2.history['val_accuracy']\n",
    "\n",
    "train_loss_3 = history_3.history['loss']\n",
    "val_loss_3 = history_3.history['val_loss']\n",
    "train_acc_3 = history_3.history['accuracy']\n",
    "val_acc_3 = history_3.history['val_accuracy']\n",
    "\n",
    "# Crear la figura con dos subgráficas\n",
    "fig, axs = plt.subplots(1, 2, figsize=(12, 5))\n",
    "\n",
    "# Gráfica de pérdida\n",
    "axs[0].plot(range(epochs), train_loss_1, label='Modelo 1 - Entrenamiento', marker='o')\n",
    "axs[0].plot(range(epochs), val_loss_1, label='Modelo 1 - Validación', marker='o')\n",
    "axs[0].plot(range(epochs), train_loss_2, label='Modelo 2 - Entrenamiento', marker='o')\n",
    "axs[0].plot(range(epochs), val_loss_2, label='Modelo 2 - Validación', marker='o')\n",
    "axs[0].plot(range(epochs), train_loss_3, label='Modelo 3 - Entrenamiento', marker='o')\n",
    "axs[0].plot(range(epochs), val_loss_3, label='Modelo 3 - Validación', marker='o')\n",
    "axs[0].set_title('Pérdida a través de las épocas')\n",
    "axs[0].set_xlabel('Épocas')\n",
    "axs[0].set_ylabel('Pérdida')\n",
    "axs[0].legend()\n",
    "axs[0].grid()\n",
    "\n",
    "# Gráfica de precisión\n",
    "axs[1].plot(range(epochs), train_acc_1, label='Modelo 1 - Entrenamiento', marker='o')\n",
    "axs[1].plot(range(epochs), val_acc_1, label='Modelo 1 - Validación', marker='o')\n",
    "axs[1].plot(range(epochs), train_acc_2, label='Modelo 2 - Entrenamiento', marker='o')\n",
    "axs[1].plot(range(epochs), val_acc_2, label='Modelo 2 - Validación', marker='o')\n",
    "axs[1].plot(range(epochs), train_acc_3, label='Modelo 3 - Entrenamiento', marker='o')\n",
    "axs[1].plot(range(epochs), val_acc_3, label='Modelo 3 - Validación', marker='o')\n",
    "axs[1].set_title('Precisión a través de las épocas')\n",
    "axs[1].set_xlabel('Épocas')\n",
    "axs[1].set_ylabel('Precisión')\n",
    "axs[1].legend()\n",
    "axs[1].grid()\n",
    "\n",
    "# Mostrar las gráficas\n",
    "plt.tight_layout()\n",
    "plt.show()"
   ]
  },
  {
   "cell_type": "code",
   "execution_count": null,
   "metadata": {},
   "outputs": [],
   "source": []
  }
 ],
 "metadata": {
  "accelerator": "GPU",
  "colab": {
   "gpuType": "T4",
   "provenance": [
    {
     "file_id": "1AhLbFrDrtkkQqSc0I_aKZYxhFiV-lyjc",
     "timestamp": 1732170209281
    }
   ]
  },
  "kernelspec": {
   "display_name": "Python 3 (ipykernel)",
   "language": "python",
   "name": "python3"
  },
  "language_info": {
   "codemirror_mode": {
    "name": "ipython",
    "version": 3
   },
   "file_extension": ".py",
   "mimetype": "text/x-python",
   "name": "python",
   "nbconvert_exporter": "python",
   "pygments_lexer": "ipython3",
   "version": "3.12.4"
  }
 },
 "nbformat": 4,
 "nbformat_minor": 4
}
