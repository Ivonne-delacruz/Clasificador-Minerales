{
  "nbformat": 4,
  "nbformat_minor": 0,
  "metadata": {
    "colab": {
      "provenance": [],
      "gpuType": "T4"
    },
    "kernelspec": {
      "name": "python3",
      "display_name": "Python 3"
    },
    "language_info": {
      "name": "python"
    },
    "accelerator": "GPU"
  },
  "cells": [
    {
      "cell_type": "code",
      "source": [
        "!pip install keras-tuner"
      ],
      "metadata": {
        "colab": {
          "base_uri": "https://localhost:8080/"
        },
        "id": "Huvi8EjrNvu-",
        "outputId": "f17434e2-3615-4e1b-8545-5ee22bc9501f"
      },
      "execution_count": 1,
      "outputs": [
        {
          "output_type": "stream",
          "name": "stdout",
          "text": [
            "Collecting keras-tuner\n",
            "  Downloading keras_tuner-1.4.7-py3-none-any.whl.metadata (5.4 kB)\n",
            "Requirement already satisfied: keras in /usr/local/lib/python3.10/dist-packages (from keras-tuner) (3.5.0)\n",
            "Requirement already satisfied: packaging in /usr/local/lib/python3.10/dist-packages (from keras-tuner) (24.2)\n",
            "Requirement already satisfied: requests in /usr/local/lib/python3.10/dist-packages (from keras-tuner) (2.32.3)\n",
            "Collecting kt-legacy (from keras-tuner)\n",
            "  Downloading kt_legacy-1.0.5-py3-none-any.whl.metadata (221 bytes)\n",
            "Requirement already satisfied: absl-py in /usr/local/lib/python3.10/dist-packages (from keras->keras-tuner) (1.4.0)\n",
            "Requirement already satisfied: numpy in /usr/local/lib/python3.10/dist-packages (from keras->keras-tuner) (1.26.4)\n",
            "Requirement already satisfied: rich in /usr/local/lib/python3.10/dist-packages (from keras->keras-tuner) (13.9.4)\n",
            "Requirement already satisfied: namex in /usr/local/lib/python3.10/dist-packages (from keras->keras-tuner) (0.0.8)\n",
            "Requirement already satisfied: h5py in /usr/local/lib/python3.10/dist-packages (from keras->keras-tuner) (3.12.1)\n",
            "Requirement already satisfied: optree in /usr/local/lib/python3.10/dist-packages (from keras->keras-tuner) (0.13.1)\n",
            "Requirement already satisfied: ml-dtypes in /usr/local/lib/python3.10/dist-packages (from keras->keras-tuner) (0.4.1)\n",
            "Requirement already satisfied: charset-normalizer<4,>=2 in /usr/local/lib/python3.10/dist-packages (from requests->keras-tuner) (3.4.0)\n",
            "Requirement already satisfied: idna<4,>=2.5 in /usr/local/lib/python3.10/dist-packages (from requests->keras-tuner) (3.10)\n",
            "Requirement already satisfied: urllib3<3,>=1.21.1 in /usr/local/lib/python3.10/dist-packages (from requests->keras-tuner) (2.2.3)\n",
            "Requirement already satisfied: certifi>=2017.4.17 in /usr/local/lib/python3.10/dist-packages (from requests->keras-tuner) (2024.8.30)\n",
            "Requirement already satisfied: typing-extensions>=4.5.0 in /usr/local/lib/python3.10/dist-packages (from optree->keras->keras-tuner) (4.12.2)\n",
            "Requirement already satisfied: markdown-it-py>=2.2.0 in /usr/local/lib/python3.10/dist-packages (from rich->keras->keras-tuner) (3.0.0)\n",
            "Requirement already satisfied: pygments<3.0.0,>=2.13.0 in /usr/local/lib/python3.10/dist-packages (from rich->keras->keras-tuner) (2.18.0)\n",
            "Requirement already satisfied: mdurl~=0.1 in /usr/local/lib/python3.10/dist-packages (from markdown-it-py>=2.2.0->rich->keras->keras-tuner) (0.1.2)\n",
            "Downloading keras_tuner-1.4.7-py3-none-any.whl (129 kB)\n",
            "\u001b[2K   \u001b[90m━━━━━━━━━━━━━━━━━━━━━━━━━━━━━━━━━━━━━━━━\u001b[0m \u001b[32m129.1/129.1 kB\u001b[0m \u001b[31m2.4 MB/s\u001b[0m eta \u001b[36m0:00:00\u001b[0m\n",
            "\u001b[?25hDownloading kt_legacy-1.0.5-py3-none-any.whl (9.6 kB)\n",
            "Installing collected packages: kt-legacy, keras-tuner\n",
            "Successfully installed keras-tuner-1.4.7 kt-legacy-1.0.5\n"
          ]
        }
      ]
    },
    {
      "cell_type": "code",
      "execution_count": 2,
      "metadata": {
        "id": "AdHxGtLwbZxu"
      },
      "outputs": [],
      "source": [
        "import os\n",
        "import zipfile\n",
        "import tensorflow as tf\n",
        "\n",
        "from google.colab import drive\n",
        "from keras_tuner import HyperModel, RandomSearch\n",
        "\n",
        "from tensorflow.keras import layers, models, regularizers\n",
        "\n",
        "from tensorflow.keras.preprocessing.image import ImageDataGenerator\n",
        "from tensorflow.keras.mixed_precision import Policy, set_global_policy\n",
        "from tensorflow.keras.callbacks import EarlyStopping, ReduceLROnPlateau"
      ]
    },
    {
      "cell_type": "code",
      "source": [
        "# Información sobre el uso de la gpu\n",
        "tf.debugging.set_log_device_placement(False)"
      ],
      "metadata": {
        "id": "ET1UoAhRqyrq"
      },
      "execution_count": 3,
      "outputs": []
    },
    {
      "cell_type": "code",
      "source": [
        "gpus = tf.config.list_physical_devices('GPU')\n",
        "if gpus:\n",
        "    try:\n",
        "        for gpu in gpus:\n",
        "            tf.config.experimental.set_memory_growth(gpu, True)\n",
        "        print(\"Configuración de crecimiento de memoria establecida para la GPU.\")\n",
        "    except RuntimeError as e:\n",
        "        print(f\"Error al configurar el crecimiento de memoria: {e}\")"
      ],
      "metadata": {
        "colab": {
          "base_uri": "https://localhost:8080/"
        },
        "id": "tpTUxlQmoUzN",
        "outputId": "4ff13654-f915-4c81-9726-a722525bdb78"
      },
      "execution_count": 4,
      "outputs": [
        {
          "output_type": "stream",
          "name": "stdout",
          "text": [
            "Configuración de crecimiento de memoria establecida para la GPU.\n"
          ]
        }
      ]
    },
    {
      "cell_type": "code",
      "source": [
        "drive.mount('/drive')"
      ],
      "metadata": {
        "colab": {
          "base_uri": "https://localhost:8080/"
        },
        "id": "NIPRkp-fraBJ",
        "outputId": "cf9e5cbb-4f1e-4aef-c50b-7b438c283c5f"
      },
      "execution_count": 5,
      "outputs": [
        {
          "output_type": "stream",
          "name": "stdout",
          "text": [
            "Mounted at /drive\n"
          ]
        }
      ]
    },
    {
      "cell_type": "code",
      "source": [
        "# Se extrae el archivo zip\n",
        "zip_path = '/drive/MyDrive/images_processed.zip'\n",
        "extract_dir = 'images_processed'\n",
        "\n",
        "# Descomprimir el archivo ZIP\n",
        "with zipfile.ZipFile(zip_path, 'r') as zip_file:\n",
        "    zip_file.extractall(extract_dir)"
      ],
      "metadata": {
        "id": "M6iEIKitdypm"
      },
      "execution_count": 6,
      "outputs": []
    },
    {
      "cell_type": "code",
      "source": [
        "# Tamaño de la imagen y las categorías\n",
        "img_height = 64\n",
        "img_width = 64\n",
        "batch_size = 64\n",
        "num_categories = 10"
      ],
      "metadata": {
        "id": "e8L67rDGdzwh"
      },
      "execution_count": 7,
      "outputs": []
    },
    {
      "cell_type": "code",
      "source": [
        "def preprocess_input(image):\n",
        "    # Centra y escala la imagen\n",
        "    return (image - 127.5) / 255.0"
      ],
      "metadata": {
        "id": "AShv2Tl_eYdE"
      },
      "execution_count": 8,
      "outputs": []
    },
    {
      "cell_type": "code",
      "source": [
        "# Directorio\n",
        "extract_dir = 'images_processed'\n",
        "# Lista todas las clases disponibles\n",
        "all_classes = sorted(os.listdir(extract_dir))\n",
        "\n",
        "# Selecciona las primeras clases\n",
        "selected_classes = all_classes[:num_categories]"
      ],
      "metadata": {
        "id": "gZ8UCo77ePuT"
      },
      "execution_count": 9,
      "outputs": []
    },
    {
      "cell_type": "code",
      "source": [
        "print(f\"Clases seleccionadas: {selected_classes}\")"
      ],
      "metadata": {
        "colab": {
          "base_uri": "https://localhost:8080/"
        },
        "id": "VZDH0JM1fUJq",
        "outputId": "7b03aad3-a820-4c32-9d49-bd761b1b1722"
      },
      "execution_count": 10,
      "outputs": [
        {
          "output_type": "stream",
          "name": "stdout",
          "text": [
            "Clases seleccionadas: ['Amethyst_0', 'Azurite_1', 'Calcite_2', 'Copper_3', 'Fluorite_4', 'Malachite_5', 'Pyrite_6', 'Pyromorphite_7', 'Quartz_8', 'Wulfenite_9']\n"
          ]
        }
      ]
    },
    {
      "cell_type": "code",
      "source": [
        "# Usar un generador personalizado\n",
        "train_datagen = ImageDataGenerator(\n",
        "    preprocessing_function=preprocess_input,\n",
        "    validation_split=0.1,\n",
        "    rotation_range=10,           # Rotaciones aleatorias\n",
        "    width_shift_range=0.1,       # Desplazamiento horizontal aleatorio\n",
        "    height_shift_range=0.1,      # Desplazamiento vertical aleatorio\n",
        "    shear_range=0.1,             # Transformaciones de corte\n",
        "    zoom_range=0.1,              # Zoom aleatorio\n",
        "    horizontal_flip=True,        # Volteo horizontal\n",
        "    fill_mode='nearest'          # Relleno de píxeles\n",
        ")\n",
        "\n",
        "# Generador de imágenes para el conjunto de entrenamiento\n",
        "train_generator = train_datagen.flow_from_directory(\n",
        "    extract_dir,\n",
        "    target_size=(img_height, img_width),\n",
        "    batch_size=batch_size,\n",
        "    class_mode='categorical',\n",
        "    subset='training',\n",
        "    classes=selected_classes,\n",
        "    shuffle=True\n",
        ")\n",
        "\n",
        "# Generador de imágenes para el conjunto de validación\n",
        "validation_generator = train_datagen.flow_from_directory(\n",
        "    extract_dir,\n",
        "    target_size=(img_height, img_width),\n",
        "    batch_size=batch_size,\n",
        "    class_mode='categorical',\n",
        "    subset='validation',\n",
        "    classes=selected_classes,\n",
        "    shuffle=False\n",
        ")"
      ],
      "metadata": {
        "colab": {
          "base_uri": "https://localhost:8080/"
        },
        "id": "rZWc2lHwedZ2",
        "outputId": "c2f470f9-aa06-4049-aee2-8d3f8815241a"
      },
      "execution_count": 11,
      "outputs": [
        {
          "output_type": "stream",
          "name": "stdout",
          "text": [
            "Found 45000 images belonging to 10 classes.\n",
            "Found 5000 images belonging to 10 classes.\n"
          ]
        }
      ]
    },
    {
      "cell_type": "code",
      "source": [
        "# Imprime la información sobre las clases\n",
        "print(\"Class mapping:\", train_generator.class_indices)"
      ],
      "metadata": {
        "colab": {
          "base_uri": "https://localhost:8080/"
        },
        "id": "In6Wq9xvednC",
        "outputId": "c4f83258-a211-4f6f-ccef-f43becb673e4"
      },
      "execution_count": 12,
      "outputs": [
        {
          "output_type": "stream",
          "name": "stdout",
          "text": [
            "Class mapping: {'Amethyst_0': 0, 'Azurite_1': 1, 'Calcite_2': 2, 'Copper_3': 3, 'Fluorite_4': 4, 'Malachite_5': 5, 'Pyrite_6': 6, 'Pyromorphite_7': 7, 'Quartz_8': 8, 'Wulfenite_9': 9}\n"
          ]
        }
      ]
    },
    {
      "cell_type": "code",
      "source": [
        "# Convierte el generador en un tf.data.Dataset para agregar repetición y precarga\n",
        "train_dataset = tf.data.Dataset.from_generator(\n",
        "    lambda: train_generator,\n",
        "    output_signature=(\n",
        "        tf.TensorSpec(shape=(None, img_height, img_width, 3), dtype=tf.float32),\n",
        "        tf.TensorSpec(shape=(None, num_categories), dtype=tf.float32)\n",
        "    )\n",
        ")\n",
        "\n",
        "validation_dataset = tf.data.Dataset.from_generator(\n",
        "    lambda: validation_generator,\n",
        "    output_signature=(\n",
        "        tf.TensorSpec(shape=(None, img_height, img_width, 3), dtype=tf.float32),\n",
        "        tf.TensorSpec(shape=(None, num_categories), dtype=tf.float32)\n",
        "    )\n",
        ")\n",
        "\n",
        "train_dataset = train_dataset.repeat()\n",
        "validation_dataset = validation_dataset.repeat()\n",
        "\n",
        "train_dataset = train_dataset.prefetch(tf.data.AUTOTUNE)\n",
        "validation_dataset = validation_dataset.prefetch(tf.data.AUTOTUNE)"
      ],
      "metadata": {
        "id": "dERSkiUSedqN"
      },
      "execution_count": 13,
      "outputs": []
    },
    {
      "cell_type": "code",
      "source": [
        "# Usa precisión mixta\n",
        "policy = Policy('mixed_float16')\n",
        "set_global_policy(policy)\n",
        "print(f\"Política de precisión actual: {tf.keras.mixed_precision.global_policy()}\")"
      ],
      "metadata": {
        "colab": {
          "base_uri": "https://localhost:8080/"
        },
        "id": "k6FedO_qoc3D",
        "outputId": "f4bf73a5-2423-4f0e-b96c-62288455765c"
      },
      "execution_count": 14,
      "outputs": [
        {
          "output_type": "stream",
          "name": "stdout",
          "text": [
            "Política de precisión actual: <DTypePolicy \"mixed_float16\">\n"
          ]
        }
      ]
    },
    {
      "cell_type": "code",
      "source": [
        "# Definición del modelo con Keras Tuner para optimización de hiperparámetros\n",
        "class MyHyperModel(HyperModel):\n",
        "    def build(self, hp):\n",
        "        model = models.Sequential([\n",
        "\n",
        "            # Capa 1\n",
        "            layers.Conv2D(64, (3, 3), activation='relu', padding='same', input_shape=(img_height, img_width, 3)),\n",
        "            layers.MaxPooling2D((2, 2)),\n",
        "\n",
        "            # Capa 2\n",
        "            layers.Conv2D(128, (3, 3), activation='relu', padding='same'),\n",
        "            layers.MaxPooling2D((2, 2)),\n",
        "\n",
        "            # Capa 3\n",
        "            layers.Conv2D(256, (3, 3), activation='relu', padding='same'),\n",
        "            layers.MaxPooling2D((2, 2)),\n",
        "\n",
        "            # Capa 4\n",
        "            layers.Conv2D(512, (3, 3), activation='relu', padding='same'),\n",
        "            layers.MaxPooling2D((2, 2)),\n",
        "\n",
        "            # Capa 5\n",
        "            layers.Conv2D(1024, (3, 3), activation='relu', padding='same'),\n",
        "            layers.MaxPooling2D((2, 2)),\n",
        "\n",
        "            # Aplanamiento\n",
        "            layers.GlobalAveragePooling2D(),\n",
        "\n",
        "            # Capa densa con dropout y regularización L2\n",
        "            layers.Dense(\n",
        "            hp.Choice('units', values=[512, 1024]),\n",
        "            activation='relu',\n",
        "            kernel_regularizer=regularizers.l2(hp.Float('l2', min_value=1e-5, max_value=1e-1, sampling='log'))\n",
        "            ),\n",
        "            layers.Dropout(rate=hp.Float('dropout', min_value=0.1, max_value=0.5, step=0.1)),\n",
        "\n",
        "            # Capa de salida\n",
        "            layers.Dense(num_categories, activation='softmax')\n",
        "        ])\n",
        "\n",
        "        # Compilación del modelo\n",
        "        model.compile(\n",
        "            optimizer='adam',\n",
        "            loss='categorical_crossentropy',\n",
        "            metrics=['accuracy']\n",
        "        )\n",
        "\n",
        "        return model"
      ],
      "metadata": {
        "id": "sMp23F3sedta"
      },
      "execution_count": 15,
      "outputs": []
    },
    {
      "cell_type": "code",
      "source": [
        "# Configuración de Keras Tuner\n",
        "hypermodel = MyHyperModel()"
      ],
      "metadata": {
        "id": "COdFeG9pH6zz"
      },
      "execution_count": 16,
      "outputs": []
    },
    {
      "cell_type": "code",
      "source": [
        "# Realiza la búsqueda aleatoria de hiperparámetros\n",
        "tuner = RandomSearch(\n",
        "    hypermodel,\n",
        "    objective='val_accuracy',\n",
        "    max_trials=8,\n",
        "    executions_per_trial=1,\n",
        "    directory='keras_tuning',\n",
        "    project_name='hyperparameter_tuning'\n",
        ")"
      ],
      "metadata": {
        "colab": {
          "base_uri": "https://localhost:8080/"
        },
        "id": "vQf56PWaIPzL",
        "outputId": "49881497-97d6-406c-fc7c-8303b0788a0d"
      },
      "execution_count": 17,
      "outputs": [
        {
          "output_type": "stream",
          "name": "stderr",
          "text": [
            "/usr/local/lib/python3.10/dist-packages/keras/src/layers/convolutional/base_conv.py:107: UserWarning: Do not pass an `input_shape`/`input_dim` argument to a layer. When using Sequential models, prefer using an `Input(shape)` object as the first layer in the model instead.\n",
            "  super().__init__(activity_regularizer=activity_regularizer, **kwargs)\n"
          ]
        }
      ]
    },
    {
      "cell_type": "code",
      "source": [
        "# Realiza la búsqueda de hiperparámetros\n",
        "tuner.search(\n",
        "    train_dataset,\n",
        "    epochs=10,\n",
        "    validation_data=validation_dataset,\n",
        "    validation_steps=validation_generator.samples // batch_size,\n",
        "    steps_per_epoch=train_generator.samples // batch_size,\n",
        ")"
      ],
      "metadata": {
        "colab": {
          "base_uri": "https://localhost:8080/"
        },
        "id": "XoNJKLyHQrTr",
        "outputId": "ef758b5e-aa77-4232-f042-1e981274d27c"
      },
      "execution_count": 18,
      "outputs": [
        {
          "output_type": "stream",
          "name": "stdout",
          "text": [
            "Trial 8 Complete [00h 18m 09s]\n",
            "val_accuracy: 0.6134521961212158\n",
            "\n",
            "Best val_accuracy So Far: 0.6213533282279968\n",
            "Total elapsed time: 02h 25m 27s\n"
          ]
        }
      ]
    },
    {
      "cell_type": "code",
      "source": [
        "# Muestra los resultados de todas las combinaciones de hiperparámetros\n",
        "for trial in tuner.oracle.trials.values():\n",
        "    trial_hps = trial.hyperparameters.values\n",
        "    val_accuracy = trial.score\n",
        "    print(f\"Hiperparámetros: {trial_hps}\")\n",
        "    print(f\"Precisión en validación: {val_accuracy}\")\n",
        "    print(\"---------------\")"
      ],
      "metadata": {
        "colab": {
          "base_uri": "https://localhost:8080/"
        },
        "id": "yWbx5M3fIbbL",
        "outputId": "4162f897-26ab-42b9-8f66-023b4b0d04a7"
      },
      "execution_count": 19,
      "outputs": [
        {
          "output_type": "stream",
          "name": "stdout",
          "text": [
            "Hiperparámetros: {'units': 512, 'l2': 0.03412201943829172, 'dropout': 0.5}\n",
            "Precisión en validación: 0.6112236380577087\n",
            "---------------\n",
            "Hiperparámetros: {'units': 512, 'l2': 3.173510685995567e-05, 'dropout': 0.30000000000000004}\n",
            "Precisión en validación: 0.6193273663520813\n",
            "---------------\n",
            "Hiperparámetros: {'units': 1024, 'l2': 0.02141470614184636, 'dropout': 0.1}\n",
            "Precisión en validación: 0.6191247701644897\n",
            "---------------\n",
            "Hiperparámetros: {'units': 512, 'l2': 0.0049156346408599895, 'dropout': 0.5}\n",
            "Precisión en validación: 0.6173014640808105\n",
            "---------------\n",
            "Hiperparámetros: {'units': 1024, 'l2': 0.0006477101798213585, 'dropout': 0.1}\n",
            "Precisión en validación: 0.6213533282279968\n",
            "---------------\n",
            "Hiperparámetros: {'units': 1024, 'l2': 4.7266372509037394e-05, 'dropout': 0.30000000000000004}\n",
            "Precisión en validación: 0.6154780983924866\n",
            "---------------\n",
            "Hiperparámetros: {'units': 512, 'l2': 0.020875682692884864, 'dropout': 0.30000000000000004}\n",
            "Precisión en validación: 0.6185170412063599\n",
            "---------------\n",
            "Hiperparámetros: {'units': 1024, 'l2': 0.0001012272514696805, 'dropout': 0.5}\n",
            "Precisión en validación: 0.6134521961212158\n",
            "---------------\n"
          ]
        }
      ]
    }
  ]
}